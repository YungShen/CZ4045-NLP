{
  "nbformat": 4,
  "nbformat_minor": 0,
  "metadata": {
    "orig_nbformat": 4,
    "language_info": {
      "name": "python",
      "version": "3.9.7",
      "mimetype": "text/x-python",
      "codemirror_mode": {
        "name": "ipython",
        "version": 3
      },
      "pygments_lexer": "ipython3",
      "nbconvert_exporter": "python",
      "file_extension": ".py"
    },
    "kernelspec": {
      "name": "python3",
      "display_name": "Python 3.9.6 64-bit ('py39': conda)"
    },
    "interpreter": {
      "hash": "f0ca31ee8bacb6d5c86a87937f17b5ffe89d783dfdd3e0338ef63a30562a16fa"
    },
    "colab": {
      "name": "sentiment.ipynb",
      "provenance": [],
      "collapsed_sections": []
    }
  },
  "cells": [
    {
      "cell_type": "code",
      "metadata": {
        "id": "xvu2x6hNvR_O",
        "colab": {
          "base_uri": "https://localhost:8080/"
        },
        "outputId": "2a99f9d6-206f-4e6f-940e-fd1e0e5c5437"
      },
      "source": [
        "!pip install langdetect"
      ],
      "execution_count": null,
      "outputs": [
        {
          "output_type": "stream",
          "name": "stdout",
          "text": [
            "Collecting langdetect\n",
            "  Downloading langdetect-1.0.9.tar.gz (981 kB)\n",
            "\u001b[?25l\r\u001b[K     |▍                               | 10 kB 38.0 MB/s eta 0:00:01\r\u001b[K     |▊                               | 20 kB 19.5 MB/s eta 0:00:01\r\u001b[K     |█                               | 30 kB 19.2 MB/s eta 0:00:01\r\u001b[K     |█▍                              | 40 kB 16.3 MB/s eta 0:00:01\r\u001b[K     |█▊                              | 51 kB 5.6 MB/s eta 0:00:01\r\u001b[K     |██                              | 61 kB 6.0 MB/s eta 0:00:01\r\u001b[K     |██▍                             | 71 kB 5.6 MB/s eta 0:00:01\r\u001b[K     |██▊                             | 81 kB 6.3 MB/s eta 0:00:01\r\u001b[K     |███                             | 92 kB 6.5 MB/s eta 0:00:01\r\u001b[K     |███▍                            | 102 kB 5.4 MB/s eta 0:00:01\r\u001b[K     |███▊                            | 112 kB 5.4 MB/s eta 0:00:01\r\u001b[K     |████                            | 122 kB 5.4 MB/s eta 0:00:01\r\u001b[K     |████▍                           | 133 kB 5.4 MB/s eta 0:00:01\r\u001b[K     |████▊                           | 143 kB 5.4 MB/s eta 0:00:01\r\u001b[K     |█████                           | 153 kB 5.4 MB/s eta 0:00:01\r\u001b[K     |█████▍                          | 163 kB 5.4 MB/s eta 0:00:01\r\u001b[K     |█████▊                          | 174 kB 5.4 MB/s eta 0:00:01\r\u001b[K     |██████                          | 184 kB 5.4 MB/s eta 0:00:01\r\u001b[K     |██████▍                         | 194 kB 5.4 MB/s eta 0:00:01\r\u001b[K     |██████▊                         | 204 kB 5.4 MB/s eta 0:00:01\r\u001b[K     |███████                         | 215 kB 5.4 MB/s eta 0:00:01\r\u001b[K     |███████▍                        | 225 kB 5.4 MB/s eta 0:00:01\r\u001b[K     |███████▊                        | 235 kB 5.4 MB/s eta 0:00:01\r\u001b[K     |████████                        | 245 kB 5.4 MB/s eta 0:00:01\r\u001b[K     |████████▍                       | 256 kB 5.4 MB/s eta 0:00:01\r\u001b[K     |████████▊                       | 266 kB 5.4 MB/s eta 0:00:01\r\u001b[K     |█████████                       | 276 kB 5.4 MB/s eta 0:00:01\r\u001b[K     |█████████▍                      | 286 kB 5.4 MB/s eta 0:00:01\r\u001b[K     |█████████▊                      | 296 kB 5.4 MB/s eta 0:00:01\r\u001b[K     |██████████                      | 307 kB 5.4 MB/s eta 0:00:01\r\u001b[K     |██████████▍                     | 317 kB 5.4 MB/s eta 0:00:01\r\u001b[K     |██████████▊                     | 327 kB 5.4 MB/s eta 0:00:01\r\u001b[K     |███████████                     | 337 kB 5.4 MB/s eta 0:00:01\r\u001b[K     |███████████▍                    | 348 kB 5.4 MB/s eta 0:00:01\r\u001b[K     |███████████▊                    | 358 kB 5.4 MB/s eta 0:00:01\r\u001b[K     |████████████                    | 368 kB 5.4 MB/s eta 0:00:01\r\u001b[K     |████████████▍                   | 378 kB 5.4 MB/s eta 0:00:01\r\u001b[K     |████████████▊                   | 389 kB 5.4 MB/s eta 0:00:01\r\u001b[K     |█████████████                   | 399 kB 5.4 MB/s eta 0:00:01\r\u001b[K     |█████████████▍                  | 409 kB 5.4 MB/s eta 0:00:01\r\u001b[K     |█████████████▊                  | 419 kB 5.4 MB/s eta 0:00:01\r\u001b[K     |██████████████                  | 430 kB 5.4 MB/s eta 0:00:01\r\u001b[K     |██████████████▍                 | 440 kB 5.4 MB/s eta 0:00:01\r\u001b[K     |██████████████▊                 | 450 kB 5.4 MB/s eta 0:00:01\r\u001b[K     |███████████████                 | 460 kB 5.4 MB/s eta 0:00:01\r\u001b[K     |███████████████▍                | 471 kB 5.4 MB/s eta 0:00:01\r\u001b[K     |███████████████▊                | 481 kB 5.4 MB/s eta 0:00:01\r\u001b[K     |████████████████                | 491 kB 5.4 MB/s eta 0:00:01\r\u001b[K     |████████████████▍               | 501 kB 5.4 MB/s eta 0:00:01\r\u001b[K     |████████████████▊               | 512 kB 5.4 MB/s eta 0:00:01\r\u001b[K     |█████████████████               | 522 kB 5.4 MB/s eta 0:00:01\r\u001b[K     |█████████████████▍              | 532 kB 5.4 MB/s eta 0:00:01\r\u001b[K     |█████████████████▊              | 542 kB 5.4 MB/s eta 0:00:01\r\u001b[K     |██████████████████              | 552 kB 5.4 MB/s eta 0:00:01\r\u001b[K     |██████████████████▍             | 563 kB 5.4 MB/s eta 0:00:01\r\u001b[K     |██████████████████▊             | 573 kB 5.4 MB/s eta 0:00:01\r\u001b[K     |███████████████████             | 583 kB 5.4 MB/s eta 0:00:01\r\u001b[K     |███████████████████▍            | 593 kB 5.4 MB/s eta 0:00:01\r\u001b[K     |███████████████████▊            | 604 kB 5.4 MB/s eta 0:00:01\r\u001b[K     |████████████████████            | 614 kB 5.4 MB/s eta 0:00:01\r\u001b[K     |████████████████████▍           | 624 kB 5.4 MB/s eta 0:00:01\r\u001b[K     |████████████████████▊           | 634 kB 5.4 MB/s eta 0:00:01\r\u001b[K     |█████████████████████           | 645 kB 5.4 MB/s eta 0:00:01\r\u001b[K     |█████████████████████▍          | 655 kB 5.4 MB/s eta 0:00:01\r\u001b[K     |█████████████████████▊          | 665 kB 5.4 MB/s eta 0:00:01\r\u001b[K     |██████████████████████          | 675 kB 5.4 MB/s eta 0:00:01\r\u001b[K     |██████████████████████▍         | 686 kB 5.4 MB/s eta 0:00:01\r\u001b[K     |██████████████████████▊         | 696 kB 5.4 MB/s eta 0:00:01\r\u001b[K     |███████████████████████         | 706 kB 5.4 MB/s eta 0:00:01\r\u001b[K     |███████████████████████▍        | 716 kB 5.4 MB/s eta 0:00:01\r\u001b[K     |███████████████████████▊        | 727 kB 5.4 MB/s eta 0:00:01\r\u001b[K     |████████████████████████        | 737 kB 5.4 MB/s eta 0:00:01\r\u001b[K     |████████████████████████▍       | 747 kB 5.4 MB/s eta 0:00:01\r\u001b[K     |████████████████████████▊       | 757 kB 5.4 MB/s eta 0:00:01\r\u001b[K     |█████████████████████████       | 768 kB 5.4 MB/s eta 0:00:01\r\u001b[K     |█████████████████████████▍      | 778 kB 5.4 MB/s eta 0:00:01\r\u001b[K     |█████████████████████████▊      | 788 kB 5.4 MB/s eta 0:00:01\r\u001b[K     |██████████████████████████      | 798 kB 5.4 MB/s eta 0:00:01\r\u001b[K     |██████████████████████████▍     | 808 kB 5.4 MB/s eta 0:00:01\r\u001b[K     |██████████████████████████▊     | 819 kB 5.4 MB/s eta 0:00:01\r\u001b[K     |███████████████████████████     | 829 kB 5.4 MB/s eta 0:00:01\r\u001b[K     |███████████████████████████▍    | 839 kB 5.4 MB/s eta 0:00:01\r\u001b[K     |███████████████████████████▊    | 849 kB 5.4 MB/s eta 0:00:01\r\u001b[K     |████████████████████████████    | 860 kB 5.4 MB/s eta 0:00:01\r\u001b[K     |████████████████████████████▍   | 870 kB 5.4 MB/s eta 0:00:01\r\u001b[K     |████████████████████████████▊   | 880 kB 5.4 MB/s eta 0:00:01\r\u001b[K     |█████████████████████████████   | 890 kB 5.4 MB/s eta 0:00:01\r\u001b[K     |█████████████████████████████▍  | 901 kB 5.4 MB/s eta 0:00:01\r\u001b[K     |█████████████████████████████▊  | 911 kB 5.4 MB/s eta 0:00:01\r\u001b[K     |██████████████████████████████  | 921 kB 5.4 MB/s eta 0:00:01\r\u001b[K     |██████████████████████████████▍ | 931 kB 5.4 MB/s eta 0:00:01\r\u001b[K     |██████████████████████████████▊ | 942 kB 5.4 MB/s eta 0:00:01\r\u001b[K     |███████████████████████████████ | 952 kB 5.4 MB/s eta 0:00:01\r\u001b[K     |███████████████████████████████▍| 962 kB 5.4 MB/s eta 0:00:01\r\u001b[K     |███████████████████████████████▊| 972 kB 5.4 MB/s eta 0:00:01\r\u001b[K     |████████████████████████████████| 981 kB 5.4 MB/s \n",
            "\u001b[?25hRequirement already satisfied: six in /usr/local/lib/python3.7/dist-packages (from langdetect) (1.15.0)\n",
            "Building wheels for collected packages: langdetect\n",
            "  Building wheel for langdetect (setup.py) ... \u001b[?25l\u001b[?25hdone\n",
            "  Created wheel for langdetect: filename=langdetect-1.0.9-py3-none-any.whl size=993242 sha256=e403d1c601392736e2dc2692a6ba72aea9cb51e029e3149cf23e464dd240ae07\n",
            "  Stored in directory: /root/.cache/pip/wheels/c5/96/8a/f90c59ed25d75e50a8c10a1b1c2d4c402e4dacfa87f3aff36a\n",
            "Successfully built langdetect\n",
            "Installing collected packages: langdetect\n",
            "Successfully installed langdetect-1.0.9\n"
          ]
        }
      ]
    },
    {
      "cell_type": "code",
      "metadata": {
        "id": "QrANf-LAvR-k",
        "colab": {
          "base_uri": "https://localhost:8080/"
        },
        "outputId": "bf9faa74-9a5b-4b9a-db8c-c3e3aecf564a"
      },
      "source": [
        "import numpy as np\n",
        "import pandas as pd\n",
        "import os\n",
        "import json\n",
        "import matplotlib as mpl\n",
        "import matplotlib.pyplot as plt\n",
        "import seaborn as sns\n",
        "import nltk\n",
        "import re\n",
        "import string\n",
        "SEED = 42\n",
        "import random \n",
        "random.seed(SEED)\n",
        "from nltk.corpus import stopwords\n",
        "nltk.download('stopwords')\n",
        "from nltk.stem import PorterStemmer\n",
        "from nltk.tokenize import TweetTokenizer,word_tokenize\n",
        "\n",
        "from langdetect import detect,detect_langs\n",
        "%matplotlib inline"
      ],
      "execution_count": null,
      "outputs": [
        {
          "output_type": "stream",
          "name": "stdout",
          "text": [
            "[nltk_data] Downloading package stopwords to /root/nltk_data...\n",
            "[nltk_data]   Unzipping corpora/stopwords.zip.\n"
          ]
        }
      ]
    },
    {
      "cell_type": "code",
      "metadata": {
        "colab": {
          "base_uri": "https://localhost:8080/"
        },
        "id": "KpSFPYpsKtji",
        "outputId": "331bdadf-99a0-47e8-8244-35004c6a0062"
      },
      "source": [
        "from google.colab import drive\n",
        "drive.mount('/content/drive')"
      ],
      "execution_count": null,
      "outputs": [
        {
          "output_type": "stream",
          "name": "stdout",
          "text": [
            "Mounted at /content/drive\n"
          ]
        }
      ]
    },
    {
      "cell_type": "code",
      "metadata": {
        "id": "mmKNTbyD2RXX"
      },
      "source": [
        "df=pd.read_csv('/content/drive/MyDrive/reviewSelected100.csv')"
      ],
      "execution_count": null,
      "outputs": []
    },
    {
      "cell_type": "code",
      "metadata": {
        "colab": {
          "base_uri": "https://localhost:8080/"
        },
        "id": "A-2nrFFYZf2_",
        "outputId": "98fbc69f-67fb-4e09-cf94-6b41c6ff48e6"
      },
      "source": [
        "df.info()"
      ],
      "execution_count": null,
      "outputs": [
        {
          "output_type": "stream",
          "name": "stdout",
          "text": [
            "<class 'pandas.core.frame.DataFrame'>\n",
            "RangeIndex: 15300 entries, 0 to 15299\n",
            "Data columns (total 9 columns):\n",
            " #   Column       Non-Null Count  Dtype  \n",
            "---  ------       --------------  -----  \n",
            " 0   review_id    15300 non-null  object \n",
            " 1   user_id      15300 non-null  object \n",
            " 2   business_id  15300 non-null  object \n",
            " 3   stars        15300 non-null  float64\n",
            " 4   useful       15300 non-null  int64  \n",
            " 5   funny        15300 non-null  int64  \n",
            " 6   cool         15300 non-null  int64  \n",
            " 7   text         15300 non-null  object \n",
            " 8   date         15300 non-null  object \n",
            "dtypes: float64(1), int64(3), object(5)\n",
            "memory usage: 1.1+ MB\n"
          ]
        }
      ]
    },
    {
      "cell_type": "markdown",
      "metadata": {
        "id": "-IxPrWl6kVHp"
      },
      "source": [
        "Not a bad little pub. Had the sliders, salt and pepper wings, and mushroom burger -- forgettable, but good. The fries are what I will remember, and come back for."
      ]
    },
    {
      "cell_type": "code",
      "metadata": {
        "id": "3R0T-72_vR_E",
        "colab": {
          "base_uri": "https://localhost:8080/",
          "height": 295
        },
        "outputId": "627b0e60-65aa-4380-857c-32e72c733bf3"
      },
      "source": [
        "ax = sns.barplot(data=df, x='stars', y='stars', estimator=lambda x: len(x) / len(df) * 100)\n",
        "ax.set(ylabel=\"Percent\")\n",
        "plt.title('Distribution of Customer Rating')\n",
        "plt.show()"
      ],
      "execution_count": null,
      "outputs": [
        {
          "output_type": "display_data",
          "data": {
            "image/png": "[encoded data removed]",
            "text/plain": [
              "<Figure size 432x288 with 1 Axes>"
            ]
          },
          "metadata": {
            "needs_background": "light"
          }
        }
      ]
    },
    {
      "cell_type": "code",
      "metadata": {
        "id": "ptWpNwwGvR-_",
        "colab": {
          "base_uri": "https://localhost:8080/"
        },
        "outputId": "c257c235-3e5f-4ab1-d3b2-5d7c8c31d382"
      },
      "source": [
        "print('Total Businesss: %d'%len(df['business_id'].unique()))\n",
        "print('Total Reviews: %d'%len(df[['text']]))\n",
        "print('Total Labels: %d'%len(df[['stars']]))"
      ],
      "execution_count": null,
      "outputs": [
        {
          "output_type": "stream",
          "name": "stdout",
          "text": [
            "Total Businesss: 153\n",
            "Total Reviews: 15300\n",
            "Total Labels: 15300\n"
          ]
        }
      ]
    },
    {
      "cell_type": "markdown",
      "metadata": {
        "id": "GH0K5ET4aGxG"
      },
      "source": [
        "data_df.loc[data_df['stars'] == 3, 'sentiment'] = 'neutral' \n",
        "data_df.loc[data_df['stars'] < 3, 'sentiment'] = 'negative' \n",
        "data_df.loc[data_df['stars'] > 3, 'sentiment'] = 'positive'"
      ]
    },
    {
      "cell_type": "code",
      "metadata": {
        "id": "7Dts0ZV3vR_B",
        "colab": {
          "base_uri": "https://localhost:8080/",
          "height": 204
        },
        "outputId": "6f1f6f0f-ef10-471f-b576-c7cfed3d0e1c"
      },
      "source": [
        "data_df=df[['business_id','text','stars']]\n",
        "\n",
        "data_df=data_df.reset_index(drop=True)\n",
        "data_df.head()"
      ],
      "execution_count": null,
      "outputs": [
        {
          "output_type": "execute_result",
          "data": {
            "text/html": [
              "<div>\n",
              "<style scoped>\n",
              "    .dataframe tbody tr th:only-of-type {\n",
              "        vertical-align: middle;\n",
              "    }\n",
              "\n",
              "    .dataframe tbody tr th {\n",
              "        vertical-align: top;\n",
              "    }\n",
              "\n",
              "    .dataframe thead th {\n",
              "        text-align: right;\n",
              "    }\n",
              "</style>\n",
              "<table border=\"1\" class=\"dataframe\">\n",
              "  <thead>\n",
              "    <tr style=\"text-align: right;\">\n",
              "      <th></th>\n",
              "      <th>business_id</th>\n",
              "      <th>text</th>\n",
              "      <th>stars</th>\n",
              "    </tr>\n",
              "  </thead>\n",
              "  <tbody>\n",
              "    <tr>\n",
              "      <th>0</th>\n",
              "      <td>ZBE-H_aUlicix_9vUGQPIQ</td>\n",
              "      <td>We had my Mother's Birthday Party here on 10/2...</td>\n",
              "      <td>5.0</td>\n",
              "    </tr>\n",
              "    <tr>\n",
              "      <th>1</th>\n",
              "      <td>e-YnECeZNt8ngm0tu4X9mQ</td>\n",
              "      <td>Good Korean grill near Eaton Centre. The marin...</td>\n",
              "      <td>4.0</td>\n",
              "    </tr>\n",
              "    <tr>\n",
              "      <th>2</th>\n",
              "      <td>j7HO1YeMQGYo3KibMXZ5vg</td>\n",
              "      <td>Was recommended to try this place by few peopl...</td>\n",
              "      <td>5.0</td>\n",
              "    </tr>\n",
              "    <tr>\n",
              "      <th>3</th>\n",
              "      <td>7e3PZzUpG5FYOTGt3O3ePA</td>\n",
              "      <td>Ambience: Would not expect something this nice...</td>\n",
              "      <td>3.0</td>\n",
              "    </tr>\n",
              "    <tr>\n",
              "      <th>4</th>\n",
              "      <td>vuHzLZ7nAeT-EiecOkS5Og</td>\n",
              "      <td>Absolutely the WORST pool company that I have ...</td>\n",
              "      <td>1.0</td>\n",
              "    </tr>\n",
              "  </tbody>\n",
              "</table>\n",
              "</div>"
            ],
            "text/plain": [
              "              business_id  ... stars\n",
              "0  ZBE-H_aUlicix_9vUGQPIQ  ...   5.0\n",
              "1  e-YnECeZNt8ngm0tu4X9mQ  ...   4.0\n",
              "2  j7HO1YeMQGYo3KibMXZ5vg  ...   5.0\n",
              "3  7e3PZzUpG5FYOTGt3O3ePA  ...   3.0\n",
              "4  vuHzLZ7nAeT-EiecOkS5Og  ...   1.0\n",
              "\n",
              "[5 rows x 3 columns]"
            ]
          },
          "metadata": {},
          "execution_count": 8
        }
      ]
    },
    {
      "cell_type": "markdown",
      "metadata": {
        "id": "YXjXl7D1vR_J"
      },
      "source": [
        "## Data Cleaning"
      ]
    },
    {
      "cell_type": "code",
      "metadata": {
        "id": "z62PUrIFvR_R",
        "colab": {
          "base_uri": "https://localhost:8080/"
        },
        "outputId": "a232cc40-81a4-4d68-ba7a-4651b0e1cdc1"
      },
      "source": [
        "# Check and exclude reviews that are invalid\n",
        "textdf = data_df['text']\n",
        "                                                \n",
        "for i in range(len(data_df)):                                         \n",
        "    try:                                                          \n",
        "        lang=detect(textdf[i])                                      \n",
        "    except:                                                                                                     \n",
        "        print(\"This review throws error:\", textdf[i])     \n",
        "        data_df=data_df.drop(i, axis=0)         \n",
        "data_df=data_df.reset_index(drop=True)\n"
      ],
      "execution_count": null,
      "outputs": [
        {
          "output_type": "stream",
          "name": "stdout",
          "text": [
            "This review throws error: ...\n",
            "This review throws error: ??????????????????????????????????????????????????????????????????10??????????????????????????????????????????????????????????????????????????????????????\n",
            "This review throws error: ???????????????????????????????????????????????????????????????????????????\n"
          ]
        }
      ]
    },
    {
      "cell_type": "code",
      "metadata": {
        "id": "149QIkhvvkGN"
      },
      "source": [
        ""
      ],
      "execution_count": null,
      "outputs": []
    },
    {
      "cell_type": "code",
      "metadata": {
        "colab": {
          "base_uri": "https://localhost:8080/"
        },
        "id": "nfVaYGmGh4GA",
        "outputId": "1c5026e4-ed3f-4ca1-d9b5-73f0f5030582"
      },
      "source": [
        "# Check langauge of reviews\n",
        "language = [detect_langs(i) for i in data_df.text]\n",
        "languages = [str(i[0]).split(':')[0] for i in language]\n",
        "data_df['language'] = languages\n",
        "data_df['language'].value_counts()"
      ],
      "execution_count": null,
      "outputs": [
        {
          "output_type": "execute_result",
          "data": {
            "text/plain": [
              "en    15246\n",
              "fr       32\n",
              "es        8\n",
              "tr        4\n",
              "de        3\n",
              "ro        1\n",
              "af        1\n",
              "cy        1\n",
              "nl        1\n",
              "Name: language, dtype: int64"
            ]
          },
          "metadata": {},
          "execution_count": 10
        }
      ]
    },
    {
      "cell_type": "code",
      "metadata": {
        "colab": {
          "base_uri": "https://localhost:8080/",
          "height": 1000
        },
        "id": "rtDx0NEOh-P-",
        "outputId": "22074bfe-19b9-4ce4-8825-957b056ac727"
      },
      "source": [
        "data_df[data_df['language']!='en'].reset_index(drop=True)"
      ],
      "execution_count": null,
      "outputs": [
        {
          "output_type": "execute_result",
          "data": {
            "text/html": [
              "<div>\n",
              "<style scoped>\n",
              "    .dataframe tbody tr th:only-of-type {\n",
              "        vertical-align: middle;\n",
              "    }\n",
              "\n",
              "    .dataframe tbody tr th {\n",
              "        vertical-align: top;\n",
              "    }\n",
              "\n",
              "    .dataframe thead th {\n",
              "        text-align: right;\n",
              "    }\n",
              "</style>\n",
              "<table border=\"1\" class=\"dataframe\">\n",
              "  <thead>\n",
              "    <tr style=\"text-align: right;\">\n",
              "      <th></th>\n",
              "      <th>business_id</th>\n",
              "      <th>text</th>\n",
              "      <th>stars</th>\n",
              "      <th>language</th>\n",
              "    </tr>\n",
              "  </thead>\n",
              "  <tbody>\n",
              "    <tr>\n",
              "      <th>0</th>\n",
              "      <td>e-YnECeZNt8ngm0tu4X9mQ</td>\n",
              "      <td>À notre arrivé à Toronto, nous cherchions un r...</td>\n",
              "      <td>3.0</td>\n",
              "      <td>fr</td>\n",
              "    </tr>\n",
              "    <tr>\n",
              "      <th>1</th>\n",
              "      <td>k99YNCx5KcQPR7oeTgAOzg</td>\n",
              "      <td>Immer wieder gut. Die Steaks sind immer so wie...</td>\n",
              "      <td>5.0</td>\n",
              "      <td>de</td>\n",
              "    </tr>\n",
              "    <tr>\n",
              "      <th>2</th>\n",
              "      <td>a4GRh1TlOVhPD401mSPLZg</td>\n",
              "      <td>el peor y nada profesional que vi en mis 64 añ...</td>\n",
              "      <td>1.0</td>\n",
              "      <td>es</td>\n",
              "    </tr>\n",
              "    <tr>\n",
              "      <th>3</th>\n",
              "      <td>pJnN5PxqFPGZW2pJWkQtzA</td>\n",
              "      <td>grand opening!</td>\n",
              "      <td>5.0</td>\n",
              "      <td>af</td>\n",
              "    </tr>\n",
              "    <tr>\n",
              "      <th>4</th>\n",
              "      <td>AEx2SYEUJmTxVVB18LlCwA</td>\n",
              "      <td>On y va pour la nostalgie. Je prends toujours ...</td>\n",
              "      <td>4.0</td>\n",
              "      <td>fr</td>\n",
              "    </tr>\n",
              "    <tr>\n",
              "      <th>5</th>\n",
              "      <td>AEx2SYEUJmTxVVB18LlCwA</td>\n",
              "      <td>J'ai pas tant aimé le Spécial : c'est juste de...</td>\n",
              "      <td>3.0</td>\n",
              "      <td>fr</td>\n",
              "    </tr>\n",
              "    <tr>\n",
              "      <th>6</th>\n",
              "      <td>AEx2SYEUJmTxVVB18LlCwA</td>\n",
              "      <td>5 piasses pour un sandwich magique. Il est tel...</td>\n",
              "      <td>5.0</td>\n",
              "      <td>fr</td>\n",
              "    </tr>\n",
              "    <tr>\n",
              "      <th>7</th>\n",
              "      <td>AEx2SYEUJmTxVVB18LlCwA</td>\n",
              "      <td>J'avoue n'avoir jamais compris cet intérêt aut...</td>\n",
              "      <td>1.0</td>\n",
              "      <td>fr</td>\n",
              "    </tr>\n",
              "    <tr>\n",
              "      <th>8</th>\n",
              "      <td>AEx2SYEUJmTxVVB18LlCwA</td>\n",
              "      <td>Si cute ! Si charmant ! \\n\\nLe décor ancestral...</td>\n",
              "      <td>4.0</td>\n",
              "      <td>fr</td>\n",
              "    </tr>\n",
              "    <tr>\n",
              "      <th>9</th>\n",
              "      <td>AEx2SYEUJmTxVVB18LlCwA</td>\n",
              "      <td>Pour un excellent sandwich salami et Bologne, ...</td>\n",
              "      <td>4.0</td>\n",
              "      <td>fr</td>\n",
              "    </tr>\n",
              "    <tr>\n",
              "      <th>10</th>\n",
              "      <td>AEx2SYEUJmTxVVB18LlCwA</td>\n",
              "      <td>Wilensky's.. en un mot: Institution. \\n\\nLa re...</td>\n",
              "      <td>5.0</td>\n",
              "      <td>fr</td>\n",
              "    </tr>\n",
              "    <tr>\n",
              "      <th>11</th>\n",
              "      <td>AEx2SYEUJmTxVVB18LlCwA</td>\n",
              "      <td>Le 4 étoiles ici est pour l'expérience globale...</td>\n",
              "      <td>4.0</td>\n",
              "      <td>fr</td>\n",
              "    </tr>\n",
              "    <tr>\n",
              "      <th>12</th>\n",
              "      <td>AEx2SYEUJmTxVVB18LlCwA</td>\n",
              "      <td>Un classique du Mile-End ! On se replonge dans...</td>\n",
              "      <td>4.0</td>\n",
              "      <td>fr</td>\n",
              "    </tr>\n",
              "    <tr>\n",
              "      <th>13</th>\n",
              "      <td>oICXzFAaUMrYGzjRWmkw4Q</td>\n",
              "      <td>Petite endroit sympathique pour une Pho sur le...</td>\n",
              "      <td>5.0</td>\n",
              "      <td>fr</td>\n",
              "    </tr>\n",
              "    <tr>\n",
              "      <th>14</th>\n",
              "      <td>1Fpk8ibHhZYnCw8fnGny8w</td>\n",
              "      <td>Célebre mi cumpleaños este pasado sábado.\\nWow...</td>\n",
              "      <td>5.0</td>\n",
              "      <td>es</td>\n",
              "    </tr>\n",
              "    <tr>\n",
              "      <th>15</th>\n",
              "      <td>kAmNIcJpAZIZIp5uSMAYLA</td>\n",
              "      <td>Convenient for students. New management has be...</td>\n",
              "      <td>3.0</td>\n",
              "      <td>nl</td>\n",
              "    </tr>\n",
              "    <tr>\n",
              "      <th>16</th>\n",
              "      <td>JqBtQ1bSynPHE9gbyuSSvA</td>\n",
              "      <td>J'y suis allée avec mon copain avec beaucoup d...</td>\n",
              "      <td>3.0</td>\n",
              "      <td>fr</td>\n",
              "    </tr>\n",
              "    <tr>\n",
              "      <th>17</th>\n",
              "      <td>JqBtQ1bSynPHE9gbyuSSvA</td>\n",
              "      <td>Si vous êtes du genre péquiste facilement offe...</td>\n",
              "      <td>4.0</td>\n",
              "      <td>fr</td>\n",
              "    </tr>\n",
              "    <tr>\n",
              "      <th>18</th>\n",
              "      <td>JqBtQ1bSynPHE9gbyuSSvA</td>\n",
              "      <td>Le nom le décrit bien c'est un restaurant de s...</td>\n",
              "      <td>2.0</td>\n",
              "      <td>fr</td>\n",
              "    </tr>\n",
              "    <tr>\n",
              "      <th>19</th>\n",
              "      <td>x3LoVFuzVIPK_J-kDZORdg</td>\n",
              "      <td>El restaurante tiene  buena comida pero es inc...</td>\n",
              "      <td>1.0</td>\n",
              "      <td>es</td>\n",
              "    </tr>\n",
              "    <tr>\n",
              "      <th>20</th>\n",
              "      <td>JqBtQ1bSynPHE9gbyuSSvA</td>\n",
              "      <td>J\"avais vu un reportage de ce restaurant a l '...</td>\n",
              "      <td>4.0</td>\n",
              "      <td>fr</td>\n",
              "    </tr>\n",
              "    <tr>\n",
              "      <th>21</th>\n",
              "      <td>UDiMCb4LKowlozI5mhtO_A</td>\n",
              "      <td>Clean, friendly, solid menu &amp; good food....nuf...</td>\n",
              "      <td>4.0</td>\n",
              "      <td>cy</td>\n",
              "    </tr>\n",
              "    <tr>\n",
              "      <th>22</th>\n",
              "      <td>daqYMX3Y4QR8xl-BUlYBPw</td>\n",
              "      <td>Ricas tortas y aguas. Aunque les pongan menos ...</td>\n",
              "      <td>3.0</td>\n",
              "      <td>es</td>\n",
              "    </tr>\n",
              "    <tr>\n",
              "      <th>23</th>\n",
              "      <td>xJ_L2sJN1zk3VDpZELrV_Q</td>\n",
              "      <td>Un petit dej du dimanche!\\n\\nService rapide, g...</td>\n",
              "      <td>3.0</td>\n",
              "      <td>fr</td>\n",
              "    </tr>\n",
              "    <tr>\n",
              "      <th>24</th>\n",
              "      <td>xJ_L2sJN1zk3VDpZELrV_Q</td>\n",
              "      <td>Premier brunch à Montréal alors pas de compara...</td>\n",
              "      <td>4.0</td>\n",
              "      <td>fr</td>\n",
              "    </tr>\n",
              "    <tr>\n",
              "      <th>25</th>\n",
              "      <td>daqYMX3Y4QR8xl-BUlYBPw</td>\n",
              "      <td>Excelente servicio y la comida d lo mejor tamb...</td>\n",
              "      <td>5.0</td>\n",
              "      <td>es</td>\n",
              "    </tr>\n",
              "    <tr>\n",
              "      <th>26</th>\n",
              "      <td>daqYMX3Y4QR8xl-BUlYBPw</td>\n",
              "      <td>Best tortas in the whole state of Arizona tort...</td>\n",
              "      <td>5.0</td>\n",
              "      <td>es</td>\n",
              "    </tr>\n",
              "    <tr>\n",
              "      <th>27</th>\n",
              "      <td>daqYMX3Y4QR8xl-BUlYBPw</td>\n",
              "      <td>Es una tristeza que este lugar ya no se lo mis...</td>\n",
              "      <td>2.0</td>\n",
              "      <td>es</td>\n",
              "    </tr>\n",
              "    <tr>\n",
              "      <th>28</th>\n",
              "      <td>suJ-eo5Gkvcg0iXVQw4RyA</td>\n",
              "      <td>Nettes Hotel ca. 10 Min vom Flughafen entfernt...</td>\n",
              "      <td>3.0</td>\n",
              "      <td>de</td>\n",
              "    </tr>\n",
              "    <tr>\n",
              "      <th>29</th>\n",
              "      <td>yEZn1XpLsEC9uBa-X4xAZw</td>\n",
              "      <td>Que ce soit pour leurs délicieux bubbles tea/s...</td>\n",
              "      <td>4.0</td>\n",
              "      <td>fr</td>\n",
              "    </tr>\n",
              "    <tr>\n",
              "      <th>30</th>\n",
              "      <td>yEZn1XpLsEC9uBa-X4xAZw</td>\n",
              "      <td>Des sandwichs vietnamiens à moins de 6$, nous ...</td>\n",
              "      <td>5.0</td>\n",
              "      <td>fr</td>\n",
              "    </tr>\n",
              "    <tr>\n",
              "      <th>31</th>\n",
              "      <td>yEZn1XpLsEC9uBa-X4xAZw</td>\n",
              "      <td>30 choix de sandwichs.. 7\" 3.25$ et le 10\" 3.7...</td>\n",
              "      <td>4.0</td>\n",
              "      <td>fr</td>\n",
              "    </tr>\n",
              "    <tr>\n",
              "      <th>32</th>\n",
              "      <td>yEZn1XpLsEC9uBa-X4xAZw</td>\n",
              "      <td>Coup de coeur ! (oui, tu as bien entendu, un g...</td>\n",
              "      <td>5.0</td>\n",
              "      <td>fr</td>\n",
              "    </tr>\n",
              "    <tr>\n",
              "      <th>33</th>\n",
              "      <td>yEZn1XpLsEC9uBa-X4xAZw</td>\n",
              "      <td>Non ce n'est pas la grande gastronomie en term...</td>\n",
              "      <td>4.0</td>\n",
              "      <td>fr</td>\n",
              "    </tr>\n",
              "    <tr>\n",
              "      <th>34</th>\n",
              "      <td>RyaCGkXRXxXNeJhbnioz1Q</td>\n",
              "      <td>War viel Betrieb morgens, trotz Hektik sehr fr...</td>\n",
              "      <td>5.0</td>\n",
              "      <td>de</td>\n",
              "    </tr>\n",
              "    <tr>\n",
              "      <th>35</th>\n",
              "      <td>yEZn1XpLsEC9uBa-X4xAZw</td>\n",
              "      <td>Franchement c'est un grand 5/5 pour Vua. Quand...</td>\n",
              "      <td>5.0</td>\n",
              "      <td>fr</td>\n",
              "    </tr>\n",
              "    <tr>\n",
              "      <th>36</th>\n",
              "      <td>WA7sC64kCRstywm2EgZXEw</td>\n",
              "      <td>Torontoda gelinebilecek en iyi türk restoran? ...</td>\n",
              "      <td>5.0</td>\n",
              "      <td>tr</td>\n",
              "    </tr>\n",
              "    <tr>\n",
              "      <th>37</th>\n",
              "      <td>yEZn1XpLsEC9uBa-X4xAZw</td>\n",
              "      <td>Entrée inapercevable .. il faut savoir que c'e...</td>\n",
              "      <td>3.0</td>\n",
              "      <td>fr</td>\n",
              "    </tr>\n",
              "    <tr>\n",
              "      <th>38</th>\n",
              "      <td>yEZn1XpLsEC9uBa-X4xAZw</td>\n",
              "      <td>Délicieux !!! Tout simplement bon :) j'adore ....</td>\n",
              "      <td>5.0</td>\n",
              "      <td>fr</td>\n",
              "    </tr>\n",
              "    <tr>\n",
              "      <th>39</th>\n",
              "      <td>yEZn1XpLsEC9uBa-X4xAZw</td>\n",
              "      <td>Petit restaurant sympa, dans lequel je retrouv...</td>\n",
              "      <td>4.0</td>\n",
              "      <td>fr</td>\n",
              "    </tr>\n",
              "    <tr>\n",
              "      <th>40</th>\n",
              "      <td>6RbCJLiwNYwS6ab9vzD_zg</td>\n",
              "      <td>Descubrí Pitaland casualmente y recomiendo enc...</td>\n",
              "      <td>5.0</td>\n",
              "      <td>es</td>\n",
              "    </tr>\n",
              "    <tr>\n",
              "      <th>41</th>\n",
              "      <td>yEZn1XpLsEC9uBa-X4xAZw</td>\n",
              "      <td>Les employés sont toujours souriant lors de no...</td>\n",
              "      <td>4.0</td>\n",
              "      <td>fr</td>\n",
              "    </tr>\n",
              "    <tr>\n",
              "      <th>42</th>\n",
              "      <td>yEZn1XpLsEC9uBa-X4xAZw</td>\n",
              "      <td>Le petit resto/fast food Vua a été mon endroit...</td>\n",
              "      <td>4.0</td>\n",
              "      <td>fr</td>\n",
              "    </tr>\n",
              "    <tr>\n",
              "      <th>43</th>\n",
              "      <td>yEZn1XpLsEC9uBa-X4xAZw</td>\n",
              "      <td>La grande pancarte qui vante les sandwichs à m...</td>\n",
              "      <td>5.0</td>\n",
              "      <td>fr</td>\n",
              "    </tr>\n",
              "    <tr>\n",
              "      <th>44</th>\n",
              "      <td>WA7sC64kCRstywm2EgZXEw</td>\n",
              "      <td>Toronto'da ya?ay?pta buraya gelmeyen Türk var ...</td>\n",
              "      <td>5.0</td>\n",
              "      <td>tr</td>\n",
              "    </tr>\n",
              "    <tr>\n",
              "      <th>45</th>\n",
              "      <td>yEZn1XpLsEC9uBa-X4xAZw</td>\n",
              "      <td>Très bon vietnamien différent choix : japonais...</td>\n",
              "      <td>4.0</td>\n",
              "      <td>fr</td>\n",
              "    </tr>\n",
              "    <tr>\n",
              "      <th>46</th>\n",
              "      <td>yEZn1XpLsEC9uBa-X4xAZw</td>\n",
              "      <td>Un petit take-out tout près de la sortie Saint...</td>\n",
              "      <td>5.0</td>\n",
              "      <td>fr</td>\n",
              "    </tr>\n",
              "    <tr>\n",
              "      <th>47</th>\n",
              "      <td>WA7sC64kCRstywm2EgZXEw</td>\n",
              "      <td>Excellent Turkish food everything is good here...</td>\n",
              "      <td>5.0</td>\n",
              "      <td>tr</td>\n",
              "    </tr>\n",
              "    <tr>\n",
              "      <th>48</th>\n",
              "      <td>WA7sC64kCRstywm2EgZXEw</td>\n",
              "      <td>Toronto'da ya?ay?pta buraya gelmeyen Türk var ...</td>\n",
              "      <td>5.0</td>\n",
              "      <td>tr</td>\n",
              "    </tr>\n",
              "    <tr>\n",
              "      <th>49</th>\n",
              "      <td>yEZn1XpLsEC9uBa-X4xAZw</td>\n",
              "      <td>Ma 2e maison à côté de l'école. Pour vrai les ...</td>\n",
              "      <td>5.0</td>\n",
              "      <td>fr</td>\n",
              "    </tr>\n",
              "    <tr>\n",
              "      <th>50</th>\n",
              "      <td>cPzIic1AqH1ApTVVaww5hw</td>\n",
              "      <td>Great AYCE sushi lunch</td>\n",
              "      <td>4.0</td>\n",
              "      <td>ro</td>\n",
              "    </tr>\n",
              "  </tbody>\n",
              "</table>\n",
              "</div>"
            ],
            "text/plain": [
              "               business_id  ... language\n",
              "0   e-YnECeZNt8ngm0tu4X9mQ  ...       fr\n",
              "1   k99YNCx5KcQPR7oeTgAOzg  ...       de\n",
              "2   a4GRh1TlOVhPD401mSPLZg  ...       es\n",
              "3   pJnN5PxqFPGZW2pJWkQtzA  ...       af\n",
              "4   AEx2SYEUJmTxVVB18LlCwA  ...       fr\n",
              "5   AEx2SYEUJmTxVVB18LlCwA  ...       fr\n",
              "6   AEx2SYEUJmTxVVB18LlCwA  ...       fr\n",
              "7   AEx2SYEUJmTxVVB18LlCwA  ...       fr\n",
              "8   AEx2SYEUJmTxVVB18LlCwA  ...       fr\n",
              "9   AEx2SYEUJmTxVVB18LlCwA  ...       fr\n",
              "10  AEx2SYEUJmTxVVB18LlCwA  ...       fr\n",
              "11  AEx2SYEUJmTxVVB18LlCwA  ...       fr\n",
              "12  AEx2SYEUJmTxVVB18LlCwA  ...       fr\n",
              "13  oICXzFAaUMrYGzjRWmkw4Q  ...       fr\n",
              "14  1Fpk8ibHhZYnCw8fnGny8w  ...       es\n",
              "15  kAmNIcJpAZIZIp5uSMAYLA  ...       nl\n",
              "16  JqBtQ1bSynPHE9gbyuSSvA  ...       fr\n",
              "17  JqBtQ1bSynPHE9gbyuSSvA  ...       fr\n",
              "18  JqBtQ1bSynPHE9gbyuSSvA  ...       fr\n",
              "19  x3LoVFuzVIPK_J-kDZORdg  ...       es\n",
              "20  JqBtQ1bSynPHE9gbyuSSvA  ...       fr\n",
              "21  UDiMCb4LKowlozI5mhtO_A  ...       cy\n",
              "22  daqYMX3Y4QR8xl-BUlYBPw  ...       es\n",
              "23  xJ_L2sJN1zk3VDpZELrV_Q  ...       fr\n",
              "24  xJ_L2sJN1zk3VDpZELrV_Q  ...       fr\n",
              "25  daqYMX3Y4QR8xl-BUlYBPw  ...       es\n",
              "26  daqYMX3Y4QR8xl-BUlYBPw  ...       es\n",
              "27  daqYMX3Y4QR8xl-BUlYBPw  ...       es\n",
              "28  suJ-eo5Gkvcg0iXVQw4RyA  ...       de\n",
              "29  yEZn1XpLsEC9uBa-X4xAZw  ...       fr\n",
              "30  yEZn1XpLsEC9uBa-X4xAZw  ...       fr\n",
              "31  yEZn1XpLsEC9uBa-X4xAZw  ...       fr\n",
              "32  yEZn1XpLsEC9uBa-X4xAZw  ...       fr\n",
              "33  yEZn1XpLsEC9uBa-X4xAZw  ...       fr\n",
              "34  RyaCGkXRXxXNeJhbnioz1Q  ...       de\n",
              "35  yEZn1XpLsEC9uBa-X4xAZw  ...       fr\n",
              "36  WA7sC64kCRstywm2EgZXEw  ...       tr\n",
              "37  yEZn1XpLsEC9uBa-X4xAZw  ...       fr\n",
              "38  yEZn1XpLsEC9uBa-X4xAZw  ...       fr\n",
              "39  yEZn1XpLsEC9uBa-X4xAZw  ...       fr\n",
              "40  6RbCJLiwNYwS6ab9vzD_zg  ...       es\n",
              "41  yEZn1XpLsEC9uBa-X4xAZw  ...       fr\n",
              "42  yEZn1XpLsEC9uBa-X4xAZw  ...       fr\n",
              "43  yEZn1XpLsEC9uBa-X4xAZw  ...       fr\n",
              "44  WA7sC64kCRstywm2EgZXEw  ...       tr\n",
              "45  yEZn1XpLsEC9uBa-X4xAZw  ...       fr\n",
              "46  yEZn1XpLsEC9uBa-X4xAZw  ...       fr\n",
              "47  WA7sC64kCRstywm2EgZXEw  ...       tr\n",
              "48  WA7sC64kCRstywm2EgZXEw  ...       tr\n",
              "49  yEZn1XpLsEC9uBa-X4xAZw  ...       fr\n",
              "50  cPzIic1AqH1ApTVVaww5hw  ...       ro\n",
              "\n",
              "[51 rows x 4 columns]"
            ]
          },
          "metadata": {},
          "execution_count": 11
        }
      ]
    },
    {
      "cell_type": "markdown",
      "metadata": {
        "id": "QtAOOazqj_FW"
      },
      "source": [
        "Comment: \n",
        "\n",
        "Although 'grand opening!' looks like an English review, yet it does not give any information hence it is suitable to remove it. 'Great AYCE sushi lunch' may looks like an English review but it is written in Indo-European."
      ]
    },
    {
      "cell_type": "code",
      "metadata": {
        "colab": {
          "base_uri": "https://localhost:8080/"
        },
        "id": "MABromXmh-LA",
        "outputId": "b5c5995f-4a3c-4a27-96c0-a6d693b8ae96"
      },
      "source": [
        "cleaned_df=data_df[data_df['language']=='en']\n",
        "cleaned_df=cleaned_df.drop(columns=['language']).reset_index(drop=True)\n",
        "cleaned_df.info()"
      ],
      "execution_count": null,
      "outputs": [
        {
          "output_type": "stream",
          "name": "stdout",
          "text": [
            "<class 'pandas.core.frame.DataFrame'>\n",
            "RangeIndex: 15246 entries, 0 to 15245\n",
            "Data columns (total 3 columns):\n",
            " #   Column       Non-Null Count  Dtype  \n",
            "---  ------       --------------  -----  \n",
            " 0   business_id  15246 non-null  object \n",
            " 1   text         15246 non-null  object \n",
            " 2   stars        15246 non-null  float64\n",
            "dtypes: float64(1), object(2)\n",
            "memory usage: 357.5+ KB\n"
          ]
        }
      ]
    },
    {
      "cell_type": "markdown",
      "metadata": {
        "id": "WpOM4BNGbnyk"
      },
      "source": [
        "# Section 2.1"
      ]
    },
    {
      "cell_type": "code",
      "metadata": {
        "id": "GYkgBVb9j1uF"
      },
      "source": [
        "def clean_text(review):\n",
        "    \n",
        "    stopwords_english = stopwords.words('english')\n",
        "    \n",
        "    # remove float prices\n",
        "    review = re.sub(r'\\$[0-9.]+', '', review)\n",
        "    # remove stock market tickers if the businesses is LISTED\n",
        "    review = re.sub(r'\\$\\w*', '', review)\n",
        "    # remove remaining numbers like dates, scores\n",
        "    review = re.sub(r'[0-9/]*', '', review)\n",
        "    # remove hyperlinks\n",
        "    review = re.sub(r'https?:\\/\\/.*[\\r\\n]*', '', review)\n",
        "    # remove ...\n",
        "    review = re.sub(r'[.]', '', review)\n",
        "    # remove hashtags\n",
        "    # only removing the hash # sign from the word\n",
        "    review = re.sub(r'#', '', review)\n",
        "\n",
        "    # tokenize review\n",
        "    tokenizer = TweetTokenizer(preserve_case=False, strip_handles=True,\n",
        "                               reduce_len=True)\n",
        "    review_tokens = tokenizer.tokenize(review)\n",
        "\n",
        "    review_clean = []\n",
        "    for word in review_tokens:\n",
        "        if (word not in stopwords_english and  # remove stopwords\n",
        "            word not in string.punctuation):  # remove punctuation\n",
        "            review_clean.append(word)\n",
        "\n",
        "    return review_clean"
      ],
      "execution_count": null,
      "outputs": []
    },
    {
      "cell_type": "code",
      "metadata": {
        "id": "nmfUuOoVW2bJ"
      },
      "source": [
        "# Same as clean but add a stem function\n",
        "def stem_text(review):\n",
        "    stemmer = PorterStemmer()\n",
        "    stopwords_english = stopwords.words('english')\n",
        "\n",
        "    # remove float prices\n",
        "    review = re.sub(r'\\$[0-9.]+', '', review)\n",
        "    # remove stock market tickers if the businesses is LISTED\n",
        "    review = re.sub(r'\\$\\w*', '', review)\n",
        "    # remove remaining numbers like dates, scores\n",
        "    review = re.sub(r'[0-9/]*', '', review)\n",
        "    # remove hyperlinks\n",
        "    review = re.sub(r'https?:\\/\\/.*[\\r\\n]*', '', review)\n",
        "    # remove ...\n",
        "    review = re.sub(r'[.]', '', review)\n",
        "    # remove hashtags\n",
        "    # only removing the hash # sign from the word\n",
        "    review = re.sub(r'#', '', review)\n",
        "\n",
        "    # tokenize review\n",
        "    tokenizer = TweetTokenizer(preserve_case=False, strip_handles=True,\n",
        "                               reduce_len=True)\n",
        "    review_tokens = tokenizer.tokenize(review)\n",
        "\n",
        "    review_clean = []\n",
        "    for word in review_tokens:\n",
        "        if (word not in stopwords_english and  # remove stopwords\n",
        "            word not in string.punctuation):  # remove punctuation\n",
        "            stem_word = stemmer.stem(word)  # stemming word\n",
        "            review_clean.append(stem_word)\n",
        "    return review_clean"
      ],
      "execution_count": null,
      "outputs": []
    },
    {
      "cell_type": "code",
      "metadata": {
        "id": "YElPaywsUQRu"
      },
      "source": [
        "\n",
        "def count_cleaned_words(result, reviews):\n",
        "    for review in reviews:\n",
        "        for word in clean_text(review):\n",
        "            # if the key exists in the dictionary, increment the count\n",
        "            if word in result:\n",
        "                result[word] += 1\n",
        "\n",
        "            # else, if the key is new, add it to the dictionary and set the count to 1\n",
        "            else:\n",
        "                result[word] = 1\n",
        "    return result"
      ],
      "execution_count": null,
      "outputs": []
    },
    {
      "cell_type": "code",
      "metadata": {
        "id": "RKZdcl7bYq3_"
      },
      "source": [
        "\n",
        "def count_stemmed_words(result, reviews):\n",
        "    for review in reviews:\n",
        "        for word in stem_text(review):\n",
        "            # if the key exists in the dictionary, increment the count\n",
        "            if word in result:\n",
        "                result[word] += 1\n",
        "\n",
        "            # else, if the key is new, add it to the dictionary and set the count to 1\n",
        "            else:\n",
        "                result[word] = 1\n",
        "    return result"
      ],
      "execution_count": null,
      "outputs": []
    },
    {
      "cell_type": "code",
      "metadata": {
        "id": "lvmTfBgpUQJz"
      },
      "source": [
        "# Filter dictionary\n",
        "def sort_dict_by_value(d, reverse = False):\n",
        "  return dict(sorted(d.items(), key = lambda x: x[1], reverse = reverse))\n",
        "\n",
        "def filter_dict_by_value(d,n):\n",
        "  return dict(sorted(d.items(), key = lambda x: x[1], reverse = True)[:n+1])\n",
        "\n"
      ],
      "execution_count": null,
      "outputs": []
    },
    {
      "cell_type": "code",
      "metadata": {
        "id": "Uot48kRg_7iJ"
      },
      "source": [
        "def plot_dict(d1,d2,line=False,title='b1'):\n",
        "  if line:\n",
        "    fig,ax=plt.subplots(1,2,figsize=(16,9),sharey=True)\n",
        "    d1keys = list(d1.keys())\n",
        "    d1vals = [d1[k] for k in d1keys]\n",
        "    sns.lineplot(x=d1keys, y=d1vals,color='blue',ax=ax[0])\n",
        "    \n",
        "    d2keys = list(d2.keys())\n",
        "    d2vals = [d2[k] for k in d2keys]\n",
        "    sns.lineplot(x=d2keys, y=d2vals,color='blue',ax=ax[1])\n",
        "\n",
        "    ax[0].set_ylabel(\"Stemmed Words\")\n",
        "    ax[1].set_ylabel(\"Frequency\")\n",
        "    ax[0].set_title('Words',fontsize=14)\n",
        "    ax[1].set_title('Stemmed Words',fontsize=14)\n",
        "    ax[0].set_xticklabels(d1keys,rotation=90)\n",
        "    ax[1].set_xticklabels(d2keys,rotation=90)\n",
        "    plt.suptitle(title,fontsize=16,y=0.93)\n",
        "    plt.show()\n",
        "  else:\n",
        "    fig,ax=plt.subplots(1,2,figsize=(16,9),sharex=True)\n",
        "    d1keys = list(d1.keys())\n",
        "    d1vals = [d1[k] for k in d1keys]\n",
        "    sns.barplot(x=d1vals, y=d1keys,color='blue',ax=ax[0])\n",
        "    \n",
        "    d2keys = list(d2.keys())\n",
        "    d2vals = [d2[k] for k in d2keys]\n",
        "    sns.barplot(x=d2vals, y=d2keys,color='blue',ax=ax[1])\n",
        "    \n",
        "    ax[0].set(ylabel=\"Stemmed Words\")\n",
        "    ax[1].set(ylabel=\"Stemmed Words\")\n",
        "    ax[0].set_title('Words',fontsize=14)\n",
        "    ax[1].set_title('Stemmed Words',fontsize=14)\n",
        "    #ax[0].set_xticklabels(d1vals,rotation=90)\n",
        "    #ax[1].set_xticklabels(d2keys,rotation=90)\n",
        "    plt.suptitle(title,fontsize=16,y=0.93)\n",
        "    plt.show()"
      ],
      "execution_count": null,
      "outputs": []
    },
    {
      "cell_type": "code",
      "metadata": {
        "id": "xHo0pUgyUQOf"
      },
      "source": [
        "business_list=list(cleaned_df.business_id.unique())\n",
        "b1_selected_business=random.choice(business_list)\n",
        "b1_selected_business_df=cleaned_df[cleaned_df['business_id']==b1_selected_business]\n",
        "b1_reviews = b1_selected_business_df['text'].to_list()\n",
        "b1_business_result=count_cleaned_words({}, b1_reviews)\n",
        "b1_stem_business_result=count_stemmed_words({}, b1_reviews)"
      ],
      "execution_count": null,
      "outputs": []
    },
    {
      "cell_type": "code",
      "metadata": {
        "id": "UgAGPILy-oFi"
      },
      "source": [
        "business_list=list(cleaned_df.business_id.unique())\n",
        "b2_selected_business=random.choice(business_list)\n",
        "b2_selected_business_df=cleaned_df[cleaned_df['business_id']==b2_selected_business]\n",
        "b2_reviews = b2_selected_business_df['text'].to_list()\n",
        "b2_business_result=count_cleaned_words({}, b2_reviews)\n",
        "b2_stem_business_result=count_stemmed_words({}, b2_reviews)"
      ],
      "execution_count": null,
      "outputs": []
    },
    {
      "cell_type": "code",
      "metadata": {
        "id": "xxeU-2V_P8U7"
      },
      "source": [
        ""
      ],
      "execution_count": null,
      "outputs": []
    },
    {
      "cell_type": "code",
      "metadata": {
        "id": "yDIACieJTPsA"
      },
      "source": [
        ""
      ],
      "execution_count": null,
      "outputs": []
    },
    {
      "cell_type": "code",
      "metadata": {
        "id": "2ee5uvbbTPpq"
      },
      "source": [
        ""
      ],
      "execution_count": null,
      "outputs": []
    },
    {
      "cell_type": "code",
      "metadata": {
        "colab": {
          "base_uri": "https://localhost:8080/",
          "height": 618
        },
        "id": "Alp7UptaAfdp",
        "outputId": "6ff729c3-3b40-4e3e-f2f5-ed4626c1f146"
      },
      "source": [
        "b1_filtered_business_result=filter_dict_by_value(b1_business_result,20)\n",
        "b1_filtered_stem_business_result=filter_dict_by_value(b1_stem_business_result,20)\n",
        "plot_dict(b1_filtered_business_result,b1_filtered_stem_business_result,line=True,title=\"Top 20 Most Frequent Words in Selected Business B1's Review\")"
      ],
      "execution_count": null,
      "outputs": [
        {
          "output_type": "display_data",
          "data": {
            "image/png": "[encoded data removed]",
            "text/plain": [
              "<Figure size 1152x648 with 2 Axes>"
            ]
          },
          "metadata": {
            "needs_background": "light"
          }
        }
      ]
    },
    {
      "cell_type": "code",
      "metadata": {
        "colab": {
          "base_uri": "https://localhost:8080/",
          "height": 618
        },
        "id": "TW4Bv-a5-oDJ",
        "outputId": "4b03a036-1a76-44ea-f8d3-83e40da9b5bd"
      },
      "source": [
        "b2_filtered_business_result=filter_dict_by_value(b2_business_result,20)\n",
        "b2_filtered_stem_business_result=filter_dict_by_value(b2_stem_business_result,20)\n",
        "plot_dict(b2_filtered_business_result,b2_filtered_stem_business_result,line=True,title=\"Top 20 Most Frequent Words in Selected Business B2's Review\")"
      ],
      "execution_count": null,
      "outputs": [
        {
          "output_type": "display_data",
          "data": {
            "image/png": "[encoded data removed]",
            "text/plain": [
              "<Figure size 1152x648 with 2 Axes>"
            ]
          },
          "metadata": {
            "needs_background": "light"
          }
        }
      ]
    },
    {
      "cell_type": "code",
      "metadata": {
        "id": "wRziZcTH-oAh"
      },
      "source": [
        ""
      ],
      "execution_count": null,
      "outputs": []
    },
    {
      "cell_type": "code",
      "metadata": {
        "colab": {
          "base_uri": "https://localhost:8080/",
          "height": 570
        },
        "id": "-lE1Z_nQ-_op",
        "outputId": "94128519-9e6b-4168-eb7f-8ecd548dec8d"
      },
      "source": [
        "b1_filtered_business_result=filter_dict_by_value(b1_business_result,10)\n",
        "b1_filtered_stem_business_result=filter_dict_by_value(b1_stem_business_result,10)\n",
        "plot_dict(b1_filtered_business_result,b1_filtered_stem_business_result,line=False,title=\"Top 10 Most Frequent Words in Selected Business B1's Review\")"
      ],
      "execution_count": null,
      "outputs": [
        {
          "output_type": "display_data",
          "data": {
            "image/png": "[encoded data removed]",
            "text/plain": [
              "<Figure size 1152x648 with 2 Axes>"
            ]
          },
          "metadata": {
            "needs_background": "light"
          }
        }
      ]
    },
    {
      "cell_type": "code",
      "metadata": {
        "colab": {
          "base_uri": "https://localhost:8080/"
        },
        "id": "hAM4EKS3VPFO",
        "outputId": "07989c99-337a-4bfa-9131-aeae3e6bcc68"
      },
      "source": [
        "list(b1_filtered_business_result.keys())"
      ],
      "execution_count": null,
      "outputs": [
        {
          "output_type": "execute_result",
          "data": {
            "text/plain": [
              "['pho',\n",
              " 'food',\n",
              " 'good',\n",
              " 'vietnamese',\n",
              " 'place',\n",
              " 'service',\n",
              " 'rolls',\n",
              " 'rice',\n",
              " 'restaurant',\n",
              " 'like',\n",
              " 'beef']"
            ]
          },
          "metadata": {},
          "execution_count": 24
        }
      ]
    },
    {
      "cell_type": "code",
      "metadata": {
        "colab": {
          "base_uri": "https://localhost:8080/"
        },
        "id": "1Dj_1uGQVO_N",
        "outputId": "c5856cc7-e38b-4e35-8bb6-d3a35dde4f51"
      },
      "source": [
        "list(b1_filtered_stem_business_result.keys())"
      ],
      "execution_count": null,
      "outputs": [
        {
          "output_type": "execute_result",
          "data": {
            "text/plain": [
              "['pho',\n",
              " 'roll',\n",
              " 'food',\n",
              " 'place',\n",
              " 'restaur',\n",
              " 'good',\n",
              " 'vietnames',\n",
              " 'servic',\n",
              " 'like',\n",
              " 'order',\n",
              " 'rice']"
            ]
          },
          "metadata": {},
          "execution_count": 25
        }
      ]
    },
    {
      "cell_type": "code",
      "metadata": {
        "colab": {
          "base_uri": "https://localhost:8080/",
          "height": 570
        },
        "id": "PP6kjGjJ-_mB",
        "outputId": "3d7f8d08-f095-4d02-ad79-db1bfe6b38ce"
      },
      "source": [
        "b2_filtered_business_result=filter_dict_by_value(b2_business_result,10)\n",
        "b2_filtered_stem_business_result=filter_dict_by_value(b2_stem_business_result,10)\n",
        "plot_dict(b2_filtered_business_result,b2_filtered_stem_business_result,line=False,title=\"Top 10 Most Frequent Words in Selected Business B2's Review\")"
      ],
      "execution_count": null,
      "outputs": [
        {
          "output_type": "display_data",
          "data": {
            "image/png": "[encoded data removed]",
            "text/plain": [
              "<Figure size 1152x648 with 2 Axes>"
            ]
          },
          "metadata": {
            "needs_background": "light"
          }
        }
      ]
    },
    {
      "cell_type": "code",
      "metadata": {
        "colab": {
          "base_uri": "https://localhost:8080/"
        },
        "id": "FDRPhFvo4O_m",
        "outputId": "add51e45-e524-463c-cedd-27a197939cae"
      },
      "source": [
        "list(b2_filtered_business_result.keys())"
      ],
      "execution_count": null,
      "outputs": [
        {
          "output_type": "execute_result",
          "data": {
            "text/plain": [
              "['pho',\n",
              " 'good',\n",
              " 'place',\n",
              " 'great',\n",
              " 'food',\n",
              " 'service',\n",
              " 'broth',\n",
              " 'delicious',\n",
              " 'friendly',\n",
              " 'try',\n",
              " 'go']"
            ]
          },
          "metadata": {},
          "execution_count": 27
        }
      ]
    },
    {
      "cell_type": "code",
      "metadata": {
        "id": "zx8c2zItIa1U",
        "colab": {
          "base_uri": "https://localhost:8080/"
        },
        "outputId": "027aea55-1ffe-4ee2-d8a4-a49aae54a39d"
      },
      "source": [
        "list(b2_filtered_stem_business_result.keys())"
      ],
      "execution_count": null,
      "outputs": [
        {
          "output_type": "execute_result",
          "data": {
            "text/plain": [
              "['pho',\n",
              " 'place',\n",
              " 'good',\n",
              " 'great',\n",
              " 'food',\n",
              " 'servic',\n",
              " 'tri',\n",
              " 'price',\n",
              " 'order',\n",
              " 'time',\n",
              " 'broth']"
            ]
          },
          "metadata": {},
          "execution_count": 28
        }
      ]
    },
    {
      "cell_type": "markdown",
      "metadata": {
        "id": "O5lBo6mc0fZ3"
      },
      "source": [
        "# Section 4"
      ]
    },
    {
      "cell_type": "code",
      "metadata": {
        "id": "h1rjDr38IY1N"
      },
      "source": [
        "data_df=cleaned_df.copy()\n",
        "data_df=data_df[data_df['stars']!=3]\n",
        "# Set positive for review with 4 or 5 stars, remove review with 3 stars as neutral\n",
        "data_df['sentiment']=np.where(data_df['stars']>=4, 1, 0)"
      ],
      "execution_count": null,
      "outputs": []
    },
    {
      "cell_type": "code",
      "metadata": {
        "colab": {
          "base_uri": "https://localhost:8080/"
        },
        "id": "b-iXcWjCB6YD",
        "outputId": "f8481a54-aa38-4cf5-f75c-44257fe9a67c"
      },
      "source": [
        "data_df['sentiment'].value_counts()"
      ],
      "execution_count": null,
      "outputs": [
        {
          "output_type": "execute_result",
          "data": {
            "text/plain": [
              "1    9680\n",
              "0    3671\n",
              "Name: sentiment, dtype: int64"
            ]
          },
          "metadata": {},
          "execution_count": 31
        }
      ]
    },
    {
      "cell_type": "code",
      "metadata": {
        "colab": {
          "base_uri": "https://localhost:8080/"
        },
        "id": "AFuyZZ-Fbw3B",
        "outputId": "41883deb-418a-4d0f-9926-d540a269b3f1"
      },
      "source": [
        "from sklearn.model_selection import train_test_split\n",
        "\n",
        "x = data_df['text'].to_list()\n",
        "y = np.array(data_df['sentiment'].to_list())\n",
        "\n",
        "train_x,test_x,train_y,test_y = train_test_split( x, y, test_size=0.33, random_state=42)\n",
        "\n",
        "print('train_x:',len(train_x),'   train_y:', len(train_y)) \n",
        "print('test_x:',len(test_x),'   test_x:' ,len(test_y))"
      ],
      "execution_count": null,
      "outputs": [
        {
          "output_type": "stream",
          "name": "stdout",
          "text": [
            "train_x: 8945    train_y: 8945\n",
            "test_x: 4406    test_x: 4406\n"
          ]
        }
      ]
    },
    {
      "cell_type": "code",
      "metadata": {
        "id": "grMTsASeWBay"
      },
      "source": [
        "# Same as clean but add a stem function\n",
        "def stem_text(review):\n",
        "    stemmer = PorterStemmer()\n",
        "    stopwords_english = stopwords.words('english')\n",
        "\n",
        "    # remove float prices\n",
        "    review = re.sub(r'\\$[0-9.]+', '', review)\n",
        "    # remove stock market tickers if the businesses is LISTED\n",
        "    review = re.sub(r'\\$\\w*', '', review)\n",
        "    # remove remaining numbers like dates, scores\n",
        "    review = re.sub(r'[0-9/]*', '', review)\n",
        "    # remove hyperlinks\n",
        "    review = re.sub(r'https?:\\/\\/.*[\\r\\n]*', '', review)\n",
        "    # remove ...\n",
        "    review = re.sub(r'[.]', '', review)\n",
        "    # remove hashtags\n",
        "    # only removing the hash # sign from the word\n",
        "    review = re.sub(r'#', '', review)\n",
        "    \n",
        "    # tokenize review\n",
        "    tokenizer = TweetTokenizer(preserve_case=False, strip_handles=True,\n",
        "                               reduce_len=True)\n",
        "    review_tokens = tokenizer.tokenize(review)\n",
        "    #review_tokens =word_tokenize(review)\n",
        "    review_clean = []\n",
        "    for word in review_tokens:\n",
        "        if (word not in stopwords_english and  # remove stopwords\n",
        "            word not in string.punctuation):  # remove punctuation\n",
        "            # tweets_clean.append(word)\n",
        "            stem_word = stemmer.stem(word)  # stemming word\n",
        "            review_clean.append(stem_word)\n",
        "    return review_clean"
      ],
      "execution_count": null,
      "outputs": []
    },
    {
      "cell_type": "code",
      "metadata": {
        "id": "aUzSAf2J7jaw"
      },
      "source": [
        "# Add tokens with label to dictionary\n",
        "def count_label_reviews(result, reviews,ys):\n",
        "    for y,review in zip(ys,reviews):\n",
        "        for word in stem_text(review):\n",
        "            pair = (word,y)\n",
        "            # if the key exists in the dictionary, increment the count\n",
        "            if pair in result:\n",
        "                result[pair] += 1\n",
        "            # else, if the key is new, add it to the dictionary and set the count to 1\n",
        "            else:\n",
        "                result[pair] = 1\n",
        "    return result"
      ],
      "execution_count": null,
      "outputs": []
    },
    {
      "cell_type": "code",
      "metadata": {
        "id": "MBhC9dte78ic"
      },
      "source": [
        "# Build Frequency Dictionary\n",
        "freqs=count_label_reviews({}, train_x, train_y)"
      ],
      "execution_count": null,
      "outputs": []
    },
    {
      "cell_type": "code",
      "metadata": {
        "id": "hbkN2BLQ79If"
      },
      "source": [
        "def lookup(freqs, word, label):\n",
        "    n = 0  # freqs.get((word, label), 0)\n",
        "    pair = (word, label)\n",
        "    if (pair in freqs):\n",
        "        n = freqs[pair]\n",
        "    return n\n",
        "\n",
        "\n",
        "def train_naive_bayes(freqs, train_x, train_y):\n",
        "    loglikelihood = {}\n",
        "    logprior = 0\n",
        "    # calculate V, the number of unique words in the vocabulary\n",
        "    vocab = set([pair[0] for pair in freqs.keys()])\n",
        "    V = len(vocab)\n",
        "    # calculate N_pos and N_neg\n",
        "    N_pos = N_neg = 0\n",
        "    for pair in freqs.keys():\n",
        "        # if the label is positive (greater than zero)\n",
        "        if pair[1] > 0:\n",
        "            # Increment the number of positive words by the count for this (word, label) pair\n",
        "            N_pos += freqs[pair]\n",
        "        # else, the label is negative\n",
        "        else:\n",
        "            # increment the number of negative words by the count for this (word,label) pair\n",
        "            N_neg += freqs[pair]\n",
        "    # Calculate D, the number of documents\n",
        "    D = len(train_y)\n",
        "    # Calculate D_pos, the number of positive documents \n",
        "    D_pos = (len(list(filter(lambda x: x > 0, train_y))))\n",
        "    D_pos = np.count_nonzero(train_y > 0)\n",
        "    \n",
        "    # Calculate D_neg, the number of negative documents \n",
        "    D_neg = (len(list(filter(lambda x: x <= 0, train_y))))\n",
        "    \n",
        "    # Calculate logprior\n",
        "    logprior = np.log(D_pos) - np.log(D_neg)\n",
        "    # For each word in the vocabulary...\n",
        "    for word in vocab:\n",
        "        # get the positive and negative frequency of the word\n",
        "        freq_pos = lookup(freqs,word,1)\n",
        "        freq_neg = lookup(freqs,word,0)\n",
        "\n",
        "        # calculate the probability that each word is positive, and negative\n",
        "        p_w_pos = (freq_pos + 1) / (N_pos + V)\n",
        "        p_w_neg = (freq_neg + 1) / (N_neg + V)\n",
        "        # calculate the log likelihood of the word\n",
        "        loglikelihood[word] = np.log(p_w_pos/p_w_neg)\n",
        "    return logprior, loglikelihood\n"
      ],
      "execution_count": null,
      "outputs": []
    },
    {
      "cell_type": "code",
      "metadata": {
        "colab": {
          "base_uri": "https://localhost:8080/"
        },
        "id": "TWY6dMqwQaXL",
        "outputId": "8f49bdd8-a549-453a-d4bd-1753dde445f1"
      },
      "source": [
        "logprior, loglikelihood = train_naive_bayes(freqs, train_x, train_y)\n",
        "print(logprior)\n",
        "print(len(loglikelihood))"
      ],
      "execution_count": null,
      "outputs": [
        {
          "output_type": "stream",
          "name": "stdout",
          "text": [
            "0.9947076561838033\n",
            "18375\n"
          ]
        }
      ]
    },
    {
      "cell_type": "code",
      "metadata": {
        "id": "6pd8o3roQaRq",
        "colab": {
          "base_uri": "https://localhost:8080/"
        },
        "outputId": "d8f3d195-11ca-4cf8-b815-2899b51f6671"
      },
      "source": [
        "loglikelihood['pho']"
      ],
      "execution_count": null,
      "outputs": [
        {
          "output_type": "execute_result",
          "data": {
            "text/plain": [
              "0.5425677563016441"
            ]
          },
          "metadata": {},
          "execution_count": 44
        }
      ]
    },
    {
      "cell_type": "code",
      "metadata": {
        "id": "fI_3c-M579FY"
      },
      "source": [
        "\n",
        "def naive_bayes_predict(review, logprior, loglikelihood):\n",
        "    # process the tweet to get a list of words\n",
        "    word_l = stem_text(review)\n",
        "    # initialize probability to zero\n",
        "    p = 0\n",
        "    # add the logprior\n",
        "    p += logprior\n",
        "    for word in word_l:\n",
        "        # check if the word exists in the loglikelihood dictionary\n",
        "        if word in loglikelihood:\n",
        "            # add the log likelihood of that word to the probability\n",
        "            p += loglikelihood[word]\n",
        "\n",
        "    return p"
      ],
      "execution_count": null,
      "outputs": []
    },
    {
      "cell_type": "code",
      "metadata": {
        "colab": {
          "base_uri": "https://localhost:8080/"
        },
        "id": "MPzxkF6SQ2fj",
        "outputId": "829a0876-d7eb-4c0f-d77e-89da1f9f3b26"
      },
      "source": [
        "\n",
        "review = \"\"\"Not a bad little pub. Had the sliders, salt and pepper wings, and mushroom burger -- forgettable, but good. The fries are what I will remember, and come back for.\"\"\"\n",
        "p = naive_bayes_predict(review, logprior, loglikelihood)\n",
        "print('The expected output is', p)"
      ],
      "execution_count": null,
      "outputs": [
        {
          "output_type": "stream",
          "name": "stdout",
          "text": [
            "The expected output is 2.394832631795011\n"
          ]
        }
      ]
    },
    {
      "cell_type": "code",
      "metadata": {
        "id": "LbldF4YwQ4VL"
      },
      "source": [
        "# Test out lexicon accuracy\n",
        "def test_naive_bayes(test_x, test_y, logprior, loglikelihood):\n",
        "    accuracy = 0  # return this properly\n",
        "    y_hats = []\n",
        "    for tweet in test_x:\n",
        "        # if the prediction is > 0\n",
        "        if naive_bayes_predict(tweet, logprior, loglikelihood) > 0:\n",
        "            # the predicted class is 1\n",
        "            y_hat_i = 1\n",
        "        else:\n",
        "            # otherwise the predicted class is 0\n",
        "            y_hat_i = 0\n",
        "        # append the predicted class to the list y_hats\n",
        "        y_hats.append(y_hat_i)\n",
        "    # error is the average of the absolute values of the differences between y_hats and test_y\n",
        "    error = np.mean(np.absolute(y_hats-test_y))\n",
        "    # Accuracy is 1 minus the error\n",
        "    accuracy = 1-error\n",
        "\n",
        "    return accuracy"
      ],
      "execution_count": null,
      "outputs": []
    },
    {
      "cell_type": "code",
      "metadata": {
        "colab": {
          "base_uri": "https://localhost:8080/"
        },
        "id": "NFjdcWykRch8",
        "outputId": "a1530479-f4ab-48a3-d6a9-3c11e4fd5698"
      },
      "source": [
        "print(\"Naive Bayes accuracy = %0.4f\" %\n",
        "      (test_naive_bayes(test_x, test_y, logprior, loglikelihood)))"
      ],
      "execution_count": null,
      "outputs": [
        {
          "output_type": "stream",
          "name": "stdout",
          "text": [
            "Naive Bayes accuracy = 0.9001\n"
          ]
        }
      ]
    },
    {
      "cell_type": "code",
      "metadata": {
        "id": "DSIW6XqEReur"
      },
      "source": [
        ""
      ],
      "execution_count": null,
      "outputs": []
    },
    {
      "cell_type": "code",
      "metadata": {
        "colab": {
          "base_uri": "https://localhost:8080/"
        },
        "id": "iTHsFwmKRhxU",
        "outputId": "0a5a7e23-ebbe-4952-a59e-220146916bb5"
      },
      "source": [
        "example_reviews=['I am happy with the food', \n",
        "                 'Manager attitude is bad', \n",
        "                 'this dessert is good', \n",
        "                 'the food is not bad', \n",
        "                 'the food is acceptable'\n",
        "                 ]\n",
        "\n",
        "for review in example_reviews:\n",
        "    p = naive_bayes_predict(review, logprior, loglikelihood)\n",
        "    print(f'{review} -> {p:.2f}')"
      ],
      "execution_count": null,
      "outputs": [
        {
          "output_type": "stream",
          "name": "stdout",
          "text": [
            "I am happy with the food -> 2.40\n",
            "Manager attitude is bad -> -3.64\n",
            "this dessert is good -> 2.39\n",
            "the food is not bad -> 0.01\n",
            "the food is acceptable -> 0.18\n"
          ]
        }
      ]
    },
    {
      "cell_type": "code",
      "metadata": {
        "id": "UsmLtzkoQF9R"
      },
      "source": [
        ""
      ],
      "execution_count": null,
      "outputs": []
    },
    {
      "cell_type": "code",
      "metadata": {
        "id": "-tM1dyXmS7W0"
      },
      "source": [
        ""
      ],
      "execution_count": null,
      "outputs": []
    },
    {
      "cell_type": "code",
      "metadata": {
        "id": "C--RogI8S7UH"
      },
      "source": [
        "\n",
        "def get_ratio(freqs, word):\n",
        "  \n",
        "    pos_neg_ratio = {'positive': 0, 'negative': 0, 'ratio': 0.0}\n",
        "    \n",
        "    # use lookup() to find positive counts for the word (denoted by the integer 1)\n",
        "    pos_neg_ratio['positive'] =lookup(freqs,word,1)\n",
        "\n",
        "    # use lookup() to find negative counts for the word (denoted by integer 0)\n",
        "    pos_neg_ratio['negative'] = lookup(freqs,word,0)\n",
        "\n",
        "    # calculate the ratio of positive to negative counts for the word\n",
        "    pos_neg_ratio['ratio'] = (pos_neg_ratio['positive'] + 1)/(pos_neg_ratio['negative'] + 1)\n",
        "    \n",
        "    return pos_neg_ratio\n"
      ],
      "execution_count": null,
      "outputs": []
    },
    {
      "cell_type": "code",
      "metadata": {
        "colab": {
          "base_uri": "https://localhost:8080/"
        },
        "id": "Fl2_6BCkS7Rh",
        "outputId": "af11c5e0-ccfa-4098-ed21-9ae51d00c46f"
      },
      "source": [
        "get_ratio(freqs, 'satisfi')"
      ],
      "execution_count": null,
      "outputs": [
        {
          "output_type": "execute_result",
          "data": {
            "text/plain": [
              "{'negative': 27, 'positive': 119, 'ratio': 4.285714285714286}"
            ]
          },
          "metadata": {},
          "execution_count": 51
        }
      ]
    },
    {
      "cell_type": "code",
      "metadata": {
        "colab": {
          "base_uri": "https://localhost:8080/"
        },
        "id": "6nB-hJNHlaWp",
        "outputId": "06200e77-c849-472e-ac8e-d970b77a8353"
      },
      "source": [
        "get_ratio(freqs, 'none')"
      ],
      "execution_count": null,
      "outputs": [
        {
          "output_type": "execute_result",
          "data": {
            "text/plain": [
              "{'negative': 36, 'positive': 51, 'ratio': 1.4054054054054055}"
            ]
          },
          "metadata": {},
          "execution_count": 52
        }
      ]
    },
    {
      "cell_type": "code",
      "metadata": {
        "colab": {
          "base_uri": "https://localhost:8080/"
        },
        "id": "5INi1CDcTC_M",
        "outputId": "67ed944c-6bc4-4fa2-ccf0-443656a1c942"
      },
      "source": [
        "get_ratio(freqs, 'never')"
      ],
      "execution_count": null,
      "outputs": [
        {
          "output_type": "execute_result",
          "data": {
            "text/plain": [
              "{'negative': 803, 'positive': 643, 'ratio': 0.8009950248756219}"
            ]
          },
          "metadata": {},
          "execution_count": 53
        }
      ]
    },
    {
      "cell_type": "code",
      "metadata": {
        "id": "Vt7yA_efTR-t"
      },
      "source": [
        ""
      ],
      "execution_count": null,
      "outputs": []
    },
    {
      "cell_type": "code",
      "metadata": {
        "id": "i3r_nk4aTR78"
      },
      "source": [
        "\n",
        "def get_words_by_threshold(freqs, label, threshold):\n",
        "    \n",
        "    word_list = {}\n",
        "\n",
        "    for key in freqs.keys():\n",
        "        word, _ = key\n",
        "\n",
        "        # get the positive/negative ratio for a word\n",
        "        pos_neg_ratio = get_ratio(freqs, word)\n",
        "\n",
        "        # if the label is 1 and the ratio is greater than or equal to the threshold...\n",
        "        if label == 1 and pos_neg_ratio['ratio'] >= threshold:\n",
        "\n",
        "            # Add the pos_neg_ratio to the dictionary\n",
        "            word_list[word] = pos_neg_ratio\n",
        "\n",
        "        # If the label is 0 and the pos_neg_ratio is less than or equal to the threshold...\n",
        "        elif label == 0 and pos_neg_ratio['ratio'] <= threshold:\n",
        "\n",
        "            # Add the pos_neg_ratio to the dictionary\n",
        "            word_list[word] = pos_neg_ratio\n",
        "\n",
        "        # otherwise, do not include this word in the list (do nothing)\n",
        "    return word_list"
      ],
      "execution_count": null,
      "outputs": []
    },
    {
      "cell_type": "code",
      "metadata": {
        "colab": {
          "base_uri": "https://localhost:8080/"
        },
        "id": "EMkjEDmTS7Ou",
        "outputId": "d7a1b869-e413-4619-fa0b-f646ca4847a3"
      },
      "source": [
        "get_words_by_threshold(freqs, label=0, threshold=0.05)"
      ],
      "execution_count": null,
      "outputs": [
        {
          "output_type": "execute_result",
          "data": {
            "text/plain": [
              "{'disrespect': {'negative': 24, 'positive': 0, 'ratio': 0.04},\n",
              " 'rebeccah': {'negative': 23, 'positive': 0, 'ratio': 0.041666666666666664},\n",
              " 'refund': {'negative': 71, 'positive': 0, 'ratio': 0.013888888888888888}}"
            ]
          },
          "metadata": {},
          "execution_count": 55
        }
      ]
    },
    {
      "cell_type": "code",
      "metadata": {
        "colab": {
          "base_uri": "https://localhost:8080/"
        },
        "id": "7HAMCr2oTZbD",
        "outputId": "bcccb31d-d0bf-4c59-eb7a-45f527405145"
      },
      "source": [
        "get_words_by_threshold(freqs, label=1, threshold=10)"
      ],
      "execution_count": null,
      "outputs": [
        {
          "output_type": "execute_result",
          "data": {
            "text/plain": [
              "{':-)': {'negative': 0, 'positive': 14, 'ratio': 15.0},\n",
              " '=)': {'negative': 0, 'positive': 14, 'ratio': 15.0},\n",
              " 'addict': {'negative': 2, 'positive': 47, 'ratio': 16.0},\n",
              " 'ador': {'negative': 0, 'positive': 24, 'ratio': 25.0},\n",
              " 'ah': {'negative': 0, 'positive': 9, 'ratio': 10.0},\n",
              " 'aj': {'negative': 0, 'positive': 10, 'ratio': 11.0},\n",
              " 'alex': {'negative': 0, 'positive': 15, 'ratio': 16.0},\n",
              " 'alicia': {'negative': 0, 'positive': 18, 'ratio': 19.0},\n",
              " 'amanda': {'negative': 0, 'positive': 9, 'ratio': 10.0},\n",
              " 'amaz': {'negative': 53, 'positive': 1074, 'ratio': 19.90740740740741},\n",
              " 'amazingli': {'negative': 1, 'positive': 26, 'ratio': 13.5},\n",
              " 'ammo': {'negative': 0, 'positive': 9, 'ratio': 10.0},\n",
              " 'ampl': {'negative': 1, 'positive': 19, 'ratio': 10.0},\n",
              " 'anh': {'negative': 0, 'positive': 10, 'ratio': 11.0},\n",
              " 'announc': {'negative': 0, 'positive': 9, 'ratio': 10.0},\n",
              " 'anthoni': {'negative': 0, 'positive': 9, 'ratio': 10.0},\n",
              " 'arrang': {'negative': 5, 'positive': 70, 'ratio': 11.833333333333334},\n",
              " 'artwork': {'negative': 0, 'positive': 12, 'ratio': 13.0},\n",
              " 'auden': {'negative': 0, 'positive': 20, 'ratio': 21.0},\n",
              " 'averi': {'negative': 0, 'positive': 13, 'ratio': 14.0},\n",
              " 'awesom': {'negative': 43, 'positive': 609, 'ratio': 13.863636363636363},\n",
              " 'ba': {'negative': 0, 'positive': 9, 'ratio': 10.0},\n",
              " 'baba': {'negative': 0, 'positive': 17, 'ratio': 18.0},\n",
              " 'baiz': {'negative': 1, 'positive': 31, 'ratio': 16.0},\n",
              " 'baja': {'negative': 0, 'positive': 10, 'ratio': 11.0},\n",
              " 'baklava': {'negative': 0, 'positive': 28, 'ratio': 29.0},\n",
              " 'bambu': {'negative': 1, 'positive': 35, 'ratio': 18.0},\n",
              " 'banh': {'negative': 2, 'positive': 84, 'ratio': 28.333333333333332},\n",
              " 'bao': {'negative': 2, 'positive': 46, 'ratio': 15.666666666666666},\n",
              " 'battleship': {'negative': 2, 'positive': 51, 'ratio': 17.333333333333332},\n",
              " 'beach': {'negative': 1, 'positive': 37, 'ratio': 19.0},\n",
              " 'benedict': {'negative': 1, 'positive': 20, 'ratio': 10.5},\n",
              " \"benny'\": {'negative': 0, 'positive': 17, 'ratio': 18.0},\n",
              " 'berri': {'negative': 1, 'positive': 19, 'ratio': 10.0},\n",
              " 'boba': {'negative': 0, 'positive': 38, 'ratio': 39.0},\n",
              " 'bobbi': {'negative': 2, 'positive': 32, 'ratio': 11.0},\n",
              " 'bold': {'negative': 0, 'positive': 13, 'ratio': 14.0},\n",
              " 'bomb': {'negative': 1, 'positive': 45, 'ratio': 23.0},\n",
              " 'booz': {'negative': 0, 'positive': 12, 'ratio': 13.0},\n",
              " 'bravo': {'negative': 0, 'positive': 10, 'ratio': 11.0},\n",
              " 'breez': {'negative': 0, 'positive': 13, 'ratio': 14.0},\n",
              " 'breweri': {'negative': 2, 'positive': 38, 'ratio': 13.0},\n",
              " 'bridg': {'negative': 0, 'positive': 10, 'ratio': 11.0},\n",
              " 'brooklin': {'negative': 0, 'positive': 16, 'ratio': 17.0},\n",
              " 'brûlée': {'negative': 0, 'positive': 12, 'ratio': 13.0},\n",
              " 'burgh': {'negative': 0, 'positive': 11, 'ratio': 12.0},\n",
              " 'butcher': {'negative': 0, 'positive': 9, 'ratio': 10.0},\n",
              " 'camper': {'negative': 0, 'positive': 10, 'ratio': 11.0},\n",
              " 'catfish': {'negative': 5, 'positive': 63, 'ratio': 10.666666666666666},\n",
              " 'chalkboard': {'negative': 0, 'positive': 9, 'ratio': 10.0},\n",
              " 'chaufa': {'negative': 0, 'positive': 11, 'ratio': 12.0},\n",
              " 'che': {'negative': 0, 'positive': 18, 'ratio': 19.0},\n",
              " 'chelsea': {'negative': 0, 'positive': 9, 'ratio': 10.0},\n",
              " 'childhood': {'negative': 0, 'positive': 17, 'ratio': 18.0},\n",
              " 'chilli': {'negative': 0, 'positive': 18, 'ratio': 19.0},\n",
              " 'chorizo': {'negative': 1, 'positive': 36, 'ratio': 18.5},\n",
              " 'christoph': {'negative': 0, 'positive': 23, 'ratio': 24.0},\n",
              " 'chuck': {'negative': 0, 'positive': 10, 'ratio': 11.0},\n",
              " 'cider': {'negative': 0, 'positive': 11, 'ratio': 12.0},\n",
              " 'clay': {'negative': 0, 'positive': 14, 'ratio': 15.0},\n",
              " 'cleveland': {'negative': 0, 'positive': 51, 'ratio': 52.0},\n",
              " 'coconut': {'negative': 8, 'positive': 100, 'ratio': 11.222222222222221},\n",
              " 'compassion': {'negative': 1, 'positive': 21, 'ratio': 11.0},\n",
              " 'complement': {'negative': 0, 'positive': 11, 'ratio': 12.0},\n",
              " 'compon': {'negative': 0, 'positive': 9, 'ratio': 10.0},\n",
              " 'concert': {'negative': 0, 'positive': 11, 'ratio': 12.0},\n",
              " 'cone': {'negative': 1, 'positive': 52, 'ratio': 26.5},\n",
              " 'confit': {'negative': 0, 'positive': 16, 'ratio': 17.0},\n",
              " 'connoisseur': {'negative': 0, 'positive': 11, 'ratio': 12.0},\n",
              " 'courteou': {'negative': 5, 'positive': 72, 'ratio': 12.166666666666666},\n",
              " 'cozi': {'negative': 1, 'positive': 50, 'ratio': 25.5},\n",
              " 'craft': {'negative': 2, 'positive': 64, 'ratio': 21.666666666666668},\n",
              " 'creativ': {'negative': 2, 'positive': 32, 'ratio': 11.0},\n",
              " 'crystal': {'negative': 0, 'positive': 13, 'ratio': 14.0},\n",
              " 'dandelion': {'negative': 0, 'positive': 25, 'ratio': 26.0},\n",
              " 'dao': {'negative': 0, 'positive': 10, 'ratio': 11.0},\n",
              " 'dariu': {'negative': 0, 'positive': 9, 'ratio': 10.0},\n",
              " 'darlen': {'negative': 0, 'positive': 12, 'ratio': 13.0},\n",
              " 'decad': {'negative': 0, 'positive': 20, 'ratio': 21.0},\n",
              " 'dee': {'negative': 4, 'positive': 63, 'ratio': 12.8},\n",
              " 'delect': {'negative': 0, 'positive': 11, 'ratio': 12.0},\n",
              " 'delici': {'negative': 57, 'positive': 1111, 'ratio': 19.17241379310345},\n",
              " 'delight': {'negative': 5, 'positive': 69, 'ratio': 11.666666666666666},\n",
              " 'delish': {'negative': 2, 'positive': 47, 'ratio': 16.0},\n",
              " 'dentist': {'negative': 7, 'positive': 87, 'ratio': 11.0},\n",
              " 'devil': {'negative': 0, 'positive': 11, 'ratio': 12.0},\n",
              " 'disc': {'negative': 0, 'positive': 29, 'ratio': 30.0},\n",
              " 'divers': {'negative': 0, 'positive': 18, 'ratio': 19.0},\n",
              " 'divin': {'negative': 0, 'positive': 9, 'ratio': 10.0},\n",
              " 'draft': {'negative': 2, 'positive': 30, 'ratio': 10.333333333333334},\n",
              " 'dread': {'negative': 0, 'positive': 10, 'ratio': 11.0},\n",
              " 'dream': {'negative': 3, 'positive': 40, 'ratio': 10.25},\n",
              " 'drool': {'negative': 0, 'positive': 9, 'ratio': 10.0},\n",
              " 'duck': {'negative': 5, 'positive': 60, 'ratio': 10.166666666666666},\n",
              " \"ed'\": {'negative': 0, 'positive': 50, 'ratio': 51.0},\n",
              " 'entré': {'negative': 0, 'positive': 10, 'ratio': 11.0},\n",
              " 'exceed': {'negative': 1, 'positive': 35, 'ratio': 18.0},\n",
              " 'excel': {'negative': 44, 'positive': 540, 'ratio': 12.022222222222222},\n",
              " 'explor': {'negative': 1, 'positive': 26, 'ratio': 13.5},\n",
              " 'fantast': {'negative': 19, 'positive': 262, 'ratio': 13.15},\n",
              " 'farmer': {'negative': 0, 'positive': 12, 'ratio': 13.0},\n",
              " 'fav': {'negative': 1, 'positive': 28, 'ratio': 14.5},\n",
              " 'favourit': {'negative': 5, 'positive': 116, 'ratio': 19.5},\n",
              " 'feta': {'negative': 0, 'positive': 17, 'ratio': 18.0},\n",
              " 'firehous': {'negative': 0, 'positive': 9, 'ratio': 10.0},\n",
              " 'fixler': {'negative': 0, 'positive': 91, 'ratio': 92.0},\n",
              " 'florist': {'negative': 0, 'positive': 14, 'ratio': 15.0},\n",
              " 'flower': {'negative': 3, 'positive': 116, 'ratio': 29.25},\n",
              " 'fragrant': {'negative': 0, 'positive': 11, 'ratio': 12.0},\n",
              " 'frederick': {'negative': 0, 'positive': 9, 'ratio': 10.0},\n",
              " 'fresh': {'negative': 81, 'positive': 823, 'ratio': 10.048780487804878},\n",
              " 'friendliest': {'negative': 0, 'positive': 12, 'ratio': 13.0},\n",
              " 'froyo': {'negative': 0, 'positive': 11, 'ratio': 12.0},\n",
              " 'funnel': {'negative': 0, 'positive': 9, 'ratio': 10.0},\n",
              " 'fur': {'negative': 0, 'positive': 9, 'ratio': 10.0},\n",
              " 'fyi': {'negative': 0, 'positive': 13, 'ratio': 14.0},\n",
              " 'garlicki': {'negative': 0, 'positive': 9, 'ratio': 10.0},\n",
              " 'gelato': {'negative': 0, 'positive': 46, 'ratio': 47.0},\n",
              " 'gem': {'negative': 0, 'positive': 120, 'ratio': 121.0},\n",
              " 'gentl': {'negative': 1, 'positive': 38, 'ratio': 19.5},\n",
              " 'ginorm': {'negative': 0, 'positive': 10, 'ratio': 11.0},\n",
              " 'glad': {'negative': 16, 'positive': 182, 'ratio': 10.764705882352942},\n",
              " 'glow': {'negative': 0, 'positive': 15, 'ratio': 16.0},\n",
              " 'go-to': {'negative': 1, 'positive': 56, 'ratio': 28.5},\n",
              " 'golden': {'negative': 1, 'positive': 19, 'ratio': 10.0},\n",
              " 'goodi': {'negative': 1, 'positive': 20, 'ratio': 10.5},\n",
              " 'grate': {'negative': 1, 'positive': 37, 'ratio': 19.0},\n",
              " 'greg': {'negative': 0, 'positive': 53, 'ratio': 54.0},\n",
              " 'guid': {'negative': 0, 'positive': 13, 'ratio': 14.0},\n",
              " 'gyro': {'negative': 5, 'positive': 74, 'ratio': 12.5},\n",
              " 'haha': {'negative': 1, 'positive': 29, 'ratio': 15.0},\n",
              " 'hakkasan': {'negative': 0, 'positive': 13, 'ratio': 14.0},\n",
              " 'hana': {'negative': 0, 'positive': 11, 'ratio': 12.0},\n",
              " 'hangout': {'negative': 0, 'positive': 16, 'ratio': 17.0},\n",
              " 'hangov': {'negative': 0, 'positive': 11, 'ratio': 12.0},\n",
              " 'hank': {'negative': 0, 'positive': 19, 'ratio': 20.0},\n",
              " 'happier': {'negative': 1, 'positive': 30, 'ratio': 15.5},\n",
              " 'harder': {'negative': 0, 'positive': 9, 'ratio': 10.0},\n",
              " 'hawaii': {'negative': 1, 'positive': 31, 'ratio': 16.0},\n",
              " 'healthier': {'negative': 1, 'positive': 21, 'ratio': 11.0},\n",
              " 'heavenli': {'negative': 0, 'positive': 17, 'ratio': 18.0},\n",
              " 'herb': {'negative': 1, 'positive': 20, 'ratio': 10.5},\n",
              " 'highli': {'negative': 22, 'positive': 418, 'ratio': 18.217391304347824},\n",
              " 'hoagi': {'negative': 2, 'positive': 53, 'ratio': 18.0},\n",
              " 'homemad': {'negative': 4, 'positive': 83, 'ratio': 16.8},\n",
              " 'homestead': {'negative': 1, 'positive': 21, 'ratio': 11.0},\n",
              " 'honeygrow': {'negative': 0, 'positive': 25, 'ratio': 26.0},\n",
              " 'hottest': {'negative': 0, 'positive': 9, 'ratio': 10.0},\n",
              " 'hp': {'negative': 0, 'positive': 11, 'ratio': 12.0},\n",
              " 'hushpuppi': {'negative': 0, 'positive': 10, 'ratio': 11.0},\n",
              " 'hydrotherapi': {'negative': 0, 'positive': 9, 'ratio': 10.0},\n",
              " 'idol': {'negative': 2, 'positive': 30, 'ratio': 10.333333333333334},\n",
              " 'ila': {'negative': 0, 'positive': 23, 'ratio': 24.0},\n",
              " 'immacul': {'negative': 0, 'positive': 10, 'ratio': 11.0},\n",
              " 'impecc': {'negative': 0, 'positive': 22, 'ratio': 23.0},\n",
              " 'institut': {'negative': 2, 'positive': 36, 'ratio': 12.333333333333334},\n",
              " 'jalapeno': {'negative': 0, 'positive': 23, 'ratio': 24.0},\n",
              " 'jambalaya': {'negative': 1, 'positive': 22, 'ratio': 11.5},\n",
              " 'jamburrito': {'negative': 3, 'positive': 54, 'ratio': 13.75},\n",
              " 'jame': {'negative': 0, 'positive': 25, 'ratio': 26.0},\n",
              " 'jane': {'negative': 1, 'positive': 22, 'ratio': 11.5},\n",
              " 'jasmin': {'negative': 0, 'positive': 9, 'ratio': 10.0},\n",
              " 'jazz': {'negative': 0, 'positive': 14, 'ratio': 15.0},\n",
              " 'jean': {'negative': 0, 'positive': 15, 'ratio': 16.0},\n",
              " 'jess': {'negative': 0, 'positive': 10, 'ratio': 11.0},\n",
              " 'juici': {'negative': 11, 'positive': 128, 'ratio': 10.75},\n",
              " 'julep': {'negative': 3, 'positive': 62, 'ratio': 15.75},\n",
              " 'katsu': {'negative': 0, 'positive': 24, 'ratio': 25.0},\n",
              " 'kauai': {'negative': 1, 'positive': 39, 'ratio': 20.0},\n",
              " 'kayla': {'negative': 0, 'positive': 12, 'ratio': 13.0},\n",
              " 'kiddo': {'negative': 0, 'positive': 11, 'ratio': 12.0},\n",
              " 'kinkad': {'negative': 0, 'positive': 11, 'ratio': 12.0},\n",
              " 'kitchenett': {'negative': 0, 'positive': 10, 'ratio': 11.0},\n",
              " 'knowledg': {'negative': 15, 'positive': 184, 'ratio': 11.5625},\n",
              " 'lasagna': {'negative': 1, 'positive': 34, 'ratio': 17.5},\n",
              " 'lasik': {'negative': 5, 'positive': 77, 'ratio': 13.0},\n",
              " 'latin': {'negative': 0, 'positive': 15, 'ratio': 16.0},\n",
              " 'lau': {'negative': 0, 'positive': 22, 'ratio': 23.0},\n",
              " 'lavend': {'negative': 0, 'positive': 11, 'ratio': 12.0},\n",
              " 'legit': {'negative': 1, 'positive': 28, 'ratio': 14.5},\n",
              " 'lili': {'negative': 0, 'positive': 11, 'ratio': 12.0},\n",
              " 'lohmey': {'negative': 0, 'positive': 10, 'ratio': 11.0},\n",
              " 'lomi': {'negative': 0, 'positive': 11, 'ratio': 12.0},\n",
              " 'love': {'negative': 180, 'positive': 1826, 'ratio': 10.0939226519337},\n",
              " 'lucio': {'negative': 0, 'positive': 11, 'ratio': 12.0},\n",
              " 'make-up': {'negative': 0, 'positive': 10, 'ratio': 11.0},\n",
              " 'maria': {'negative': 0, 'positive': 9, 'ratio': 10.0},\n",
              " 'marlow': {'negative': 0, 'positive': 11, 'ratio': 12.0},\n",
              " 'marshmallow': {'negative': 2, 'positive': 33, 'ratio': 11.333333333333334},\n",
              " 'masubi': {'negative': 0, 'positive': 9, 'ratio': 10.0},\n",
              " 'mayworth': {'negative': 0, 'positive': 9, 'ratio': 10.0},\n",
              " 'mead': {'negative': 0, 'positive': 10, 'ratio': 11.0},\n",
              " 'mega': {'negative': 0, 'positive': 9, 'ratio': 10.0},\n",
              " 'michel': {'negative': 5, 'positive': 105, 'ratio': 17.666666666666668},\n",
              " 'mild': {'negative': 2, 'positive': 36, 'ratio': 12.333333333333334},\n",
              " 'mint': {'negative': 2, 'positive': 43, 'ratio': 14.666666666666666},\n",
              " 'mississauga': {'negative': 0, 'positive': 21, 'ratio': 22.0},\n",
              " 'mmm': {'negative': 0, 'positive': 23, 'ratio': 24.0},\n",
              " 'mod': {'negative': 0, 'positive': 9, 'ratio': 10.0},\n",
              " 'moist': {'negative': 3, 'positive': 41, 'ratio': 10.5},\n",
              " \"mom'\": {'negative': 0, 'positive': 11, 'ratio': 12.0},\n",
              " 'necessarili': {'negative': 0, 'positive': 10, 'ratio': 11.0},\n",
              " 'nem': {'negative': 0, 'positive': 10, 'ratio': 11.0},\n",
              " 'nicest': {'negative': 2, 'positive': 34, 'ratio': 11.666666666666666},\n",
              " 'nicol': {'negative': 0, 'positive': 11, 'ratio': 12.0},\n",
              " 'nitro': {'negative': 0, 'positive': 9, 'ratio': 10.0},\n",
              " 'nonetheless': {'negative': 0, 'positive': 23, 'ratio': 24.0},\n",
              " 'notch': {'negative': 0, 'positive': 67, 'ratio': 68.0},\n",
              " 'novanta': {'negative': 0, 'positive': 11, 'ratio': 12.0},\n",
              " 'npl': {'negative': 0, 'positive': 14, 'ratio': 15.0},\n",
              " 'nuong': {'negative': 0, 'positive': 15, 'ratio': 16.0},\n",
              " 'nutella': {'negative': 0, 'positive': 11, 'ratio': 12.0},\n",
              " 'obsess': {'negative': 0, 'positive': 12, 'ratio': 13.0},\n",
              " 'ono': {'negative': 0, 'positive': 11, 'ratio': 12.0},\n",
              " 'optometrist': {'negative': 0, 'positive': 9, 'ratio': 10.0},\n",
              " 'oscar': {'negative': 0, 'positive': 10, 'ratio': 11.0},\n",
              " 'outstand': {'negative': 9, 'positive': 108, 'ratio': 10.9},\n",
              " 'oxtail': {'negative': 2, 'positive': 43, 'ratio': 14.666666666666666},\n",
              " 'painless': {'negative': 0, 'positive': 22, 'ratio': 23.0},\n",
              " 'particip': {'negative': 0, 'positive': 10, 'ratio': 11.0},\n",
              " 'paw': {'negative': 0, 'positive': 11, 'ratio': 12.0},\n",
              " 'penza': {'negative': 0, 'positive': 10, 'ratio': 11.0},\n",
              " 'perfect': {'negative': 30, 'positive': 507, 'ratio': 16.387096774193548},\n",
              " 'perfectli': {'negative': 12, 'positive': 198, 'ratio': 15.307692307692308},\n",
              " 'perlou': {'negative': 0, 'positive': 11, 'ratio': 12.0},\n",
              " 'pesto': {'negative': 0, 'positive': 16, 'ratio': 17.0},\n",
              " 'phenomen': {'negative': 2, 'positive': 47, 'ratio': 16.0},\n",
              " 'pimento': {'negative': 0, 'positive': 9, 'ratio': 10.0},\n",
              " 'pino': {'negative': 0, 'positive': 27, 'ratio': 28.0},\n",
              " 'pint': {'negative': 0, 'positive': 11, 'ratio': 12.0},\n",
              " 'pistachio': {'negative': 1, 'positive': 19, 'ratio': 10.0},\n",
              " 'pitaland': {'negative': 0, 'positive': 28, 'ratio': 29.0},\n",
              " 'pittsburgh': {'negative': 7, 'positive': 132, 'ratio': 16.625},\n",
              " 'pleasantli': {'negative': 3, 'positive': 50, 'ratio': 12.75},\n",
              " 'poi': {'negative': 0, 'positive': 9, 'ratio': 10.0},\n",
              " 'poki': {'negative': 0, 'positive': 26, 'ratio': 27.0},\n",
              " 'portobello': {'negative': 0, 'positive': 10, 'ratio': 11.0},\n",
              " 'post-op': {'negative': 0, 'positive': 10, 'ratio': 11.0},\n",
              " 'pretzel': {'negative': 12, 'positive': 203, 'ratio': 15.692307692307692},\n",
              " 'pup': {'negative': 1, 'positive': 27, 'ratio': 14.0},\n",
              " 'purpl': {'negative': 0, 'positive': 15, 'ratio': 16.0},\n",
              " 'quaint': {'negative': 0, 'positive': 17, 'ratio': 18.0},\n",
              " 'queso': {'negative': 0, 'positive': 15, 'ratio': 16.0},\n",
              " 'quest': {'negative': 0, 'positive': 10, 'ratio': 11.0},\n",
              " 'radish': {'negative': 0, 'positive': 9, 'ratio': 10.0},\n",
              " 'rainbow': {'negative': 1, 'positive': 22, 'ratio': 11.5},\n",
              " 'rapini': {'negative': 0, 'positive': 10, 'ratio': 11.0},\n",
              " 'raspberri': {'negative': 1, 'positive': 37, 'ratio': 19.0},\n",
              " 'rebecca': {'negative': 0, 'positive': 9, 'ratio': 10.0},\n",
              " 'rival': {'negative': 0, 'positive': 29, 'ratio': 30.0},\n",
              " 'rooftop': {'negative': 0, 'positive': 34, 'ratio': 35.0},\n",
              " 'rosi': {'negative': 0, 'positive': 10, 'ratio': 11.0},\n",
              " 'rso': {'negative': 0, 'positive': 9, 'ratio': 10.0},\n",
              " 'rudd': {'negative': 0, 'positive': 19, 'ratio': 20.0},\n",
              " 'ryan': {'negative': 0, 'positive': 12, 'ratio': 13.0},\n",
              " 'satay': {'negative': 1, 'positive': 23, 'ratio': 12.0},\n",
              " 'savori': {'negative': 0, 'positive': 26, 'ratio': 27.0},\n",
              " 'scott': {'negative': 0, 'positive': 21, 'ratio': 22.0},\n",
              " 'select': {'negative': 40, 'positive': 417, 'ratio': 10.195121951219512},\n",
              " 'sexi': {'negative': 0, 'positive': 22, 'ratio': 23.0},\n",
              " 'shank': {'negative': 0, 'positive': 11, 'ratio': 12.0},\n",
              " 'shine': {'negative': 4, 'positive': 67, 'ratio': 13.6},\n",
              " 'sleek': {'negative': 0, 'positive': 10, 'ratio': 11.0},\n",
              " 'sooth': {'negative': 0, 'positive': 10, 'ratio': 11.0},\n",
              " 'sourc': {'negative': 0, 'positive': 11, 'ratio': 12.0},\n",
              " 'southsid': {'negative': 0, 'positive': 13, 'ratio': 14.0},\n",
              " 'spaciou': {'negative': 4, 'positive': 68, 'ratio': 13.8},\n",
              " 'speedi': {'negative': 0, 'positive': 10, 'ratio': 11.0},\n",
              " 'spinach': {'negative': 3, 'positive': 49, 'ratio': 12.5},\n",
              " 'steve': {'negative': 0, 'positive': 29, 'ratio': 30.0},\n",
              " 'stout': {'negative': 0, 'positive': 9, 'ratio': 10.0},\n",
              " 'subtl': {'negative': 0, 'positive': 13, 'ratio': 14.0},\n",
              " 'succul': {'negative': 0, 'positive': 9, 'ratio': 10.0},\n",
              " 'summerlin': {'negative': 0, 'positive': 12, 'ratio': 13.0},\n",
              " 'superb': {'negative': 1, 'positive': 36, 'ratio': 18.5},\n",
              " 'surf': {'negative': 0, 'positive': 11, 'ratio': 12.0},\n",
              " 'surgeri': {'negative': 8, 'positive': 99, 'ratio': 11.11111111111111},\n",
              " 'surgic': {'negative': 0, 'positive': 9, 'ratio': 10.0},\n",
              " 'swissval': {'negative': 0, 'positive': 10, 'ratio': 11.0},\n",
              " 'tang': {'negative': 0, 'positive': 12, 'ratio': 13.0},\n",
              " 'tapioca': {'negative': 0, 'positive': 11, 'ratio': 12.0},\n",
              " 'tension': {'negative': 0, 'positive': 9, 'ratio': 10.0},\n",
              " 'terrif': {'negative': 2, 'positive': 41, 'ratio': 14.0},\n",
              " 'thanksgiv': {'negative': 0, 'positive': 12, 'ratio': 13.0},\n",
              " 'thorough': {'negative': 3, 'positive': 51, 'ratio': 13.0},\n",
              " 'tj': {'negative': 0, 'positive': 53, 'ratio': 54.0},\n",
              " \"tj'\": {'negative': 2, 'positive': 33, 'ratio': 11.333333333333334},\n",
              " 'top-notch': {'negative': 0, 'positive': 9, 'ratio': 10.0},\n",
              " 'trish': {'negative': 0, 'positive': 23, 'ratio': 24.0},\n",
              " 'unassum': {'negative': 0, 'positive': 9, 'ratio': 10.0},\n",
              " 'underground': {'negative': 0, 'positive': 10, 'ratio': 11.0},\n",
              " 'uniqu': {'negative': 6, 'positive': 126, 'ratio': 18.142857142857142},\n",
              " 'vape': {'negative': 2, 'positive': 49, 'ratio': 16.666666666666668},\n",
              " 'vapor': {'negative': 0, 'positive': 31, 'ratio': 32.0},\n",
              " 'varieti': {'negative': 19, 'positive': 211, 'ratio': 10.6},\n",
              " 'vibe': {'negative': 11, 'positive': 130, 'ratio': 10.916666666666666},\n",
              " 'wellish': {'negative': 5, 'positive': 115, 'ratio': 19.333333333333332},\n",
              " 'wheelfish': {'negative': 0, 'positive': 26, 'ratio': 27.0},\n",
              " 'whine': {'negative': 0, 'positive': 16, 'ratio': 17.0},\n",
              " 'wide': {'negative': 4, 'positive': 61, 'ratio': 12.4},\n",
              " \"wilensky'\": {'negative': 0, 'positive': 22, 'ratio': 23.0},\n",
              " 'wind': {'negative': 0, 'positive': 11, 'ratio': 12.0},\n",
              " 'xs': {'negative': 2, 'positive': 35, 'ratio': 12.0},\n",
              " 'yam': {'negative': 0, 'positive': 9, 'ratio': 10.0},\n",
              " 'yum': {'negative': 4, 'positive': 103, 'ratio': 20.8},\n",
              " 'yummi': {'negative': 10, 'positive': 179, 'ratio': 16.363636363636363}}"
            ]
          },
          "metadata": {},
          "execution_count": 56
        }
      ]
    },
    {
      "cell_type": "code",
      "metadata": {
        "colab": {
          "base_uri": "https://localhost:8080/"
        },
        "id": "8OruCvuBSJ37",
        "outputId": "17dd8c15-d84a-4d96-96c2-33b78065e004"
      },
      "source": [
        "# Some error analysis done for you\n",
        "print('Truth Predicted Review')\n",
        "for x, y in zip(test_x, test_y):\n",
        "    y_hat = naive_bayes_predict(x, logprior, loglikelihood)\n",
        "    if y != (np.sign(y_hat) > 0):\n",
        "        print('%d\\t%0.2f\\t%s' % (y, np.sign(y_hat) > 0, ' '.join(\n",
        "            stem_text(x)).encode('ascii', 'ignore')))"
      ],
      "execution_count": null,
      "outputs": [
        {
          "output_type": "stream",
          "name": "stdout",
          "text": [
            "Truth Predicted Review\n",
            "1\t0.00\tb\"great pho i'v love two time i'v gone tonight went get pho go i'm sick flu told gal regist order sick i'd wait car right front made told want get anyon els sick kind within minut get car step gave ginger tea sip wait help flu everyon world consider world would infinit better place\"\n",
            "0\t1.00\tb\"came summerlici friend order veal lasagna fri cauliflow side honestli say meal horrendousth veal lasagna swim greas noodl overcook like mush furthermor total tasteless can't even find word aw cauliflow certainli fri boil overcook sit water total devoid tast would serv senior hospit return day us ate fabul food everywher fresh ingredi burst flavor ate cool bistro suburban detroit delici brussel sprout local grown i'v ever eaten made agav nectar sharazi compar aw cauliflow last night toronto need learn lesson good cuisin know joann kate think even palat food gross morn even feel ill greas wake toronto\"\n",
            "0\t1.00\tb\"teri beef plate flavor wise marinad onolici go back usual loco kine grindz spot island flavor i'm big eater struggl finish heap plate thick juici steak island flavor kauai cafe teri beef tasti portion like mini plate door go directli nearbi carl' jr bacon guacamol burger right still hungri\"\n",
            "0\t1.00\tb'went footbal sunday told menu reduc quick american disappoint would mind wait good french cuisin order tradit plate left menu avoid burger fri good better place better food know much french food curiou music loud rappish r b although dine alon would imagin would difficult carri convers staff friendli servic good enough bring back repeat'\n",
            "0\t1.00\tb'place draw rd rate comic charg st rate price absolut comedi yuk yuk far superior option toronto reccomend comedi bar anyon look good night rivoli also comedi night good option'\n",
            "0\t1.00\tb'longer todd english menu gone raw bar pot pie price expens ruben ok servic great want option food slow come empti fan good bye'\n",
            "0\t1.00\tb'food good enough price fair pasta around meat dish howev server unscrupul announc price daili special assum similar regular menu price veal special two special order chardonnay server suggest order litr instead turn two desert coffe total tab came buyer bewar'\n",
            "0\t1.00\tb'food servic decent henc star conge queen steel alway busi definit wayyy better locat disappoint hong kong style lobster soggi fresh'\n",
            "1\t0.00\tb\"buda stew armi base good one waitress liter harass give tip realli tri fight tip use exact option give food star waitress attitud star custom come harass tip friend still student unemploy hoodi exactli design sure waitress thought we'r made money lol\"\n",
            "0\t1.00\tb'yesterday shop red rock casino decid take advantag anniversari special thebobbi full sandwichi also purchas pastrami full sizeguess whatno sign post special bobbiei ask get thisbobbi special priceguess whata scrap turkey compar huge amount pastrami go thiswhi sell sandwich scrap meatduh shame'\n",
            "1\t0.00\tb'fresh sushi get checklist check stuff want eat tast pretti good eat like sushi pizza bewar pay menu price item eat mind fact encourag charg doubl peopl need realiz food free like excus eat think eat hous time accept fresh overal like'\n",
            "0\t1.00\tb'today found charg  slice meat trio doubt come thursday'\n",
            "0\t1.00\tb\"bread absolut outstand pumpkin spice one time favorit never better cinnamon roll howev gone past saturday' around bare mind open told fresh bread bread realli matter get shipment terribl busi structur bakeri open noth serv broken heart walk away empti hand two week row\"\n",
            "1\t0.00\tb\"write review respons see neg review seem much older experi great unlik car buy experi absolut regret would recommend cardinaleway mazda madison spaid especi one know want will wait necessari want posit car buy experi long version stori past juli bought new toyota corolla use broker choic regret immedi never ever repeat within month rear end freeway traffic stop person behind met bumper mph beauti black beauti total still recov last car buy experi well doctor' appoint week recov accid wait septemb tri buy anoth car rather uniqu situat credit report still show loan corolla cours physic car littl noth downpay sinc bought new car less month prior trade avail upsid decid creat form email send differ dealership explain situat provid much inform possibl make clear go play come we'll wast time hour game send form email day long thought would help weed realli bad one discov mazda call microvan want see husband kid dog i'm convinc part hors would abl fit comfort found price truecarcom contact madison spaid cardinaleway mazda sent form email actual read unlik dealership thank provid much inform offer answer question help process get nowher dealership promis everyth sun stop cardinaleway mazda way home work take look mazda explain much time would purchas vehicl night littl hour time trade apprais give dealership test drive complet financ applic offer tabl retel stori re-explain situat re-provid inform madison extrem detail-ori person profession respons told abl deal propos time hurri either ask financ option said would look ask could text updat happili agre cours next week receiv text messag updat everi day question new deal week half abl assembl packag work alreadi pre-approv bankfinancerlend commun madison alway posit never ever pressur extrem respect goal prefer text messag start someth along line great news yet accept everi time said that' go work grace newfound determin went dealership seal deal preliminari paperwork await signatur beauti new mazda park right front dealership readi go final financ paperwork draft separ know elect gap extend warranti etc less hour altogeth buy new mazda receiv sever follow-up inquiri i'm littl asham taken long write review best car buy experi ever hope lend credenc great truli still feel way month later impress combin good attitud resourc dealership display feel like friend insid advoc instead someon look close sale everi dealership say want make custom life first one success accomplish\"\n",
            "1\t0.00\tb'aaron pool assign home warranti compani servic provid pool pump leak contact aaron pool quickli place servic order onlin warranti compani abl schedul technician aj next day aj show time diagnos problem came back within coupl hour need part happi servic provid aj aaron pool'\n",
            "0\t1.00\tb\"wish read dena s' review came tonight like frequent diner china tango serv huge price low known soon sat someth chang crispi noodl nearli good even though wine still one menu avail mayb new owner had'nt receiv liquor licens yet serv orang chicken third less use alway leftov ear tag next day' lunch time make drive china one mile two road futur\"\n",
            "0\t1.00\tb\"worst food i'v ever quit far best greasi broccoli cold mushroom odd textur eat choic orang chicken fri rice good recommend noodl offer sushi look like day food chines food\"\n",
            "0\t1.00\tb'ribey may inch thick best marbl appar mean except meati slab fat cook rare perfectli qualiti meat next absurd'\n",
            "1\t0.00\tb\"sure got interest menu shawarma pretti good watch man behind counter make dash corner dine room grab someth move even faster wave arm toward car back park lot ladi left purs tabl man instinct notic act know he' owner manag know man fine exampl human behavior believ need recognit patronag come visit greek pita shawarma ramen udon gyro edamam rice bowl burger even salad see simpl act human made day long shift busi emerg room i'm glad stop way home work\"\n",
            "0\t1.00\tb'disappoint quit time today drink tast like usual order number made real coconut juic today tast like water ad sweeten water jelli fruit littl overpr book visit place busi serv food drink depend consist big probabl back'\n",
            "1\t0.00\tb'look late model use car daughter live california visit mani dealer two month period test drive complet purchas staff encount courteou profession spent time deal john chri car put hoist could inspect underbodi made multipl call california make sure would troubl transfer car daughter summari great car buy experi'\n",
            "1\t0.00\tb'year drive final woke first flat tire morn chang spare drove discount tire expect pay repair replac surpris told could repair would free charg even surpris offer tire rotat free charg well identifi nail tire abl repair free charg promis total wait time minut state servic easili exceed expect cost anyth time would highli recommend discount tire'\n",
            "0\t1.00\tb\"newer hampton inn quit chic limit servic hotel also far far cri fairfield inn' holiday inn express type hotel room pretti awesom littl foyer area enter room tile connect amazingli larg bathroom stand shower larg granit top vaniti closet locat outsid bathroom littl small hang mayb item perfectli bedroom area great well decor imo think interior design hotel must realli like dwr z galleri type furnish morn host complimentari breakfast realli upgrad continent fan complaint realli sinc complimentari basic bread bagel muffin danish cereal fruit make waffl egg one meat coffe juic milk tea bread product cold hostess would replenish liter freezer coffe greatest caffein matter one day ham scrambl egg mixtur go tasti next day dri scrambl egg paper thin bacon side complimentari design satisfi morn appetit much less palat it'll get morn end eat first morn morn okay go excel good bad eventu happen hotel liter next runway la see runway room least hear plane land much hear feel thunder plane take first night liter woke rumbl plane take probabl window vibrat kid ask front desk agent next morn btw pleasant seem like script answer ever popular question unpack anyway want move went cv bought ear plug help howev odd number room face back feel got even number room face front nois signific sure front desk agent proactiv tri make us happi hotel full anyth whole time overal nice furnish hotel servic might littl iffi close runway comfort stay concept design newer hotel sure made appreci hampton inn' much\"\n",
            "1\t0.00\tb'everyth work fine took dodg grand caravan front end align hour got call let know mechan took procedur test vehicl ensur dial driven correct true thank guy'\n",
            "0\t1.00\tb\"tl ;D r restaur serv lower grade meat steak order receiv usda choic order wagyu everyth els pretti nice vega one big pool tournament stay westgat decid tri edg steakhous mani posit review run special pool player took advantag cours meal order local brew pale ale tasti although nd glass came fruit fli drown order spici shrimp appet also good choic dessert got creme brule perfect went order want focu entre order wagyu top sirloin cap i'm expert i'v taken bbq cook class favorit thing cook steak i'v cook kind steak kind grade select mostli choic that' groceri store around manag get prime costco time time receiv wagyu grade beef regular run mill usda choic even cook medium rare order intent purpos season well done like also chewi that' know wagyu perfectli cook medium rare wagyu steak fall apart mouth tender i'v cook usda prime steak medium amazingli juici tender steak got edg final ambienc nice servic excel that' reason i'm give one star detest cheat restaur think pull wool custom eye bewar qualiti steak get everyth els pretti nice regular price they'r charg come back\"\n",
            "1\t0.00\tb'jim guy shop done great job fix also stand behind work part defect drive european sedan notori problem im gonna lie spent lot money fix car issu alway stood behind work part sold actual coolant tank sensor go bad time within span month issu charg replac x free charg import understand thing may expens fix ever go get european auto fix shop warranti work becom cost effect thank jim assist fix car'\n",
            "0\t1.00\tb\"sub good pizza terribl medium pie mostli chees light sauceth sauc flavor better would take bite doubl check see sauc can't tast would recommend sub salad\"\n",
            "1\t0.00\tb\"pool motor warranti shasta expens doubl servic charg compar aaron' stetson came inspect problem polit profession fix issu said notic small leak would need return later new part hour later back daniel took half hour everyth work great total charg eureka found pool compani life trust compani ask stetsen thank stetsen daniel great job sincer bob maria atanasio\"\n",
            "1\t0.00\tb'great place taco stale must came bad day ill tri tho'\n",
            "1\t0.00\tb\"let start say best experi discount tire importantli best experi custom servic recent pop tire drive donut wheel market custom need special order call spoke joe instantli got tire next morn store arizona stock quick differ discount tire told day joe call second arriv told could fit get new one' realli made feel like go beyond make sure could get back road joe inform much tread left front tire safeti inform love never tri push buy new tire front warn i'm safeti zone joe best hard worker i'v ever met excel job thank joe\"\n",
            "0\t1.00\tb'speed food came good sushi stale shrimp tempura dynamit roll tast fresh roll small'\n",
            "1\t0.00\tb\"parent uncl need place stay town anniversari parti end basic go stay one night uncl get home next morn parti throw parent leav town hour afterward due sunday night traffic weather call slight chanc snow rout basic anoth one no-fril hotel stay night two breakfast amaz view strip room also lapdesk laptop room want smuggl room howev two con hotel strip farther away photo say took us fifteen twenti minut get strip hotel there' noth els immedi besid go park across street would go park go la vega\"\n",
            "0\t1.00\tb\"arriv park lot dog bar intent explor bar near salud girlfriend jack russel chihuahua contempl bring bar awhil intent stop bar learn process admit dog person soon girlfriend got car owner pull told us minut get lot park adjac park garag aggress tone without ask pre-qualifi question park come dog bar charlott area sinc even graduat unc-charlott sinc alway view everi local noda abari cabo fish taco salud part collect commun warm welcom denizen experi forc even attempt go process introduc girlfriend' dog vixi commun consid join bar make sure park park lot minut open like told move car ask interest learn bar prospect puppi join\"\n",
            "0\t1.00\tb'taco street style mean muy tini around time alway overload cilantro custom servic good howev'\n",
            "0\t1.00\tb'chicken work giant burrito lot bean enough chicken hochata decent'\n",
            "0\t1.00\tb\"grew area first time went octagon restaur probabl year old parent went everi week mani year late teen use love octagon alway recommend anyon look delici rib steak etc week ago lunch probabl first time year feel like much hype name food servic walk got bit attitud even seat dark part restaur would need flashlight read menu like cater larger group busi lunch clientel first flag waiter ask everyth water wine coffe garlic bread bill etc surpris servic consid fact mani familiar face work almost year food date plate noth visual appeal steak neptun season steak hollandais bland clumpi clearli place broiler top food brown colour hollandais french onion soup bowl year ago littl onion chees bread much pepper broth chicken neptun zero season chicken hollandais clumpi cold sauc steak neptun flavour highlight dish amount crab meat shrimp cocktail overpr ye larg year ago much bigger around price caesar salad way much chees make like use ye nice make tabl make tast better big disappoint overal garlic bread burnt one side still put basket brought tabl place certainli par great steakhous barberian' hy' morton' etc need updat decor amount light place bit brighter especi lunch would help sure would go back recommend familyfriend anymor\"\n",
            "0\t1.00\tb'small probabl good place get drink dinner definit big group also serv hennessi special come chill glass look like ginger ale'\n",
            "0\t1.00\tb\"weight local fat kid flock sunday brunch unless like gorg eat bacon sausag patti sit danc hall i'd hit bob evan oh coffe extra brunch overpr golden coral sunday brunch know what' menu caus never gave us menu happi see other go third plate sinc never got close shove worth bacon mouth least someon get money' worth\"\n",
            "1\t0.00\tb\"we'v come barro long time mishap undercook wing sent email would know hope one els got sick manag credit account honestli even expect genuin want let know even credit end eat month later still got credit even though awhil everyon alway nice bomb pizza bomb ranch\"\n",
            "0\t1.00\tb\"store clean top look yummi tart flavor tast bad i'v visit twice time tast sour pleas throw away bad yogurt\"\n",
            "1\t0.00\tb\"recent start work rebeccah arnett q noth pleas recent requir hoa repair done rental home rebeccah handl everyth quot coordin repair would highli recommend anyon look properti manag co go q request rebeccah' servic\"\n",
            "0\t1.00\tb\"tl ;d r beauti interior good servic old fashion establish worth big buck servic attent perfect although order written side mess server blame food runner mistak punch chit feel like dine high end establish appreci old school style waiter never felt like favor serv sometim feel high end restaur downtown chip shoulder food garlic bread pickl oliv hot pepper good that' i'm come dollar person cesar salad skill prepar bland need season whether parmesan salt mayb stay within main theme food octagon noth season i'm talk salt pepper flavour enhanc rib eye cook order see even one fleck salt hit grill aesthet grill mark randomli distribut sit huge puddl juic accompani saddest greyish brown mushroom ever seen eye rib eye tender i'v much better rib eye keg steak huge disappoint especi consid steak special order fri hope thin crispi frite receiv pile unseason wavi cut disk fri frozen potato tri garlic mash potato also aw two peopl group order rib probabl best valu menu rib tri well cook overcook mush releas bone effort peopl seem think good rib like problem bare sauc tax tip averag person buck much came year ago th birthday forese visit next\"\n",
            "0\t1.00\tb'yike love poutin favour eat let clarifi amaz select great top pile high reason price friendli staff realiti poutin shop one thing hard deep fri potato order curd quebec make great gravi wow ever miss bland need say ruin experi friend tri one peppercorn gravi also good stoke go go back'\n",
            "0\t1.00\tb'enough thought salsa bland food follow husband enjoy meal'\n",
            "0\t1.00\tb\"mayb like napolitan pizza second time we'v tri seem overpr garlicki skimpi top flavor bother choos pizza tri kindsal meat one ham artichok etc much anyth either stumbl onto two thin slice ham hit mushroom artichok two pizza tast alik two pizza drink salad worth opinion\"\n",
            "1\t0.00\tb\"excel custom servic i'll back need new tire busi saturday morn greet immedi friendli staff member expect sold new tire think damag one could save store peopl wait tire repair hour half actual text minut let know tire fix tri up-sel someth realli need servic complet expect time repair free surpris impress definit back rotat balanc k mile great locat\"\n",
            "1\t0.00\tb\"went mayworth neighbor truli enjoy rememb visit establish center street tavern probabl said name wrong year ago nevertheless truli enjoy mayworth time walk time left dana took care us hospit outstand pub invit cozi realli want stay longer thing order jamaican jerk wing entre side sweet potato waffl fri jamaican jerk like felt spici season howev fri delici dana suggest mayo said thank someth els tri chipotl sauc man good afterward dana ask wing honest told like immedi said would get anoth flavor wing want said ye request hot wing owner found satisfi immedi came tabl talk told wing assur would take care wing came boy good realli enjoy owner come back ask pleas wing said ye thank take care owner went beyond owner would never got bill ask dana surpris bill owner took care custom would say thank right want fuss waitress owner take care bill courtesi i'm grate busi kind establish want embark know go care thank love shown\"\n",
            "0\t1.00\tb\"okay crave korean food want cook home restaur nice size plenti space sit eat overli decor gawdi trinket well lit typic famili run place first time look korea garden easi miss sinc navig maze one way narrow street oakland care park sinc block someone' driveway without even realiz like street sidewalk driveway one block asphalt clear mark servic pleasant attent smother say place judg panchan offer pittsburgh i'd say offer decent refil request bulgogi usual safe way get feel place okay noth spectacular realli miss open fire cook bulgogi get larger citi larger korean popul also chajangmyun noodl black bean sauc took care crave near i'v dalla la northern va price reason consid make korean food home time consum prefer korea garden sushi kim go tast alon\"\n",
            "1\t0.00\tb\"wow better chipotl friend said urg deliv swift kick face that' say much repli disgust noth compar basic creol food wrap tortilla made quesadilla bowl thought idea chicken andouil sausag wrap work proven wrong bite bite bought food truck year think i'm gonna follow one around star better expect there' noth would chang delici\"\n",
            "0\t1.00\tb'good atmospher wild salmon wife oz filet mignon salti tast bitter final verdict go back'\n",
            "1\t0.00\tb\"updat review shane vineyard hero call us morn apolog profus error rebat admit mistak gave us extra also reassur us dishwash purchas excel qualiti ever need use warranti call first custom servic finest origin review descript problem shop base recommend friend problem dishwash purchas salesman shane vineyard store twice clearli told us time kitchenaid offer rebat instal rebat card arriv explan charg instal that' refund may true accord receipt even written clearli fee freight shane wrote total cost busi card definit told us we'd get back spoke manag larri he' posit sale peopl ever misrepres anyth guess actual bought anyth nd problem instal broke pipe pay plumber repair great argument instal respons anyth except line replac hous often worn-out part well hous that' four year old i'm fairli certain noth worn i'v spent expect great price beat store also purchas extend warranti hope ever need use\"\n",
            "1\t0.00\tb'room right park lot quiet morn everyon continent breakfast outsid door clean room nice kitchen bathroom nice size great water pressur shower hotel lost reserv quickli book new one abl check earli (: instead due famili emerg check day earli understand refund pend approv bookingcom four star staff accommod nois bfast kind annoy although room appear okay cannot give pictur guest room feel like inspect want clarifi room book thought stay tahiti villag resort spa friend made reserv seen yelp review would chosen hotel stay horribl given posit experi staff might chang room infest'\n",
            "0\t1.00\tb\"good morn ricardo cook seem case mani mexican quicki joint use french fri breakfast burrito fail deep fri enough result uncook raw fri mess morn loss seven buck place also can't stop rais price last menu hous indic price buck less new menu higher price qualiti food make decent hot carrot add hash brown next time seem easier cook chef roberto'\"\n",
            "1\t0.00\tb\"went spencer' replac walloven unit want stock abl instal next day salesman friendli effici order complet minut paul instal arriv promptli compet thing could gone smoother paid less sale price elsewher\"\n",
            "0\t1.00\tb\"want love place came high hope disappoint outdoor dine space love servic realli nice think much food cornbread share tabl weirdli bounci dens delici southern cornbread expect fri chicken entre came highli recommend server found overfri undersalt dark intens crunchi delici arriv sit wet pool collard green green tasti crispi chicken sit get soggi pool liquor green weirdli unappet mayb fryer busi fish fri good tast got other tabl i'm realli tempt go back\"\n",
            "0\t1.00\tb'food atmospher servic overal experi terribl decent fantast see pictur friend took monstroc poutin check big chees walk small walkway guid front giant menu board hang open kitchen place order wait small dine area could probabl hold peopl room back patio decid stay eat two size small larg differ portion fairli larg suggest get small want avoid food coma rest day price rang choic tradit pork chicken beef product top poutin went weekend fri came pretti fast wait minut bf order small tradit poutin quebec chees curd poutin sauc small porki pig doubl smoke bacon italian sausag saute mushroom carmal onion fri crispi cover decent amount dime size curd heavili drench flavourless gravi porki pig poutin overli salti look like mess instead layer top curd within fri plop top fri without combin top togeth overal big chees noth get overli excit enjoy novelti wide varieti poutin overal poutin lack flavour flare definit better'\n",
            "0\t1.00\tb\"mani friend love chain i'm fan i'v eaten differ locat across differ state alway end sick think must allerg season appli everyth i'v gotten sick salad pasta steak needless say friend want eat dinner tea water\"\n",
            "0\t1.00\tb'went dinner tonight greek salad good noth special daughter small chees pizza tri slice finish bland everyth it--crust sauc cheese--noth special husband larg steak sub huge look good tri glad tri place go back'\n",
            "1\t0.00\tb'alway get tire discount last week wife get tire put car head town unfortun made appoint wrong locat arriv fit schedul fuss minim disrupt top treat respect digniti despit screw-up consist point discount model custom servic prove right yet'\n",
            "1\t0.00\tb'meinek alway go auto repair place pennsylvania move la vega struggl shadi auto repair shop came back meinek start locat handl problem profession care check entir car safeti address concern reassur well bill came could found someth charg honest reward honesti loyalti great job'\n",
            "1\t0.00\tb\"drive minut use chapman servic mazda even though there' anoth dealership closer road camelback multipl encount horrid custom servic camelback mazda decid tri chapman--and happi start pete pabst servic advisor work great made sure first repair would cover warranti start work car realli appreci wari tri up-sel let know repair car need put sales-typ pressur made list repair order import gave price told car savvi need go home talk husband judg tri take advantag rest staff seem friendli help got tire replac explain differ option would much end one recommend actual least expens tire offer honest good servicejust wish closer home\"\n",
            "1\t0.00\tb'minu one star servic receiv two teenag seem irrit walk greet bowl good servic great go back'\n",
            "0\t1.00\tb\"big chees cool littl place tile mosaic wall limit seat black white frame photo acdc music full blast needless say annoy huge select top make menu interest stuck tradit chees gravi fri dark bitter soggi thin gravi flavor chees curd authent big chees make spiritless poutin i'v better dq w\"\n",
            "0\t1.00\tb'eat ur hungri seen burger joint small burger even buther industri onion ring fri good much littl'\n",
            "0\t1.00\tb'made leav beer go bathroom roofi mani bartend employe good look prob return'\n",
            "0\t1.00\tb'love hole wall viet place place around long time never great realli gone hill servic extrem bad rude staff beyond what par cours joint order mistak food averag best mani better vietnames place around reason go'\n",
            "0\t1.00\tb'wife went waffl inc morn breakfast order egg easi bacon home fri toast egg arriv slimi float pool water liter bacon flavorless hous specialti home fri dri season place noisi chaotic go check app sit watch mani custom get seat place highli rate price proof dearth good brunch venu north hill'\n",
            "0\t1.00\tb'best item menu viet wrap broth soup item delici load msg know sensit msg make extrem sleepi pass almost immedi leav restaur order soy milk make sure ask ice otherwis give big chunk ice cup end get littl soy milk cost'\n",
            "0\t1.00\tb\"first time tofu stir-fri veget passabl today' second visit minc tofu veget mandarin pancak pancak right fill bland past sprinkl soy sauc give dish least sone flavor--which cook done job--and sit well stomach burp lunch afternoon companion similar reaction come\"\n",
            "1\t0.00\tb\"serious guy best last time went kinkade' move phoenix need ac check happen conveni locat near live gave shot end bigger issu anticip charg work gave fair quot full ac replac cours first peopl thought call today car start ignit jam knew close night plan leav voicemail let know i'd car tow first thing morn surpris answer phone even though hour even bigger surpris man talk phone actual came see go car although abl fix immedi part need order gave great advic meantim complet free charg guy go beyond i'm thank time took come check vehicl could home alreadi long day work continu go kinkade' ask anyon knowledg help realli put eas car probabl help thing situat someth wrong car know crappi feel\"\n",
            "0\t1.00\tb'size pretti good order messi got seem like much time spent prepar burn tast realli great love good fast food option red rock casino'\n",
            "0\t1.00\tb'indian dude grill rude place use great hit miss'\n",
            "0\t1.00\tb'food good everi singl time place phone order burrito fuck done place'\n",
            "0\t1.00\tb\"cours visit canada want tri poutin decid check place ton differ option chose notori pig got small size pretti big husband share go tri anoth place want full end pretti full anyway lol food alright grant know real canadian poutin tast like i'v poutin elsewher much better mayb one chose recommend us staff told one popular overal would probabl tri anoth type poutin would probabl look optionsrestaur first\"\n",
            "0\t1.00\tb\"first impress everyth establish cold feel cool blue wall might fine summer fall winter nois hard floor loud music bright spot light custom equal non invit environ harsh kitchen smell tini coffe cup insul either coffe never hot know much hospit industri spot flaw chair uncomfort menu differ mani egg instead continent breakfast add waffl option oj water fresh brush waffl butter i'd rather food present nice nice vanilla mapl syrup clear earth mapl syrup wateri cut cost\"\n",
            "1\t0.00\tb'useless review ever read yelp go get special enjoy end'\n",
            "1\t0.00\tb\"earlier year snowstorm east coast eastbound flight cancel somehow end ground north carolina i'v vacat nc know beauti dead winter flight cancel look cough extra hotel none happi north carolina beauti sinc knew choic except spend night charlott want make sure stuck seedi motel femal travel alon want take chanc decid embassi suit hotel sinc i'd stay one knew even though overli luxuri least i'd feel safe free shuttl bu transfer airport help sinc need worri cab fare paid night decent consid probabl hundr strand travel like call find hotel room night got nice suit front desk help sympathet situat gave nice room actual sort big consid lonesom even luggag except small duffel bag made grab dinner downstair review come take bath order movi bed soft comfort slept like babi next morn great breakfast they'd set downstair took free shuttl airport caught flight destin nice stay say star servic amen\"\n",
            "0\t1.00\tb\"oh good even start custom servic okay food realli good lot old item buffet bar look like sit hour i'v fair share american chines buffet one realli american mean american mean tast bad even hint authent like back would probabl drag reason give star pretti wide select unfortun fail deliv tast wife kid realli care either besid realli take kid word thank god wife' cook though way asian food awesom\"\n",
            "0\t1.00\tb'order fish chip recommend best seller server greasi piec fish coupl skinni bread shrimp spoon cole slaw fri meal couldnt even consid good fast food place third price servic fine nice decor poor food'\n",
            "0\t1.00\tb'chicken biryani like rice mix turmer salt boil chicken bother order kadhai chicken mysor masala dosa alright much better chicken lollypop'\n",
            "1\t0.00\tb'ive multipl time servic better conge wong sure serv larger price slightli higher like ambienc updat modern furnish ive never wait seat plu lot waiter serv accommod actual thank end find asian restaur forget say thank ignor pay bill dont tri mango pud tho suck'\n",
            "0\t1.00\tb'ye view amaz rest wast time money serv drink includ wine beer plastic glass kind look like real wine glass made plastic cheap believ eye charg mediocr sangaria least serv real glass food clearli instagram food look beauti tast half good look quit disappoint especi menu sound delici look forward tri food mani place give much better deal money free charg sexi cool ambianc place lack serious go elsewher'\n",
            "1\t0.00\tb\"great servic tire back order everywher even onlin compani bmw tyler track one back east somewher would easi say noth could i'v use discount tire year anoth reason go anywher els\"\n",
            "0\t1.00\tb'green lemon grass locat richlan mall serv richmond hill neighbourhood decad restaur like busi bee tabl alway full continu short lineup fast servic word tabl turnov rate averag high menu base comfort food noodl curri roti rice soup expect fine dine built reput fast conveni meal fast food like bbq chicken spring roll vermicelli mixtur grill chicken fri spring roll top peanut carrot cucumb shred lettuc mix fish sauc serv dri warm quit appet tangi fish sauc chicken over-gril dri rubber-lik textur spring roll also fri part wrapper burnt howev crunchi burnt food caus cancer small rare beef noodl soup bean sprout slice beef garnish green onion sprig mint leav beef thinli slice lightli cook therefor textur well maintain easili absorb soup base standard pho soup base therefor tast consist percept pho found noodl extrem salti much msg water chug throat rest afternoon even speedi servic conveni meal tight schedul hurt go look enjoy savori meal restaur look'\n",
            "0\t1.00\tb\"food ok drink good order mint julep pour third drink like less full drink allow ice melt solid two three sip worth brought waitress assur that' pour em despit fact three friend later pour full glass drink comp offer apolog poorli handl two sip julep pretti good though\"\n",
            "1\t0.00\tb'ok build small park limit order made right first time gladli redon starbuck servic friendli get four star wish would reposit tabl add allow peopl sit'\n",
            "1\t0.00\tb'pool look terribl need acid wash alex aaron pool arriv time set pump drain pool return next day complet acid wash pool look fantast thank guy'\n",
            "0\t1.00\tb'good thought read review oxtail soup lot yellow fat meat mean meat cook frozen thaw loco moco ok first bite hard continu someth tast use ice tea noth sugar water tast tea flavor return sorri'\n",
            "0\t1.00\tb'one visit gf lamb-chop lamb-shish food tast good noth special amaz tast good howev amount gener particularli rice price rip could believ dont serv salad order kid salad extra item paid alreadi charg much dish lamb-chop dish cost exclud tax yet salad came gf mani similar type restaur town serv salad right begin bring order dish never return much better halal turkish restaur one block hous'\n",
            "1\t0.00\tb'came get stud fix wheel guy realli nice dealership said due brake soon guy like yet'\n",
            "0\t1.00\tb\"low rate food servic restaur excel food disappoint fish chip crispi chicken sandwich impress ate less half list ingredi menu cannot stand mayonnais worri sinc menu yet sandwich slather we'v eaten time everi time empti even friday labor day weekend rush back\"\n",
            "0\t1.00\tb\"time rare disappoint restaur manti poorli execut price point need perfect thick dough scarc wisp ground lamb top wateri limp yogurt sauc defici spice aromat previou incarnation' anatalion turkish cuisine' much much better bread brought start made day perhap even leftov day hastili microwav glaze oliv oil give appear fresh bake though far fresh grill meat platter suspect small ramekin rice serv plain white uncl ben' rice mind second ramekin cost liter dollop boil white rice sprinkl parsley tantamount highway robberi particular restaur plaza felt violat almost point call say i'v rob lastli turkish tea insult place know charg ambienc layout nice beauti place matter time pasha die goe restaur heaven downtown price fit east york thornecliff locat servic product befit price crave turkish head elsewher shirin pizza pide mr pide kebab much much better\"\n",
            "1\t0.00\tb'aaron pool great job home warranti fix call quickli tech andrew sent knowledg even help anoth issu pool'\n",
            "1\t0.00\tb\"pool problem took trip aaron pool get job done total price ah servic time call day ahead said repairman bailey would give courtesi call way first time bailey said would call back part day later second trip bailey said filter faulti would need replac said they'd call part day call bailey came replac filter pool complet clear enjoy pool compani great job keep inform deal ah great work i'v seen bad review bad experi compani highli recommend\"\n",
            "0\t1.00\tb'nice clean restaur typic sport bar type fare twist meatbal sandwich featur homemad meatbal meatbal good sandwich clumsi undercook cold spot ate hand cut fri disappoint salt okay noth would crave want return'\n",
            "0\t1.00\tb\"love hibatchi sadli sumo live expect realli need server spread thin plu realli cool restaur everyon tabl overh chef cook protein time quick enough avoid overdo shrimp calamari i'v never seen hibatchi chef start protein time understand qualiti goe price decent hibatchi dish includ fri rice ingredi seem fresh cook properli us sumo worth minut car ride eat dinner\"\n",
            "0\t1.00\tb\"price great seem decent qualiti product better groceri option madison like willi street co-op jennif street market hy-ve metcalfe' trader joe' simpli worth travel across town get better qualiti stuff elsewher good cheap wine found pretti much everi groceri store madison trader joe' small alway overcrowd colleg kid park cramp nightmar ideal unless live nearbi last night zoo took way much time buy item\"\n",
            "0\t1.00\tb'updat spa up facial packag feel like'\n",
            "1\t0.00\tb\"truck year old coupl hundr thousand highway mile last time drove cross countri notic headlight bare help see road night kept turn bright everi opportun i'v someon sand help littl littl last week final decid get new headlight call sever place yelp get quot instal new light base catalog estim kinkade' quot rate one hour less anoth highli rate place said pretti sure could less hour true word took hour charg hourli rate plu graciou wait room except clean review note\"\n",
            "0\t1.00\tb\"went dinner last night th time i'v eaten gotten take flavor gener pretti good everi time food lukewarm sauc hot centr meat cold i'v conclud everyth reheat instead cook fresh time find anoth indian place eat scarborough\"\n",
            "0\t1.00\tb\"given servic gift hope tranquil special experi great experi return websit give impress higher end afford spa atmospher attent detail lack massag manicur masseus technic good work coupl problem area realli well thorough respons great job spot mention hand hot stone massag think realli thing stone hot remov happen numer time kind edg wait next one time experi hot stone massag elsewher also relax stone felt like afterthought rather integr stroke would schedul differ type massag hot stone think good spa know staff' strength weak assign custom accordingli happen can't think anyth good say manicur sat high tabl window freez day staff chatter front desk peopl came relax spa-lik profession like local beauti shop technician drink open fast food cup nail snack right next nail dri hygien practic citru manicur actual realli fast basic manicur incred strong smell brand fruiti lotion end specif schedul citru manicur option strong smell oil want avoid high tabl stool uncomfort manicur follow massag i'm sit perch stool cram cold corner shoulder hunch around ear overwhelm smell make head hurt realli disappoint overal one poor woman spa robe walk busi wait manicur area could see right robe can't believ chang walk like somewhat nitpicki creat atmospher want return want share detail other make decis hand need everi day run mill basic servic price decent bad place noth fanci particularli sap like\"\n",
            "1\t0.00\tb'major lament vega boyfriend realli vega big group drunken debaucheri loungey bar great place though boyfriend get casual drink nice music good look crowd enough room sit nois level still allow us talk realli casual door polici even pay attent walk never got card relief come hollywood beg way place come guy circumst order water boyfriend think would give tap water silli boy tini weeni bottl water cost six dollar wtf grey goos tonic cost twelv dollar realli ridicul'\n",
            "0\t1.00\tb\"yelp review challeng i'v time fremont casino bleh i'v better one great thing place fast servic conveni fremont order last night sweet sour chicken sauc side like tast look weird spam musubi basic spam musubi one finish shrimp cocktail small shrimp small cup made drunk uncl happi haha everyth freshli fri long wait drunk happi\"\n",
            "1\t0.00\tb\"straight forward guy tri nickel dime probabl fastest servic shop around great work especi cost repair mainten oil servic tire also free shuttl get home work can't stick around downsid would wait first walk may anyon greet take sever minut notic enough keep away howev\"\n",
            "1\t0.00\tb'quit ill flu rampant flu season went arrowhead hospit treatment difficult time manag symptomsth emerg depart staff fabul treatment like member familyaft iv fluid anti-nausea anti-vomit medic felt much better sincer thank arrowhead hospit best servic ever receiv hospit care commit staff goe extra distanc excel custom servic'\n",
            "0\t1.00\tb\"know place follow peopl think montreal landmark food categori get sear baloney sandwich montreal spam hawaii yearn spam ye mean go wilensky' otherwis i'd pass state world good montreal smoke meat domin first time millionth time\"\n",
            "1\t0.00\tb\"star would actual rate think need reiter other said amaz food organ ingredi mani mani children we'v come lot last month specif issuescomplaint understand continu take name order never call name i'll order sandwich latt call latt end bar someon come wander around wonder sandwich bizarr anyth els issu first cleanli mention consist mayb everi time i'v someth seem less clean like dishwash good job cutleri one occas definit food residu i'v notic jar water front warrant close inspect pour drink one occas staff member brought food actual gave us two dirti napkin know like wipe finger never unfold crumpl i'm crazi germophob someth would normal notic happen enough time thought worth mention still realli like food though\"\n",
            "0\t1.00\tb'place look amaz walk feel like enter diner longer spend less amaz becam servic terribl took forev get food made burger found burger meat season meat made patti cook fri bad mac chees good one bite enough dessert look good sure like stuff place look great leav bad tast mouth'\n",
            "0\t1.00\tb\"usual huge fan chico new chef new manag food come place differ especi chicken seem roast chicken rather grill fresh chicken i'v alway use guess find elsewher still go breakfast burrito good place seem chang\"\n",
            "0\t1.00\tb\"know elit member give place higher two star neighborhood park shadi lack interior bland decor korean tv show decor go put asid food overcom shortcom order la kalbi ask enough colleg age son sinc price high guy said ye depend hungri came much bone littl meat scof need order four side dish fresh kimche kong-na-mul motion-kimche fourth cannot rememb averag good fresh order kim cheegiga disappoint plenti pork piec bone knuckl visit la san diego area level expect guess can't recommend place pittsburgh great sit korean style dinner place yet place high review close holiday\"\n",
            "0\t1.00\tb\"bartend rude phone whole time drink order brutal think knew order long island ice tea could tast tequila comedi way price hour funni comedi show attend cage match design well comedian ishmin time frame improvis sound fun end spend time comedi purgatori sure i'd never go bar\"\n",
            "0\t1.00\tb\"place start well open start new buffett place start cut back prepar fresh food often restock less often especi costlier item lin' street hand great job keep standard henc line door whenev drive\"\n",
            "0\t1.00\tb\"save money pass experi food deliv toss trash fri ravioli chees pizza ham chees pizza jalapeno spinach mushroom tomato onion black oliv meal tip meal disappoint vegetarian home end sausag pizza one piec mani nice touch guest spit food ravioli bad can't think way describ bad would think mayb allow deliv sub par ham pizza burnt cook veggi pizza cook cours meat veggi pizza can't even think give restaur second chanc look review prior order thought could someth wonder wrong\"\n",
            "0\t1.00\tb'love fri chicken fri okra collard food good chicken smother salti gravi spici sausag eat cannot recommend place'\n",
            "0\t1.00\tb'tri hard texa bbq much rub tast rib corn bread spice took away could flavor certainli good represent good texa style bbq'\n",
            "0\t1.00\tb'first time place pro con tradit poutin fri cook burnt realli return incred salti dish sure fri gravi combin huge salt overload hard eat price ok think get order small thought bigfil pro cute littl place insid cashier girl friendli nice place look clean unfortun due extrem salti poutin incred burnt fri back shame presum place dedic poutin would least make ok product even edibl'\n",
            "0\t1.00\tb'love sushi definit right place go went order fri calamari appet sushi calamari string extrem slimi chewi sushi great either fast food sushi mall tast better basic paid walk without eat meal aw first experi end go back till day'\n",
            "0\t1.00\tb\"high hope' disappoint servic good deep dish doughcrust great sauc terribl sauc ruin good pizza could tell sauc can base price expect sauc tast like preserv tomato soup flavor also order hot wing real kick hot wing soggi order extra crispi still came soggi mild hate give bad review price get better pizza wing\"\n",
            "0\t1.00\tb'taco might delici servic alway slow time particularli rude today pleasur watch two women eat behind regist wait minut taco longer recommend place'\n",
            "1\t0.00\tb'alothough price rose worth want good pho place best dollar restaurateur pho cover tax tip see usernam hate liberti noodl pleas avoid shit pho bad servic bad price bad everys doh meh'\n",
            "0\t1.00\tb'ingredi fresh combin flavorless pile larg hunk variou ingredi true salad noodl dish least design restaur done well wish could say product'\n",
            "0\t1.00\tb'star spars sandwich mean real spars basic bread sauc tri next time hope give place serv vegan food better rate one meat muncher sandwich sure convinc convert vegan'\n",
            "1\t0.00\tb'drive south car overh june heat wave stop see could sort issu jim desk open bay avail immedi took car took hour problem fix way want good repair shop'\n",
            "0\t1.00\tb'found hair sweet sour chicken enough said'\n",
            "1\t0.00\tb'cours come expect fanci shmanci hotel actual score super cheap price per night hotwir give nye weekend even hotel averag almost night actual made mistak initi arriv tahiti villag sister compani woman front desk kindli wrote correct address let know far less minut away upon arriv inform check check time pm littl differ use hotel book check pm check regardless woman sweet inform could set us earlier check room readi yet closer pm differ room readi list smoke room sure would smell opt earlier check let know smell give quick call would send someon room spray got room pleas everyth clean pur expect cost mind rememb paid less book motel given studio king room complet comfi bed hard mattress funki pattern sheet flat screen tv dine tabl microwav fridg dish jet tub hefti amount towel hate call ask room smell like cigarett smoke sure strip least concern even pool jacuzzi cute littl waterfal mention also serv complimentari bagel fresh fruit coffe etc morn anoth pro park rel easi con inform hotel offer complimentari wi-fi either alway problem connect would connect internet work take quick trip andor budget mind strip total book hotel'\n",
            "0\t1.00\tb'good love popcorn milkshak poutin love love love love eggplant emoji x'\n",
            "1\t0.00\tb'food quit good order korean bbq steak tender tasti howev restaur desper need ventil system deepli regret wear cashmer coat tonight take dri clean'\n",
            "0\t1.00\tb\"need stick chicken sandwich waffl fri coffe tast horribl there' coffe tast\"\n",
            "1\t0.00\tb\"went today get car wash use groupon cleanest i'v ever seen year watch minut man wish would'v gotten name scrub scrub interior use awesom smell strawberri spray smell look amaz i'v ok servic place locat locat absolut favorit i'll definit back i'v tri air freshen sell insid one realli work one come seal can gel pad stuff work well wast money anyth can left guy ask make sure happi everyth also think perfect custom servic obvious want drive away happi guarante work\"\n",
            "1\t0.00\tb\"other said waffl hous need base expect accordingli howev staff awesom short hand slam mother' day seat got drink quick kept check loop order behind x mega-tak order apolog us wait miss item order taken question ask call look like manager-typ duti bouncer help expedit order food began fli kitchen i'm impress realli get less attent care better restaur place need respect good work crew sunday morn recommend\"\n",
            "0\t1.00\tb'gener two star ambianc decor fun servic quick friendli food horribl food use good burger dri even bun fresh tri eat dri burger stale bread appeal chees nacho mac chees contain real chees sort sauc made powder feel bad write review sinc custom restaur mani year last time last know happen'\n",
            "1\t0.00\tb'return stay fremont hotel custom told oxtail soup rice combo killaz soi order went room atefor next night guess mindand sinc chines fast food section tempt counter staff so-so use kinda attitudei seen worsebel btwi go stand line folk cal morn oxtail soupthey probabl retir gamblingm come work vacat updat omg hell happen oxtail soup awesom year agonow order arriv vega oxtail meat tender gave nd tri day lateromg even wors guess cover good tie bag around shove check luggag leav frozen fridgei bring home boil kitchen one thingi custom vacat hawaii work vacat make time go buffetthu stop guy placei give visitor could go elsewher like food came day later dinner againpls poke fun ring order promptli besid site like yelp other inform patron qualiti quantiti servic'\n",
            "1\t0.00\tb'abrazo arrowhead amaz hospit experi er morn releas symptom got wors wors went back around pm fortun mani peopl took back instantli quickli receiv iv medic symptom pretti sever decid admit total day doctor releas readi receiv amaz care doctor came spoke day nurs absolut incred adam courtney amaz nurs peopl ever met alway tri keep comfort incred attent alway pleasur interact continu health issu make sure go back abrazo arrowhead'\n",
            "0\t1.00\tb\"second time foodoo truck second time i'v disappoint today roast beef wrap huge wrap good amount lettuc tomato chees horseradish thin dri piec roast beef last time order pierogi good half one thought mistak know give money\"\n",
            "0\t1.00\tb'come food beauti restaur pretti good vibe everyth tast spici dri order empanada expens dri servic felt corpor thought would case felt like keg cactu club also space pablo call insensit latin commun'\n",
            "0\t1.00\tb\"kind employe wrong price drive-thru board overpr basic burger super greasi meat soggi bread tri fri they'r shoe-str i'm fan gener bummer sinc live close i'll continu go in-n-out\"\n",
            "1\t0.00\tb'never never place like artist road show call today felt tire feel like slip get readi head highway pass made time today sat hour went everyth nervou gonna pricey van old owen came told fine slip get new tire told minor issu said bother top fluid said set ask much said charg super honest folk'\n",
            "0\t1.00\tb'food much flavor definit left hourswould recommend allsav money folk'\n",
            "1\t0.00\tb\"friend go locat month tri unsuccess get go thought thought final gave last month figur sometim like play healthi game go get done littl curiou first arriv decid get detox foot bath instantli ask would like water tea opt tea bad idea tea fabul bet love friend enjoy howev hand start shake could feel anxieti rise alreadi nervou perhap first time stick water detox foot bath interest feet start itch impuls water bad annoy water got disgust suppos tell water would chang color regardless read flyer room lower light check realli relax stress next step well good start love technician enter soon way colon comedi error let maintain modesti insert devic howev nervou unfamiliar girl substanc aka fat get stranger help angl best friend mean normal someth leav someon bought dinner kind thing jewelri procedur start first strang feel water go water start sweat get intens pain start rethink everi moment life led point felt like poor insid rip open whole push thing let' say modesti refus room think sens panic horror left given warm compress abdomen notic tube littl sad watch came begin poor insid felt like everi bad hentai movi heard pain horribl think review number wait legendari come back put probot right like pleas lord let stop see found lot religion first session pray die pray kill know prayer relief came stood handl rest busi littl light head got also could earlier tea went pay wait got session ye curiou said ye second session know long review complet differ drank water turn tea left less shaki feel think friend love figur insert far less traumat knew expect pain even close bad fact felt like could fall asleep process night day differ made joke time use massag amaz must feel better mind feel less hazi realli feel detoxifi time get one done like feel littl clean littl comfort would complet recommend place\"\n",
            "0\t1.00\tb'hate-h relationship big chees ever sinc open tri number time fli well post drink honestli never came anywher close make happi friend realli want stop saturday night acquiesc request got larg classic share us enough food sure first time manag cook fri tast slightli burn mayb new batch oil plu gravi actual thick salti massiv improv last time ok saturday night honestli sure ever go base previou experi mediocar best shout ladi work cash regist polit friendli chatti wait great see smile face come midnight stop food'\n",
            "0\t1.00\tb\"happen use eat locat two three time week year ago lunch dinner drink excel stop lunch wednesday octob way home columbu thought asian cuisin urg circl medina squar lol twice order find park space greet nice familiar long-term hostess seat promptli bit wait cristi came take order awar restaur close pm pm order drink request dinner menu want order take-out hubbi app order shrimp chip fresh warm crispi salti pork rind-lik morsel melt mouth everyth rememb also order edamam present mushi grey-green oversalt cold seed pod brown spot left plate screw microwav fresh soy bean would better lunch order seafood nest normal spectacular present lobster meat scallop crab shrimp veggi thick clear sauc nestl hot sizzl deep fri shred potato basket lunch today includ half-tail lobster shell meat grey color grasp remov shell slimi smell fishi put asid extra plate way eat potato basket cold chewi stale seafood mixtur fresh fake crab meat unnatur shred like tassel laid lobster tail order gener tsao' chicken dinner husband take juri still dinner cristi ask lunch non-pluss un-eaten grey lobster tail plate must hurri vamoos heard give bum' rush tabl four men left restaur bill tip return\"\n",
            "1\t0.00\tb'extrem friendli patient onyx attack requir extens medic care took approx month treat contract mrsa addit attack understand patient refer monetari payment advis us best treatment option complet explain risk answer mani mani question feel comfort bring babi check up shot requir visit'\n",
            "1\t0.00\tb'stomach viru went urgent care told need iv would go er wait room abrazo minut taken back got vital led bed doctor came shortli told go get iv urin test blood work done get iv partner jim went cafeteria food absolut rave good food want come sometim lunch iv done doctor came back gave instruct treat viru left everybodi dealt effici profession would definit go abrazo even though anoth er closer live'\n",
            "0\t1.00\tb'clean commerci would describ place lack authent feel ambianc would expect score low flavor valu ratio avocado tomato mayo torta slightli larger hamburg creami flavor avocado tomato soft bun add french fri unfil meal one highlight place condiment station great creami hot red salsa avocado dip fri pepper rare stay away big chain want torta like flavor fell local dine look'\n",
            "0\t1.00\tb\"rice good hibachi chicken hand dri disappoint can't seem find good hibachi place around monroematthew\"\n",
            "0\t1.00\tb'food gener good breakfast food servic run hot cold hostess effect dull normal servic improv would great breakfast place'\n",
            "0\t1.00\tb'place ranch queso cover entir nacho think quesoand ranch veggi sightwho put ranch nacho pleas tell america live inbr real queso put nacho'\n",
            "0\t1.00\tb'ok sushi vegetarian restaur lunch sushi buffet choicesnoth extra ordinari food bland side'\n",
            "1\t0.00\tb'dealt compani twice time excel servic phone repair person fix issu time excel servic'\n",
            "0\t1.00\tb'friendli happi peoplelov custom servic food great matter fact bit disappoint howev time tough peopl provid cheap fill food bread pork special averag pie well receiv smile kept come night tri place stick breakfast menu serv day'\n",
            "0\t1.00\tb\"stop brief trip area food heavi lard whatev use cook everyth made slightli ill sit tummi undigest blah i'll pass next time\"\n",
            "0\t1.00\tb\"novanta lunch decid tri daughter want pizza mood pasta check menu line preselect pappardel bolognes describ four meat sauc hous made ricotta chees pappardel pasta yummi upon arriv sat immedi greet waiter order water request littl time look italian wine list glass bottl year old daughter got basic kid chees pizza order pasta ask got bottl could cork could take remaind home price per glass rather high compar bottle-typ said cours ran yell request bread starv babi girl wine chianti never heard deliv waiter rather ceremoni set tabl tri crack joke state screw top make easi take home walk away open pour check sure like nada minut later food bread deliv simultan daughter' pizza like recal first visit first experi tasti neapolitan style pizza daughter' slightli smaller scale version slightli char perimet cook middl time seem hard pizza pasta put lightli huge disappoint meat hard tast albeit find meal realli lack much memor flavor warrant even rate howev say overal servic pour easi give experi fact possibl rank minu would experi food wine note owner brooklyn pizza place great live corneliu visit brooklyn south locat great pleas read review staff soon possibl recommendation-train staff properti serv bottl wine order diet coke four pasta choic need either upgrad elimin ask chef least retool one need lot four meat live descript bolognes serv cut pizza dough bread bother honestli tonight could gotten better food better servic better overal experi less money brooklyn south locat mention competitor like brixx street birkdal\"\n",
            "1\t0.00\tb\"got break fix price tad higher discount tire refer gave shot match competitor price appreci servic peopl seem like shadi slimi car peopl give five star quot one hour took two i'd go back\"\n",
            "0\t1.00\tb\"overheard girl talk hous pizza one day rave absolut best pizza hand whole wide world sinc connecticut best pizza know admit spike curios enough tri even though we'v pass regularli past year never urg walk super excit tri amaz pizza price seem littl steep best pizza must worth order medium veggi pizza came saw way chees look smell look doubt still high hope took first bite chees sooo thick must good first bite ben immedi exclaim girl high ate pizza thought tast frozen like someth high school cafeteria chees flavor mushroom can hardli sauc idea would ever think pizza best whole wide world mayb matter tast complet flabbergast discuss eat look around realiz one els entir place eat pizza sub look super popular everyon seem happi think ever even finish leftov hate give place star recent read friend' facebook updat discov hop believ gone whole live neighborhood without ever tri also thought amaz complet baffl appar tast prefer warn\"\n",
            "0\t1.00\tb':( food servic good came empti restaur crave lau lau unfortun none made day order kalua pork cabbag loco moco overeasi pork decent flavor lack protein feel like order kalua cabbag side pork :( loco moco flavor gravi quit bland parti bit tough chewi disappoint part cook egg runni yolk cover plate enjoy learn lesson menu item give place anoth shot get intend come next week lau lau'\n",
            "0\t1.00\tb\"serious lazi staff i'm marriott execut platinum life plan return front desk staff knowledg show littl concern us oh room servic hour half wait\"\n",
            "1\t0.00\tb\"almost go samuel neg review hmmm take greet much light enthusiasm procedur coach way technician heather realli took care help massag stomach get stuck thing pass ad coffe coffe enema like experi help lot also ad acidophilu charcoal immun booster echinacea golden seal toward end felt relief know need go back i'm think go back today end given hibiscu tea miner instruct eat right plan get addit yeast intestin i'm happi went\"\n",
            "0\t1.00\tb\"prime rib salt crust almost flavor servic nice awkward vodka gimlet far much rose' lime servic crme brle good\"\n",
            "0\t1.00\tb\"i'v want tri place awhil menu servic drool worthi decor style far profession madison similar big citi nail bar feel howev that' end review advertis walk-in i'v never abl walk-in ive complet ignor last time said i'd wait said problem long women liter stop talk turn away wish thier custom servic reflect level energi put creat atmospher decor\"\n",
            "0\t1.00\tb'everyth look good blandth ice tea good look kind non surger sweeten need bring offer'\n",
            "1\t0.00\tb'left car went cruis australia great cost day drove airport also hour secur car safe'\n",
            "0\t1.00\tb'gotta say place disappoint great name fun late night place right nope good beer select one know anyth beer food ok atmospher sad realli want close plan stick around'\n",
            "1\t0.00\tb'know lot review indic servic bad actual receiv pretti servic everi time came :( speak cantones food okay good place eat cuz mani choic'\n",
            "0\t1.00\tb'buffet use favorit chines spot side town came monday night servic good option select good place mongolian bbq sushi typic chines buffett fair pretti clean part replac item much think find food tast let say fresh go go weekend use coupon pretti cheap beer suggest get one would also suggest go weekend busi replac food weekday busi let sit get eaten'\n",
            "1\t0.00\tb'best custom servic ever sinc repair hold anoth store replac tire brand new one free wow loyal custom forev'\n",
            "0\t1.00\tb'let tell use love lamb briyani karaikudi serious receiv today even close briyani simpli yellow rice lamb piec happen south indian flavor tast briyani gone order anymor'\n",
            "0\t1.00\tb'meh good drink superb gin grapefruit juic concoctionboy howdi would good summer daybut good snow fli rye drink rydi sorghum gingeralso stellar word caution two go well togeth ;) cornbread appet great mayb enough price crispi top bottom hint sweet left want need improv wife catfish slab fri fish big white plate two meager tablespoon coleslaw four hush puppi look unapp like hush puppi wife lukewarm fish much flavor although cook well border laughabl bad oyster appet came bed wood chip borrow nearbi playground fire felt like blow see smolder would ignit set smoke detector serious serv someth smoki smolder wood chip appeal present waiter took drink away without ask finish idiot waiter also proclaim someth order favorit like care want wait staff better train pie crust super tough someon overwork dough stop trader joe way home get food say someth'\n",
            "0\t1.00\tb\"big screen check novelti sport memorabilia wall check giant booth suitabl big crowd check abil make decent burger hickori tavern one place show no-go good food order honey bbq burger waitress courtesi ask want cook appar chef feel like oblig sent well-don burger instead appar honey bbq burger regular burger side honey mustard side bbq sauc look skeptic mix burger experi plate discov sweet spici honey mustard smoki bbq sauc creat favor tast mix togeth en short could gotten regular burger delight instead fri chip could get side steam veget unfortun soggi complet tasteless except twist pepper sad attempt garlic chunk bottom flavor person got teriyaki chicken burger chicken moist well cook thing must marin hell long time teriyaki flavor almost overwhelm extrem salti mayb expens meal made care advertis sport tavern can't make good burger complet plenti local place watch game cozier person know actual make burger customer' specif two peopl wast time place er woodchuck good\"\n",
            "0\t1.00\tb\"mac chees str garb go mind decid put potato chip whenev eat mac chees alway think know miss potato chip who' man\"\n",
            "1\t0.00\tb\"great experi honestli say first time i'm write anyth car whole staff friendli explain everyth without patron exploit fix someth car least three peopl fail address littl thing cost coupl buck fix went beyond custom servic price fair let know thing might want keep eye noth pushi place highli recommend\"\n",
            "1\t0.00\tb'issu resolv respons way far expect would done never expect anyon pay deduct anyth along line issu thing broken got car back time wait fix day time servic tech help told would taken care work anymor note account contact cours rememb awhil famili health issu work month least nonetheless headach time end issu resolv shop made repair caus promis first place thank'\n",
            "1\t0.00\tb\"take-out order onlin order took min readi order lg mongolian beef veg lo mein crab rangoon total sound like lot first order came much food omg left everyth us also give lil crispi dip red sauc gave us eggrol could full even wout crab rangoon delici i'd definitley come back enjoy place beef great tast touch chewi like chines place love went saturday night sever other place wait take food ur wonder thsi place wouldnt seen unless look stephaniew horizon ridg across street metro pizzatimb caddi corner albertson' bella terra west side stephani\"\n",
            "0\t1.00\tb\"i'd heard much meatbal sub pretti excit give go unfortun end gargantuan salti deal realli bring anyth tabl besid lot salt mayb day impress portion mention redic feed high school footbal team someth mayb worth stop\"\n",
            "0\t1.00\tb\"came place attract blogto' boast best lasagna town what' better way tri place famili meal menu set price get tri littl bit well known food come appet salad pasta main cours share rave review thought go best meal live note lasagna pretti good come menu small bigger pasta size return everyth els companion pretti disappoint grant pretti hard screw salad compil freshli chop raw ingredi one salad dress realli sour end take home toss raw veget palat pasta sampler plate provid came pasta choic includ legendari lasagna good thing plate one pasta undercook still crunchi send back al dent control choic main dish abl choos main individu pork chop lamb shank highlight meal pretti disappoint pork chop way overcook tough lamb shank wellw better elsewher expect lot go restaur especi pay includ wine agre afterward gotten lasagna that' place horrend would go way return\"\n",
            "0\t1.00\tb\"end result nail pedicur alway good worth staff work super rude alway crowd even appoint wait told need come morn danni abl take care work job instead take vacat time i'll go elsewher also place acryl place madison\"\n",
            "1\t0.00\tb'asid break lug stud make late get town road trip pull camper will risk broken stud guy great match tire rack less ship cost got truck quickli everyon realli nice howev road forc balanc tire shake steer quickli fix issu offic close would happi spend time twice done first time would thought tire road forc balanc would given overal guy get star make mistak made beauti'\n",
            "0\t1.00\tb'good food servic slow need staff cook serv food great potenti current situat'\n",
            "0\t1.00\tb'friend visit kost twice stay toronto night view nice servic terribl second time visit waiter forgot detail order ask oliv ahi salad mayo side one blt sandwich wait min food come came lot oliv salad mayo bacon kost burger side order brought us finish meal shock thing saw one bartend tast drink stir spoon stir drink spoonlik realli best qualiti hotel rooftop restaur probabl'\n",
            "0\t1.00\tb'could wait go quigliata bbq restaur one top anticip restaur open year realli bbq place local go realli excit tex-mex restaur true bbq place order tradit el jefe style restaur open recent whole experi bad waiter chomp gum never brought plate knife could cut sever request item bbq sauc rib terribl order full rack rib split along sever dinner waiter bring plate go two peopl eat meal ask sever time dish never got larg fatti rib bbq sauc good mix bbq mexican sauc would great type bbq sauc tri side includ meal extra never got fri order either pull pork also plain much flavor put bbq sauc sinc like ask ketchup tast like bbq sauc think actual bbq sauc sweet potato mash marshmallow extrem delici along chicken go back unless big chang made menu cheap eat drink restaur peopl go back near futur food good mind pay good experi food servic'\n",
            "0\t1.00\tb\"pro free underground park elev shop center friendli staff larg wine section plenti checkout lane long fulli staf con cover park lot connect main entranc citi park free shock lack fresh produc small shopp random section seem disorgan bit aloof overal opinion hippie-dippi where' fresh produc expect lot lot better select unless mind produc wrap plastic they'v got lot surpris extraordinarili larg amount dessert sugar process food impress groceri chain promot healthi option come green bay place call fresh thyme gloriou place ton fresh produc bulk syrup like honey molass bulk coffe juiceri deli bakeri overal cost reason expect compar trader joe' told two chain similar recommebd go gener coffe tea section turn farc think type compani coffe hand other place remind world market without intern item without furnitur beer section bought coffe lunch meat bread chees bottl wine egg thought hyve expens recommend place specif item like special flour need gallon milk egg they'v otherwis got crap load dessert\"\n",
            "0\t1.00\tb'friendli front desk peopl sleep deaf air condition cycl constantli louder tv ask around see other similar experi staff graciou enough give free night stay anoth properti breakfast would expect edibl thank good belgian waffl maker'\n",
            "0\t1.00\tb\"okay realli give dumpl hous star closer side side order pork chive egg shrimp dumpl well wonton noodl read variou review avoid korean dish decid listen fellow yelper skip wonton soup base might well water tasteless bland noodl udon-lik noodl first surpris dish tradit noodl use wonton noodl soup second surpris even dish wonton shrimp fill pork fill care much layer-thick wrapper fill quit savori onto suppos specialti dumpl dumpl wrapper thinnest best i'v thu far toronto fill would'v gone quit well bland wonton soup base blah think fill wonton wrapper dumpl item would'v wonder unfortun dumpl geni fail grant wish good place go want fill fast bill came peopl serv size gener\"\n",
            "0\t1.00\tb'sorri want like much pizza except crust burnt even pizza appropri portion sauc top crust still would miss pepperoni'\n",
            "0\t1.00\tb\"refus eat hereiv tri twice open day ago got sick timesth fish fresh dont even tri keep coold dont recommend place dissapoint place would realli conveni i'm crave sushi i'll keep drive neko south blv\"\n",
            "1\t0.00\tb'use onq year manag rental properti mile live alway respons done good job past year ryon genet took posit person work directli quick answer email send answer question may made suggest overal provid even greater level servic happi recommend onq properti manag need gener ryon genet specif get job done'\n",
            "0\t1.00\tb\"here' truth insid seat outsid seat limit two small tabl noisi high traffic street pretzel cold even one ask heat servic also cold unhelp cashier seem though bother ask question chicken salad sandwich pretzel bun noth special husband cheeseburg roll cold even though ask heat ask dip sauc offer us place mayb pick pretzel take home heat definit lunch place suggest\"\n",
            "1\t0.00\tb'went back hour rain guarante servic much better guy wash car took much care detail even free wash left car look x better wash paid even left good tip take lot get leav coupl buck tri full servic wash interior well hope get place star mind interior never dirti car mile difficult task'\n",
            "1\t0.00\tb\"good one drive alway despit fact alway slam littl slow insid i'v never make drink incorrectli\"\n",
            "0\t1.00\tb'yelper disappoint one decid check place due realli great review resto book sad bearer bad news canneri get food mediocr prime rib tough must eaten quarter done end feed dog scallop potato cream spinach properli cook still raw-ish thing enjoy almond bread noth worth come back servic good quick pick dirti dish noth memor pianist play great song enjoy food note save money go outback qualiti food'\n",
            "0\t1.00\tb'thing like restaur eat reason price good atmospher provid order form number item want eat also like grill middl tabl grill overal good atmospher servic place averag poor get realli busi bother come back check us see want food ignor time remind constantli want thing tabl server seem unhappi serv food tast averag provid good meat option appear bother take time marin tast salti would suggest order beef rib lamb chicken varieti kimchi tast averag best overal like eat lot care tast servic go otherwis better korean restaur'\n",
            "0\t1.00\tb'place time alway great servic food time ladi take order extrem rude torta littl carn asada flavor return recommend anyon'\n",
            "1\t0.00\tb'call get quot car also type tint offer notic abl get cheap deal sale yelp also abl get day appoint also ask long would take sinc appoint took hour get car tint job flawless thing happi well lifetim warranti let save headach frustrat search place worth money get done let custom servic point wait car like wait room comfort free soda water also search thru netflix watch someth wait hope enjoy tint job realli enjoy mine car sexi guy'\n",
            "1\t0.00\tb'pleasur deal q prompt profession regard leas process rebeccah access time respons phone call e-mail import'\n",
            "0\t1.00\tb\"came friday night place seem pretti busi turn rate quit high good sinc wait min tabl menu consid limit there' one side menu there' select categori order small spici hous pho larg hous pho within minut place order food came quickest pho place ever either restaur super busi time (: pm friday night everyth premad acceler servic speed gave us small dish bean sprout lime bayleaf alway ask want sinc one small dish quit enough share peopl size noodl quit weird order larg one came larg bowl one came smaller bowl make us feel like one small larg amount food bowl look guess mayb ran size bowl spici hous pho tast exactli hous pho red hot chilli oil noth amaz servic averag basic minim pay much attent tabl tabl gener need someth basic rais hand attent soup tast good figur shortli drink almost half bowl full msg remain night us felt sooo thirsti kept drink water stomach want explod yet still feel thirsti can't imagin much msg put soup msg huge turnoff food abil make good food without ad much crap junk pleas trick custom make bodi suffer price would consid averag around small larg recommend place friendsfamili choic come back\"\n",
            "0\t1.00\tb'nice thing place ambianc unfortun qualiti food quit low rice instanc worst ever eaten recommend restaur anyon much better chines restaur madison cheaper'\n",
            "1\t0.00\tb'great breakfast must new manag waiter pico best manag even came tabl ask food servic place diff entri chang better sure pico'\n",
            "0\t1.00\tb'poke restaur mani mani time found new place definit want check went first time food pretti good compar poke place pop valley restaur clean organ busi sunday noon order regular bowl mix green usual salmon tuna ad avocado gave littl green salad disappoint still hungri finish would never happen place big eater normal regular bowl fill star base quantiti food experi receiv qualiti'\n",
            "1\t0.00\tb'mike came respons home warrant call contact compani right away mike even run ahead schedul incred knowledg abl correctli predict wrong simpli look pool turn issu cover home warranti cost howev mike found exact part need without replac entir section pay basic call fee explain everyth go answer question posit experi'\n",
            "1\t0.00\tb\"hospit bad anyth lot last weekend get sick irrit anyth hospit well set logic set clearli use hospit cleaner look smell like hospit :-) fast time sens smell impecc lobbi nice look thing elev get feel like go fall apart creak groan shriek ick nobodi like freaki elev use number build surgic servic wait room nice flat panel tv' watch news much better wait room noth plenti room cram right next someon need space even need space know banner thunderbird lost cell phone signal one excel :) hope come across shallow love one sudden appendectomi like poor ladi next love one need cell phone recept rn assign famili member great work us quit bit name rick ever get he' great :) cna' great charli funni hell jaim anoth work night rememb name good coupl weird cna' know boundari play attempt touch bandag stapl day fun game other know stick fricken needl partner' arm less time great clean well maintain everyth work know use get bad rep year ago seem chang affect anyth neg reason give star noth made say wow either\"\n",
            "1\t0.00\tb\"issu pump motor start rain storm sever week ago home warranti assign ticket aaron pool contact immedi describ issu schedul time work confirm day mike show time quickli replac bad capacitor took time go beyond answer question pool repair coupl thing point origin ticket coupl minut fast forward two week pump stop work entir call home warranti back got ahold aaron pool contact immedi schedul time conveni technician mikey call ahead time diagnos issu return later day replac pump motor follow next day part need complet job everyth work great understand review perhap review custom everyon i'v dealt extrem pleasant profession help knowledg i'd recommend aaron pool anyon thank guy\"\n",
            "0\t1.00\tb\"decent place app standard american bar fare huge fan type food that' like good job chicken finger fri dip sauc tasti great cholesterol level mid-to-lower-mid price hangout joint bar area staff alway friendli see lot manag seem made differ neg way wait personnel greeter etc young nice\"\n",
            "0\t1.00\tb'great day take stroll yong street decid give place tri pictur burger look absolut delici order look differ super tini mind small long tast good order canadian eh burger tast meat inch high chees melt griddl bacon crispi worst part bun bun moist soggi bun toast enough overal experi good overpr dollar burger'\n",
            "1\t0.00\tb'first time come great experi came fianc play pool coupl beer waitress help told us would wiser choos person pitcher instead regular pitcher cheaper end fianc decid order wing player like spice bit disappoint habanero sauc spici amount sauc put wing cover entireti wing ate half platter came across one realli undercook wing could still see pink littl blood waiter took wing back came back full order wing platter even though alreadi ate half ); apolog undercook wing good experi good custom servic definit back :)'\n",
            "0\t1.00\tb'good servic lot park good menu choic extrem price small portion'\n",
            "0\t1.00\tb'fianc order tom yum soup flavor pho tast like regular broth expect good servic right accept credit card pay front place worth tri'\n",
            "1\t0.00\tb\"thoroughli disappoint cox month decid take risk switch centuri link instal went smoothli technician help nice tack wire cox guy left loos leav phone unhook connect left littl bit nuisanc far we'r enjoy centuri link servic phone issu televis like guid option much cox littl annoy main box time took grant cabl compani past internet good speed surf etc disrupt yet i'v notic littl slow i'm tri watch clip video youtub someth opt fastest internet offer that' littl frustrat watch thing often enough realli affect yet yet receiv bonu incent slate get month also salesperson centurylink nice offer credit us amount instal see get first bill i'll updat review time i'm sure i'll real experi centuri link far good\"\n",
            "1\t0.00\tb'great servic great look arrang drive away front door lock owner came back get drink store park lot suggest leav note window say back minut almost lost sale process drive away saw unlock front door definit use'\n",
            "0\t1.00\tb'food okay actual realli price charg food would rather go elsewher pay less food servic great either see rich asian kid pull exot car time girl seem think food amaz lol place good job market wealthi asian friend seem want check place alway suggest place hot pot opinion home-mad hot pot best unless restaur someth uniqu andor special place'\n",
            "0\t1.00\tb'taco anoth recommend server provid initi sticker shock whop duck taco short rib barbacoa taco crave tender meat settl barbacoa taco huge platter fix arriv chimichurri shave red onion babi gem lettuc fri shallot open basket six soft-shel taco cardboard-lik textur opposit malleabl surpris kost use flour tortilla instead authent corn varieti barbacoa--heaton asleep taught techniqu culinari school fatti flavour beef slice thick strip instead tender fall-off-the-bon shred'\n",
            "0\t1.00\tb\"last time gave less meat sandwich lucki get star bc like eat nice touristi yelper go toronto banh mi boy real good stuffi'm go next meati\"\n",
            "0\t1.00\tb'went check place disappoint wait half hour burger tast decent wait worth order juici luci meat bit dri factori sauc okay bun soft recommend place simpli wait time long'\n",
            "1\t0.00\tb'place ridicul beauti high end group friend went volt like noth ever seen super fun new year complaint hotel room although furnish beauti horribl cheap curtain let light street light also nois street car alarm load hallway nois excess view window alli hotel cost night surpris problem could sleep due light nois staff wonder attent probabl need get better curtain sound proof may worth star'\n",
            "0\t1.00\tb'came monday lunch place pack wait around min tabl special beef pho noodl beef high qualiti unlik vietnames restaur howev broth lot msg noodl portion around averag satay beef pho noodl tast like curri top noodl noth special type noodl use thicker rice noodl noodl one pad thai call tomato fri pho noodl much like one conge queen sweeter ingredi use descent qualiti authent pad thai cook tomato sauc overal star qualiti good tast best authent vietnames food'\n",
            "1\t0.00\tb'nightmar time month old kitti ellen offic manag help lot greatli appreci everyth done kitten'\n",
            "1\t0.00\tb\"brother took father' day servic fast meal came right everybodi else' meal best part even see pay bill\"\n",
            "1\t0.00\tb'love place amaz bread sandwich fabul servic alway great howev guy yellow shirt noon sit tabl chip talk ridicul loud phone watch video even loudli buy headphon rude'\n",
            "1\t0.00\tb\"i'v gone mani car wash place alway come back wash self pretti good go hand mitt wash guy end though dryingdetail realli make differ alway tip detail guy sinc make car shine i'm big fan sinc vacuum spray windowsmirrorsglass detail wheel nice coupon websit mail well coupon big book schoolsstor sell also punch card type system believ wash get one free quick come think get car back minut sparkli clean take time right i'v seen work almost minut detail part depend dirti car long might take want quick wash n go might want take car somewher els\"\n",
            "0\t1.00\tb'compar jack astor throughout citi experi locat wasnt good twice got usual appet cheesi bread medium new york steak start bread could tell wasnt fresh would expect due previou experi locat tast like heat microwav steak wasnt hot got cook wrong temperatur got medium rare rather medium servic wasnt special would tri go anymor'\n",
            "1\t0.00\tb\"drove ahwatuke way bell rd buy use mazda cx anoth dealer dealer told car lunch time said sold made minut drive curios frustrat stop chapman mazda see use cx- luck use car one manag kim suggest might surpris could new one honestli figur price would i'd will pay new put number togeth closer i'd imagin eventu paid littl use car origin go buy second new mazda chapman time felt like deal friendli profession typic high pressur smoke mirror type employ dealer i'd certainli recommend chapman mazda whole experi pleasant car buy get\"\n",
            "0\t1.00\tb\"sashimi nigiri style sushi get salmon sake tuna maguro yellowtail hamachi either style bad news chronic slow put food especi sashimi put pictur illustr problem visit sashimi section twice cours minut pictur repres look like entir time anoth problem worst yellowtail anywher charlott tough hybrid eat raw potato eat actual yellowtail color flavor well yellowtail opaqu hint pink plenti piec bright read streak far thicker cut fish maxim volum overdo suspect use leaner yellowtail caught us instead heavier fish rais japan neg treat like salmon find mess salmon tuna alright item typic chinesemongolianjapanes buffet three separ typic place offer three ubiquit doughi dumpl won-ton multipl varieti heavili bread deep fat fri chicken pepper tso' sesam chicken wing pizza overcook prime rib call prime rib mislead place probabl pass star good stuff display typic type place open strong reduc qualiti hope keep come strap feedbag tokyo grill buffet suffer problem counterpart look tast flavor qualiti lower dish order individu dish normal restaur usual enjoy varieti buffet buffet food tast similar littl varieti unless want indiscrimin shovel food face would skip place altern could buy lb go sashimi stick salmon tuna way could make boat load sushi home cheap doubt keep let peopl buy sashimi grade sushi lb get allow\"\n",
            "0\t1.00\tb'rememb chines place mall wherev come probabl match locat fremont casino perfect stop tire walk across street'\n",
            "1\t0.00\tb'rent hous q properti manag half year servic provid compani excel easi contact person offic peopl work q friendli properti manag ryon excel properti manag alway question tenant problem hous excel liaison landlord tenant jerem account offic also help patient set account client take time explain question real estat investor usual feel comfort state properti manag chang mind found q keep good work q thank much ryon jerem downsid q high fee new tenant search tenant contract renew'\n",
            "1\t0.00\tb\"alreadi love place even yet believ name allison extrem help phone today dentist year insur step parent littl confus process medic insur provid confus fund dental insur phone call end final found dental anoth provid know length went find magic appreci even told love even could figur found i'm happi made appoint i'm excit appoint make appoint alon great i'm assum get better\"\n",
            "1\t0.00\tb'mom went pedicur enjoy relax chair atmospher wait dri toe mom put shoe total smudg big toe immedi swoop fix great servic'\n",
            "0\t1.00\tb'came check place four star yelp boyfriend mood mexican food order green chili plate boyfriend got carn asada burrito share menudo expect food tast authent got food bland tast felt like could gone filerberto got better food thing good place food came fast person took order nice come back eat left unsatisfi'\n",
            "0\t1.00\tb'usual give nice review found place accid like menu store clean cool kind edgi feel nice order kung pao noodl wchicken sadli spici sauc hot chile small serv chicken small portion veggi mostli noodl pass'\n",
            "0\t1.00\tb'place good good basic stuff mean bare bone basic gentleman st station right fantast best far great work fantast get way better experi star sure make sure make appoint book fast name danni today ladi end side felt rush w nail work far mid-rang price rang expect seem rush almost sloppi push peopl line'\n",
            "0\t1.00\tb\"mean ill got feel unwel eat tast good made fresh place look clean feel bad give bad rate base mani fast trip make restroom long visit cant give higher rate time may actual tri futur cool period month get brave tri tell mayb ingredi bug number get touch intestin troubl moment i'm littl gun shi go back time soon happen best restaur look like lot peopl love meal i'm happi enjoy complet experi sinc happen feel duti report happen nov month ago mayb problem contain came batch veget etc hope otherwis like staff like select like mural wall seem like larg place number folk eat even i'm think lunch time rush kind place\"\n",
            "0\t1.00\tb'star got malay chicken curri come potato salad bun good veget soup good milk tea ok curri spici hint malay flavor coconut chicken tender person like previous deep-fri chicken rice super hard dri price hk style area'\n",
            "0\t1.00\tb\"write review thought i'd one sinc hype casher friendli lack knowledg what' drink felt like learn experi side last line drink everyone' order quickli came final got mine minut two peopl front got order passion fruit tea probabl contain half cup syrup good thing get sweeten tea extrem sweet vietnames coffe whatev want better coffe go across street lee' sandwich fruit addict thing decent great better anyon els offer overal place i'd probabl glanc mayb stop i'm tag along peopl\"\n",
            "0\t1.00\tb\"definit good bang buck food get much cost would give around star term straight qualiti would give two realli noth special food provid i'm say bad rather there' noth realli make say wow that' realli good realli make urg come back next day anoth area need someth quick eat banh mi boy great look experi asian fusion higher level place better\"\n",
            "1\t0.00\tb'encount aaron pool home warranti old republ receiv call submit claim abl schedu hour day prior repair visit ladi call give time window tech time profession courteou except job explain step us abl show leak equip loud motor rebuilt provid thorough explan happi work profession expertis demonstr yesterday work done paid deduct possibl chang maintain pool futur'\n",
            "1\t0.00\tb\"prepaid hand wax interior detail last month time wash vacuum fast talk salesman told bring anytim get complet stop today told time realli want could leav pick obvious distress bit upset man speak told set appoint next week he'd wash today free went ever return happi custom made right mistak like earn loyalti went carwash california year i'm glad final found good carwash arizona can't wait return\"\n",
            "1\t0.00\tb'guy great pass colorado spring lo angel hit board nail even though book got first thing morn got car done minut end replac tire punctur sidewal therefor unrepair bought pair tire keep thing even left right minut got two tire replac balanc mount back exist pair move front price reason replac tire manufactur slightli differ similar model friendli staff highli recommend'\n",
            "0\t1.00\tb'fast friendli flavorless beef broccoli tender flavor water'\n",
            "0\t1.00\tb\"great juicehorr custom servic everyon tell owner awesom i'v never met everi time i'm shop employe buddi chillin blow cloud good environ vaper\"\n",
            "1\t0.00\tb'choos star yelp design good get yet actual good experi car dealership one good get use servic depart purchas process x less abus vantuyl dealership throw bunch extra stuff financ process thing went much quickli least half time took us get showcas honda last time bought car discourag anyon go chapman'\n",
            "0\t1.00\tb'averag wait time h food serv slowli wait food time food alway miss order'\n",
            "1\t0.00\tb\"nice peopl bring kali girl sinc week old also spade we'r today year vaccin nail trim\"\n",
            "1\t0.00\tb'help honest mechan met shoddi brake squeak like crazi repair explain break fast wear quicker extrem cold extrem heat greatli effect way wear jim marco help understand basic brake explain keep bad brake super danger sold new brake check fluid sent feel safer knowledg thank help definit return locat help futur'\n",
            "0\t1.00\tb\"tasti food bit disappoint book big parti brother' birthday peopl incred kept commun actual abl accommod adult babi week' notic grew adult shrunk back got flaki prix fix meant three app three pasta share famili style individu entre dish sit tabl peopl get enough food share dish dinner plate size share across us leav everyon liter soup spoon full item huge surpris i'v eaten danforth locat sort setup big parti share plate except size dish peopl tabl parti tabl mayb adult kid anoth tabl adult two kid got amount food pretti stuf end ask second portion pasta realli small amount food per person especi consid price meal server balk gave us anoth serv devour second food good though osso buco bit bland part servic great unfortun dinner end tabl adult still hungri\"\n",
            "1\t0.00\tb'introduc famili friend version hooter coupl year back drop start holiday gluttony-fest bro cousin opt oz tower steam whistl know toleranc consumpt larg volum alc oz disappear sooner thought beer good flavor went well wing cajun wing fav also tri thai chili regular hot sauc flavor enjor vibe wing place much stop went back socal upon return differ experi rude ignor first min seat appar waitress in-charg tabl noob excus luckili melissa respons tabl opposit end restaur took us wing made neglect melissa save place get neg rate wacki wing manag promot melissa'\n",
            "0\t1.00\tb'place go place nem nuong year sinc start ad flour meat nem nuong sweet tast rubberi remind doughi fish cake fish ball actual tast like real meat disappoint'\n",
            "0\t1.00\tb'good naan paratha averag mutton sukka masala poor muttar paneer chicken biryani way price qualiti food get authent biryani one even get close tasti spici rice even well made sad butter chicken mutter paneer seriou meh standard made well bright side made amaz naan paratha bad couldnt enjoy calib dish got place realli busi understand'\n",
            "0\t1.00\tb\"shortli receiv order shred chicken sausag pho noodl soup server came back inform us enough fresh pho noodl cook mom' portion pho ask want vermicelli instead um vermicelli type noodl pho curri would ideal pho could soak sauci cours mom want vermicelli curri chicken server ask want dri pho noodl sinc mom like tast dri pho fresh pho tast better decid forgo order entir anyway order shred chicken sausag pho noodl soup so-so first like broth tasti steam hot hot pho soup broth import shred chicken tender pho noodl decent howev vietnames sausag cut thick tast good fond memori eat vietnames sausag soup noodl almost alway delici one realli disappoint base thick kind flavourless\"\n",
            "1\t0.00\tb'chose kinkad close work brought car oil leak diagnos free said could fix day reason price impress work price brought car oil chang definit use vehicl repair'\n",
            "1\t0.00\tb'ad littl updat reviewin last review told great offic past week pain distraught swallow crown realli prove compassion care honest truli horrif accid swallow crown thanksgiv holiday weekend day chow dinner panic mode call emerg line sunday afternoon left messag minut later call back reassur would fine would get asap fix unfortun town rush home follow day call back wonder doc check make sure okay soon got town seen fix everyon dee dentist incred big famili treat patient like apart famili thank found year ago'\n",
            "1\t0.00\tb'great pho give star bump rate go high rate pho place horribl'\n",
            "0\t1.00\tb\"quit surpris stroll th stumbl upon littl restaur i'v look everywher belov viand fum poutin calgari quit sometim unfortun seem hit right seem skimp necessari ingredi use enough chees curd gravi fri smoke meat bad guess i'm go stick make poutin home small place mayb seat less peopl get crowd weekend night\"\n",
            "0\t1.00\tb\"would give star possibl regularli shop king' vegetarian littl plaza decid one day tri dumpl restaur next door like dumpl good qualiti initi thought go return although place look particularli clean dirti dish clear servic friendli still go return got bill simpli piec paper total amount item tax wrong sever dollar question got satisfactori answer feel like fight paid ask decid never go back want dumpl tri new northern dumpl silverstar will pan fri boil steam dumpl get fabul dumpl plaza store far end plaza dumpl restaur see three four staff prepar dumpl larg tabl super clean dumpl realli good never never return restaur\"\n",
            "0\t1.00\tb\"i'd recommend tri noodlehead lower price pointhigh qualiti chipotl similar price point instead\"\n",
            "0\t1.00\tb'disappoint barbecu honestli meat tough particularli flavor corn bread dri veggi fine noth special tri pork brisket disappoint fair live texa briefli noth compar franklin'\n",
            "1\t0.00\tb'landlord sinc mid alway manag tenant issu read review must admit properti manag challeng busi mani opportun miscommun lot variabl q pay minim amount per month landlord headach go away individu assign account rebeccah arnett happi get done commun tennant rais rent got agreement sign inspect hous got repair bid schedul work see deposit check account nice job q'\n",
            "0\t1.00\tb'bar dead good reason bartend royal prick rude everyon even though pay beer vodka rock mgr put game choic bar pack gotta wonder one dead'\n",
            "1\t0.00\tb'recent bought new car fourth new car purchas good experi protect time money buy car alway stress hate give either got deal want probabl best deal got new car two half hour definit impress fair trade felt like knowledg car competit sale person disappoint compet import frustrat financ depart financ issu though made error document supervisor call work chastis need meet deadlin end come back sign new contract miscalcul credit clarifi think financ get bad rap peopl credit issu summari feel good experi would recommend dealership anyon east valley look mazda purchas mazda'\n",
            "1\t0.00\tb\"stope wednesday morn around visit doctor' offic notic car park lot knew outbreak malaria nearbi assum reason glad came servic bit slow get seat get order place reiter bit slow place pretti crowd lag servic due peopl care want someth light simpl ask egg medium ham steak coffe water food came right brought differ person one took order good teamwork exactli expect also nice loung area coupl leather chair either side fireplac nice altern starbuck would hesit come back paid waitress ask want cup coffe go star went\"\n",
            "0\t1.00\tb'walk took look fish disappoint fresh even risk place order eat lot raw fish sushi sashimi poki absolut subpar would recommend look elsewher'\n",
            "1\t0.00\tb\"sweet year old cat bailey got sick day ago hour stay emerg hospit get snap back home end doctor thought fatti liver diseas simpli interest food treat tuna fish water husband tri day syring feedwat simpli weak miser heartbroken class act girl upon wake today seem live selfish would put trauma yet anoth car ride went onlin search happi end first thing came watch testimoni love inform websit call left messag alicia call back within minut lucki enough could help us today dr fixler assist kind knowledg rush us time need girl get wrong still pain comfort home without dread drive worth everi penni they'r even send us paw-print miss bailey expect thank happi end amaz servic provid\"\n",
            "1\t0.00\tb'pleasant experi thing keep mind accept cash tip need prepar around cash per person arriv atm requir extra fee'\n",
            "0\t1.00\tb'drove far tri place great review sadli da surf rider plate pretti disappoint'\n",
            "0\t1.00\tb'place horribl comic came saturday morn total parti one star goe friendli staff otherwis noth good may first star review whole yelp account order mimosa huge layer pulp top friend hate bubbl toler though one drank five sip wait half hour food mind us either got pancak fruit salad egg benedict like differ order wait would accept point discuss next pancak straight cardboard burnt one friend pancak order miss sausag bacon came later found hidden pancak absolut hilari pancak stack went like pancak bottom hidden bacon pancak middl hidden sausag pancak top even happen lol thank egg benedict order toler end spend littl less hour honestli could made breakfast airbnb save money better tast meal guess good thing came insan good laugh realli wish took pictur hidden bacon sausag though serious priceless'\n",
            "0\t1.00\tb\"start realli nice set pleas look hous julep drink order bar well made serv quickli sat howev readi order first two minut wait minut grab waiter attent place order drink starter wait anoth minut server show drink menu look interest found thing expect mole tamal fri chicken shrimp grit price howev commensur product cast iron skillet corn bread okay great bad expect someth rest food got okay noth special would spend everyth cheaper place could mayb get three star tamal howev worth note horribl mole noth like mole' mexico creativ licens taken welcom short julep worth money particularli cheaper tastier option within block\"\n",
            "1\t0.00\tb\"realli good ice cream previou review averag star can't wrong two points nice guy talk ice cream he' busi care product nd system one server serv group tri get second server involv partyit slow thing work ;-) scream\"\n",
            "0\t1.00\tb\"custom servic custom servic custom servic place absolut concept understand custom servic usual place big hand peopl realli deliv basi custom servic coupl bad appl ruin aji sai like everyon bad appl place horribl sushi bad pretti good select ayc menu select pretti good one thing get fact spider roll tast absolut horribl pretti disgust love crab one tempura alway point pretti good size shrimp tempura batter nice light crispi speed hit miss i'v gotten pretti fast servic time time i'v gotten pretti slow servic realli can't deal server place rude back\"\n",
            "0\t1.00\tb'locat crap compar markham locat bbq duck bone meat bbq pork realli fatti decent qualiti declin past year'\n",
            "1\t0.00\tb\"made bad night realli special nov th around :p boyfriend went pick dinner crappi day even crappier week want sooth sorri soul spici chicken sandwich chick-fil-a place order pull pay food knowingli left wallet home boyfriend reach pocket get sigh deepli turn said left wallet backpack home stomach drop pretti crush seriouslyal want stupid chicken sandwich pull let young blond woman know forgot wallet home pay food smile without miss beat said worri one us guilt second guess problem smile touch thank pull get order get delici food also got extra favorit sauc littl ice cake know stress week know want chicken sandwichy kind stranger drive thru want know stranger realli need appreci young-blonde-woman-who's-name-i-don't-know thank kind thank chick-fil-a empow employe show kind compass custom delici sandwich ever ate :)\"\n",
            "0\t1.00\tb\"sever time live right across street food decent latin american food toronto servic bad bigger space valdez use speakeasi valdez better use hip hop chill back electron douch concept hand pick custom let back pure discrimin sure they'll drop practic year newish spot excit new valdez disappoint\"\n",
            "1\t0.00\tb'two technician came hous geniu kind push servic learn lot would highli recommend anyon use differ pool compani first compani actual knew wrong pool wire start happi'\n",
            "1\t0.00\tb'pretti good deal got drove california week ago car get slam bug dirt drive town decid get ride clean found tnt price reason yelp checkin got discount wait us time'\n",
            "0\t1.00\tb\"well amount food serv money small lot' indian place serv better qualiti quantiti less guy charg small cube chicken butter chicken dish cost small bowl steam rice cost buck come back sure indian restaur expens nowher near fine dine experi\"\n",
            "0\t1.00\tb'joojeh kabob ok ive gone fk time total sadden experi went place sooo excit rememb eat yummi sooo savori time case paid joojeh kabob meal imo that super over-pr especi consid fact got small po kabob liter tini piec piss entir time eat upon enter fk total hella sketchi area enter giant place offic build went counter ask belov chicken breast kabob last time meal came time price normal around got work open food box like wtf chicken cook season sooo disappoint rice also great super plain save grace pita bread def impress'\n",
            "0\t1.00\tb'food expens tast bland spici true flavour servic best dump plate lay'\n",
            "1\t0.00\tb'found wok box work final tri food good mani option custom someth everyon give star cleanest restaur also automat charg larg everi time unless specif ask regular would think would way around absolut worth tri'\n",
            "0\t1.00\tb'food place alright littl overpr compar middleeast eateri order lamb kebob sandwich tast alright someth ever order three small piec lamb rest veget eat sure rather drive go haji baba'\n",
            "0\t1.00\tb\"realli disappoint place we'v tri lot good authent flavour korean place north york place one rib cook tabl rough poorli season done much better rib home side dish bore particularli kim chi let pricey park nearbi well\"\n",
            "0\t1.00\tb\"star love eat chicago food kept want tri joint order phone carri told min order small pan call deep dish pie cost chees enough two adult best part place servic pizza readi min place order pizza okay better part crust although tri cute angl pizza box smash slice small box good thin crust sauc hint tast remind us campbell' tomato soup firm crust spot seem odd deep dish pizza cut like thin pizza thin pizza squar normal chicago deep dish big angl slice everi slice cross major authent chicago place cut ie gino' east lou malnati uno giordano' deep dish style pizza inher mean lot chees well give much see pictur end would get deep dish pan pizza sure would even go back tri thin far buddyz queen creek rosati' fav deep dish\"\n",
            "1\t0.00\tb\"complain nice realli pay comp two ticket superstar comedi hostheadlinershowrunn told bad experi we'v back sinc nxne seem gotten aggress secur guard ticket issu sort great littl place that' bit dive baresqu total worth great show put hope staff keep good work succumb overbook swear\"\n",
            "1\t0.00\tb'custom servic terribl cashier rude food total make make keep return amaz food great tast good qualiti meat'\n",
            "0\t1.00\tb\"know i'm one season rice tast usual rice vinegar tast sushi rice that' usual normal sushi anyon els experi\"\n",
            "1\t0.00\tb'good walk-in last minut beauti fix hurri thread brow reason price howev ladi front bent shape delay appoint appear understaf one ladi everyth greet process payment answer phone thread grant probabl make big deal person thread eyebrow hey understand frustrat one somewher made appoint everyth minut behind treat walk-in prioriti overal enjoy servic end result warn potenti delay'\n",
            "0\t1.00\tb'visit coupl week ago pass smell curri smell realli good sat order malaysian chicken curri naan side rice curri averag smell better tast potato mostli melt curri alreadi naan thick moist servic wise person man entir restaur realli big tabl time servic greatest either doubt come back'\n",
            "0\t1.00\tb'tri restaur base posit review found yelp page unfortun highli disappoint think would visit quit bad hope find new favorit turkish restaur interior decor restaur beauti light colour authent tile millwork invit certainli set happi mood come two major issu first one menu authent turkish restaur still miss mani great dish kind cut short minimum basic cuisin second biggest issu food lack type flavor turkish portion small put shop pro tien top puffi piec bread plate look big appet portion half would expect per plate similar cuisin tri differ item five appet three type entr one dessert unfortun fail impress'\n",
            "0\t1.00\tb'know peopl like place much got beef bowl peopl rave came veget obvious low-qual frozen one beef tender mind thin almost fat miso soup tast like water none saltysavori flavor usual make good'\n",
            "0\t1.00\tb\"disclaim came dinner labour day review base restaur like understaf place close waterfront park boyfriend thought would good idea tri thick crust gotten great review here' take servic ): main reason come back knew wait longer usual good servic would warn us we'd wait around hour food wait minut pizza minut poutin sure waitress kind thank patienc late point want get someth stomach leav larg pino special poutin ): nd reason come back read everi review cheesi full ingredi pizza crust great overal mom pop shop make good pizza make food poison boyfriend paid fact thought someth els brought home left over famili also use bathroom get rid ate figur pino' understaf influx order rush cook pizza well enough poutin pretti standard noth much say cost ): larg pizza poutin tip bad chain serv larg hearti think fairli price ambianc ): mom pop shop expect anyth fanci howev famili friendli clean can't realli ask overal besid kind food poison horrend wait time pizza special nice chang chain like pizza pizza pizza hut special enough come back second round sorri pino'\"\n",
            "0\t1.00\tb'stop breakfast order chicken enchilada plate brother chicken quesadilla chicken super hard old like dark eat left take coupl bite person counter nice smile food terribl typic mexican food usual stay away place advertis authent hungri oh well live learn'\n",
            "0\t1.00\tb'valu moneyrun away place think vegetarian friendli vegetarian item price meagr quantitiesi spent almost entre spartan snacki amountswould come back sorryy'\n",
            "0\t1.00\tb'great place satisfi late night munchi servic slow chees curd cold sure got slew top got bet better organ'\n",
            "0\t1.00\tb\"know i'm minor realli like pretzel shop co-work often pick pretzel birthday offic event everyon spend morn rave delici pretzel cannot stop eat miss someth sit quietli desk rais eyebrow chatter i'v least time cannot say i'v ever enjoy regular pretzel either salt sure prefer custom select random cinnamon sugar tast strang often tast soggi like bag still warm occasion co-work pick-up chees sauc stuff look like melt yellow crayon love type chees look tast terribl ye i'm blasphem toward pittsburgh tradit know i'm sorri i'd much rather get pretzel hofbrauhau even aunti anne' mall\"\n",
            "0\t1.00\tb'ask teriyaki chicken wlo mein noodl got regular chicken angel hair noodl crab rangoon price sub-par food would recommend'\n",
            "1\t0.00\tb'wow read lot review place thing salti enough salt good enough compar luxuri pei wei wow fast food good pad thai uniqu recip nice chang pei wei'\n",
            "0\t1.00\tb'realli sure call place french quarter noth menu item say louisiana french quarter decor slight hint bourbon street famili order bacon burger chicken finger greek wrap real kid menu food tasti waitress cordial nice place basic bar food'\n",
            "0\t1.00\tb'fusion xxx staff'\n",
            "0\t1.00\tb\"honestli worth get hormon free rang stuff combo expect season patti i'm individu get lot sauc burger sub whenev get choic btw even honey mustard even sauc slather meat still tast bland fact grind fresh beef add anyth admir commit healthi cost tast i'd rather hero burger pub\"\n",
            "0\t1.00\tb\"ew lol edibl least low qualiti good drunk food want someth greasi crunk went sober though order kind greasi burger thin curli fri got salad vanilla milkshak split pull porc nacho apet chicken wing ontop i'm happi chees stay gooey entir time nacho hardli salsa i'm happi chip salti everyth felt feel like restaur food felt like went local groceri store bought everyth pre-mad threw togeth disapoint guacomol side dip total bland pull porc wierd sauc yummi chicken wing yummytoo differ size ate larg one first tini one min later harden air condition blast ontop us vanilla milkshak came whip cream candi cherri ontop gave metal cup rest milkshak side nice milkshak fine littl almost finish gulp whip cream warm gross person hate candi cherri unfortun want smore milkshak told marshmallow raw toast dismiss salad joke lol much lettuc compil select ingredi ontop make look good noth underneath besid tone lettuc avocado one select gave th left whole side bowl bowl shape cool though tilt think fav part lol havarti chees thinli slice flavor date look nausiou greas burger touch fri afraid even tri one look like sad curli fri thin realli like way restaur decor air condit way much freez cold x x gave seriou case nippleiti forc slouch back hide behind high counter caus want embarass st date guy thank god shirt black person sit behind date kept hit bench seat jerk date forward lol waitress incred polit way mani peopl got crowd took forev notic leav\"\n",
            "0\t1.00\tb'go somewher els jr burrito chees bean chees burrito paid extra bean ad miss bean sper nacho chees sort wanna guacamol oh carn asada call bistec la plancha friend look good burrito taco place like self know true mexican food go stay away save money'\n",
            "0\t1.00\tb\"came good peopl firm i'v duel piano bar around countri place epic fail one reason one reason way way way price three beer three shot patrn tequilla ran us almost new york pricesbut we'r charlott locat downtown epicentr get wrong charlott nice town noth realli happen command price level price servic perform so-so repeat list\"\n",
            "0\t1.00\tb'disappoint order lil amadhi w pc thigh golden waffl soggi crispi thigh one pc accept juici pc previous fri chicken refri old dri tough'\n",
            "0\t1.00\tb\"usual huge texa roadhous fan sinc colleg i'v love sweet bread cinnamon-i butter fresh caeser salad delici steak meet friend dinner yesterday suggest texa roadhous old time sake pleas seat immedi upon arriv someth alway occur often sinc restaur alway busi server friendli attent excit get usual ceaser salad chicken critter bread fri chicken salad arriv disappoint romain heart bitter left terribl tast mouth salad littl dress chees crouton disappoint thing salad chicken dri overcook small portion usual salad i'm accustom i'm usual huge fan texa roadhous yesterday' experi disappoint servic great food i'm sad say i'm sure plan go back time soon\"\n",
            "0\t1.00\tb\"let' start talk havecarnita lengua cabeza al pastor offer chicken carn asada fish phoenix offer anyth except taco burrito taco burrito option town chico fall face limit option carn asada burrito good specif ask rice said ye wasnt meat okay noth stand wast time way mani option close awesom\"\n",
            "1\t0.00\tb'brought car radiat hose serpentin belt replac dealership quot process remov upper hose outlet radiat broke replac radiat well sinc determin whether broke old brittl bad accident broke replac radiat free first time come repeat custom great job'\n",
            "0\t1.00\tb'great select good price comfort seatingbut food qualiti poorit greasi sit stomach hour eat start feel sick nauseou would recommend'\n",
            "0\t1.00\tb\"list wine bottl realli outstand typic tavern i'v sever time take recent dine first time--each time servic great food mediocr best horribl someth would bring back\"\n",
            "0\t1.00\tb\"never freddy' thought i'd check kind ice cream custard actual look good tri dessert got origin doubl burger look big pictur patti actual hammer thin meat wafer stick bun inch way around super thin crispi i'm juici burger type person thought burger suck flavor dri\"\n",
            "1\t0.00\tb'purchas two mazda vehicl dealership feel mani mazda model best vehicl money market urg check car manufactur compar person like mazda vehicl issu purchas mazda past horribl experi purchas vehicl mazda dealership found often match dealership offer howev end charg unnecessari add-on extran fee thu pay past know ripped-off tire close deal prepar walk dealership inflat final price expos common cardinaleway price quot pay quot alway beaten mazda dealership want return busi referr travel mile across phoenix visit cardinaleway mesa want purchas mazda work wayn deleo highli recommend dealership mazda cx--tour great vehicl experi cardinaleway mazda superb'\n",
            "0\t1.00\tb\"well sadli must agre major review place i'm sure mean hope thing improv continu first visit today lunch overal pretti disappoint first let take ac dine room felt like meat locker everyon sweater jacket wear insid dine room make uncomfort experi even anyth eat drink pull pork jalapeno cheddar sausag corn bread pork good qualiti pretti flavorless bark burnt end sauc add ok great jalapeno cheddar sausag tast like neither jalapeno cheddar unpleas odd graini meati textur corn bread quit good other state mani staff kept tri remov plate done bbq place price point kind foodi pedigre quit disappoint hope thing turn around\"\n",
            "0\t1.00\tb\"i'v look decent vietnames food richmond hill markham area sore disappoint chinese-influenc altern far realli hope green lemon grass least price appreci effort portion conveni locat there' option food plaza desir realli help retain browni point first impress pho mushi broth okay top alright get pho chewi kind noodl prefer quit soft realli feel right first bite kind like bowl neglect long time serv end figur back pho curri rice look promis assort appet platter spring roll skewer fri item larg portion unfortun flavour palett divers look like curri sauc it'll curri sauc flavor matter rice skewer someth els went deep fri item everyth spice they'r bad creat divers order differ item complement far i'v back hand time conveni locat realli close usual chines food still chines food price dcor outdat everyth bit old realli anyth fanci term ambianc servic also short that' similar mani asian place setup\"\n",
            "0\t1.00\tb'absolut love store employe alway friendli help mention trader joe thee best groceri anyon could buy everyth alway fresh neatli organ love fresh flower entranc walk everyth trader joe insid amaz howev peopl know like pay park groceri shop park upstair ramp even ten minut run grab someth quick without pay meter end park ticket ridicul current construct within monro street area like tri find needl haystack come park understand trader joe thing appeal custom giant corpor whatev make store park lot micro size make person tri find spot panic attack want get soy milk banana two major issu lot way small park limit make pay park imagin probabl peopl park extend period time custom good god peopl make two hour park peopl chanc park freeli overstay park time ticket whole situat make blood boil want great food excel servic pleas support trader joe expect free pay park get ticket small fit tri find place park'\n",
            "0\t1.00\tb\"let' start say disappoint place read review good place went dinner around pm weeknight found semi-busi that' good sign fish sit long order eat ayc given menu differ order sheet first thing notic get limit much sashimi could order bad thing roll come terribl dine alon tabl allow smaller portion abl tri food review follow salmon sashimi pretti fresh tast decent size ate pc spici tuna hand roll spici much tast seafood soup order fish bit mushroom small piec squid spider roll seem like crab deep fri long time ago tempura roll tast ok tempura fresh spici tunasalmon roll decent mango icecream probabl nd favourit dish sashimi see get tri much sinc roll fill right final servic realli realli suck ask coupl time tea refil also wait awhil came take order sheet notic younger waitress time talk sushi chef rather serv guest even took time bill recommend place\"\n",
            "1\t0.00\tb'went home warranti get spa fix continu trip breaker technician knowledg let know immedi issu replac part requir quot fair price quick turnaround time aj technician compani gave remind call day appoint hour window aj call front end window day appoint let know minut great work show spa knew good servic'\n",
            "0\t1.00\tb\"mistakenli book think tahiti villag resort vega though place fine hotel note away strip good thing resort restaur bar drink minim continent breakfast sure contin base north america found walk next door denny' starbuck bit often pool small okay hourli free shuttl strip depend part head tri make show awkward requir hour negoti end use cab time concierg servic use clean fairli date place sleep stay noth special beyond\"\n",
            "1\t0.00\tb\"qualiti sushi item realli good compar eat sushi restaur howev servic consist time i'v ask want refil time waiv someon continu come sinc food good\"\n",
            "1\t0.00\tb'anybodi know place close last yoshinoya nevada drive californiath food quit decliou sure close'\n",
            "0\t1.00\tb'cozi place sticki tabl mayb prefer go order order regular burger chees burger fri drink combo less want tri origin burger flavour see someth special wait min got order burger good great juici thought would would buy meat bbq like turn cheaper regular hamburg noth special fri cheap put tall box half bottom box empti place take kid mayb friend burger lover want tri differ flavour burger'\n",
            "1\t0.00\tb'review updat owner messag want know would take make happi want nail repair time could get nail broken noth repair within day two anoth nail crack anoth nail chip chip thumb chip index finger crack pinki let dan know situat ask could fix crack nail cost fix crack nail also repaint nail file chip notic servic dan amaz reason give anoth tri cours go back ladi nail st time period'\n",
            "0\t1.00\tb\"decor nice that' highlight meal lot conge place gta place easili best decor conge place unfortun thought food so-so know place put msg conge place differ seem put extra msg felt super tire thirsti meal top felt littl cheap ingredi shrimp bowl rel conge place i'v put cheap ingredi also order fri rice fri noodl soy sauc beef noodl noth noteworthi compar chines place noth special food sub-par conge price higher regular conge place basic pay decor know chines place often best decor western standard anyway nice decor import suppos make case conge queen want averag better chines food need look elsewher\"\n",
            "1\t0.00\tb'receiv coupon walk around strip somewher hey sort call girl porn buck base ball card stack said hey let go caramel loung coupon place nice music good surpris kudo nicol later mail thank card stop loung wear heel night servic great drink good cours loud bride walk everi thenbut overal would defiantli go back tip hey know alway someon pass kind card hotel strip never know could mayb possibl buy one get one free drink continu cheap play nickel machin hour wait old peg bundi casino chick give water drink'\n",
            "0\t1.00\tb\"good home made style burger alarm size place seat walk patti grill fresh time burger readi somebodi wwould finish thier meal tad pricey though fan butteri good fri bit greasi guess re-fri would give anoth chanc get thier daili special speacial buy one burger get one free differ burger special day week take two goe well i'll updat review\"\n",
            "0\t1.00\tb\"pretti good experi servic good food qualiti point bad cash debit huge minu somewhat prici food good qualiti lot choic beef ribey good veggi ball smaller item ok also wish sauc choic servic point attent time lot peopl ambienc great seat larg tabl lot dish place item without crowd price debit cash option ridicul came per person i'm sure good hotpot end buffet feel place around better\"\n",
            "0\t1.00\tb\"drive saw place decid give tri order brisket sandwich meat tender quit tasti bbq sauc bad love good bbq husband sauc huge part meal i'm sorri say go back anytim soon even though price right\"\n",
            "0\t1.00\tb'went saturday afternoon peopl whole place server imposs get glass water food ok got london broil sandwich would get decent bloodi mari'\n",
            "0\t1.00\tb'smell pinesol overwhelm ew decid take food go beef bowl amaz menu expand'\n",
            "0\t1.00\tb\"place place would recommend tahiti villag much better hotel place feel run stay made feel like everyth dirti condit bed bad comfort good thing place close strip that'\"\n",
            "1\t0.00\tb\"move lake la vega two month ago option either centurylink stick dish dish' billingcustom servic inept gave centrurylink shot despit see noth horribl review far good instal guy prompt friendli profession internet work great cabl tv flawless fee charg advertis\"\n",
            "0\t1.00\tb'usual come chicken salad realli enjoy idea good salad mexican establish great would still return one howev stray last night carn asada burrito sadli meat realli bad tast piec way big full stringi gristl throw meat burrito rest ingredi good cours salsa station realli good advic someth carn asada ok staff alway nice carn issu thumb'\n",
            "1\t0.00\tb\"call home warranti compani request work issu pool pump work order assign aaron pool sunday even got call monday morn friendli help woman schedul tech come next day gave idea tech would advis she'd call back pm let know real time schedul set follow tech hous within window given tech mike look pump identifi issu done homework idea need replac part pick left get allow get work came back replac part test system left receipt check everyth got home pump seem work better sinc move hous six month ago trouble-fre experi\"\n",
            "0\t1.00\tb\"ye decor terrif retro old vintag sandwich gross i'm big fan bologna begin sure felt almost bad staff pretti watch get half fri bologna yuck\"\n",
            "0\t1.00\tb'meh use eat year ago much better bbq pork fri rice tast beef beef broccoli chewi egg roll good guess order'\n",
            "0\t1.00\tb\"kitchen huge unit there' never wait time matter come though restaur live enough plenti custom there' cool shelf toward right side restaur back lot superhero figurin menu big hk style afternoon tea cafe unfortun food hit miss i'v lunch item decent fri rice terribl lunch item come soup asian style borscht drink usual cold drink button push servic better wave waitress portion standard even tad bit larger conge queen would say qualiti match conge queen golden pheonix street\"\n",
            "0\t1.00\tb\"firstli wish could give half rate yelp caus i'd give place seem good select honestli burger terrif got veggi burger look like quinoa patti basic lettuc tomato onion fri chees good select top though love fri chees option sinc that' rare could bare tast patti thick also got side fri man fri terribl thinli cut fine wilt oil realli enjoy unfortun caus realli mood fri ate anyway ladi took order nice got rel quickli caus first line got eat notic layout great actual still similar lot place area there' limit amount thing space small servic burger fri\"\n",
            "1\t0.00\tb'wow realli want give head manag way go new girl cosmet came look fragranc im picki litterali hound staff litt blond ladi accent kept follow throughout store ask said fragranc also want let know would sampl fragranc bought im shock look said ooh ok want sampl proceed dump anoth employe said take want sampl immedi felt compel call manag especi sinc everyon rude except jenni girl pink hair incred warm friendli wow knowledg girl amaz even ask long work knowledg depart astonish complet chang whole percept store longer mad cheer authent approach infecti proceed give sampl amaz fragranc come back girl deserv rais stuck around see fake truli great custom servic surpris great treat everyon cross path outstand custom servic great job jenni'\n",
            "0\t1.00\tb\"ok would give star excel custom servic nice atmospher food authent asian happi larg portion noodl veggi tofu lack sauc seem sauc supposedli spici option :( judg food disappoint also order spring roll go order buck get plain noodl super basic spring roll price i'd rather go real thaivietnames place sorri i'm caucasian cater asian restaur area want real asian food veggi option i'm use get lo angel hawaii\"\n",
            "1\t0.00\tb\"ok like place new age relax walk therapist made feel comfort lube tini tube eas relax sound ocean room smell kinda like potpourri puffcloud powder slowli turn water clear mixtur good bacteria fill warm liquid felt tighten rub stomach help relax fill till take mmmm moan releas fluid fill cover bowl got watch waterslid rush next toxin crayola matchbox car littl children i'v eaten preschool swam wave happi freedom yesheal water felt clean refresh energ left can't wait go back\"\n",
            "0\t1.00\tb\"gh use one favorit bonanza locat serious best sore miss went mark store today lunchwher begin greet less friendli cashier offer slice bread biggi sinc would declin anyway offeredstrang got simpl turkey sandwich bread usual fantast realli lacklust turkey somewhat dri edg chees hard got basil mayo scarc tast it-not one bit mayb disappoint part visit sugar cooki crap happen formerli soft butteri fresh cooki perfect amount delici frost let tell youthey'r found store cooki hard ined hard soft sugar cooki book made gh favorit cooki stop boo add insult injuri get back work realiz never got drink ugh love bread gh back sandwich cooki\"\n",
            "1\t0.00\tb\"descript work rental properti surpris put market four month unsuccess sell unfortun realtor horribl job market price pay two mortgag four month tri sell bad experi previou properti manag compani recent renter' warehousedon't ever ever ever list properti hesit dive back rental market realli choic use angie' list found q solid review gave call q staff first person spoke eric dixon eric good job listen concern understand need get properti rent asap told bad experi renter' warehous explain exactli provid servic encourag find provid actual name someon contact properti rent phone number may may someon work day like heard decid start paperwork eric got properti quickli assess rent readi sent list thing thought need attent gave name peopl would contact photograph market pick key like profession experienc eric phone everyth said actual happen know sound like much ordeal renter' warehous find compani actual say go extrem comfort properti photograph point concern coupl photo michel tyler instead give sort can speech look perfect tri avoid work michel acknowledg concern sent photograph back properti re-shoot area wow true custom servicelisten problem address without self-serv justif extrem nice well team q great job market home liter qualiti tenant great credit score incom statement home less three week time first made phone call happen quickli receiv rent ask made major chang properti could ask better experi thu far anoth realli nice touch instead drive deliv key somewher jordan unga call us told us would neighborhood would swing pick us save us trip compani handl us extrem well thu far profession custom driven happi decis util q manag properti would highli recommend anyon els look properti manag\"\n",
            "0\t1.00\tb'came lunch husband want check place hear good tripa taco alreadi feel go great heck alway pick go let ;) dine area nice clean well maintain definit mexican feel curio spanish tile layout wall girl work counter friendli order carn asada burrito w side rice husband tripa taco chicken taco wait given chip salsa oh gosh tortilla chip tast like fridg tast put someth fridg dont cover well barf hard mexican place get dam tortilla chip tast right salsa howev realli good chunki spici even kick ask girl spici salsa said dont mexican place doesnt serv hot salsa wrong unauthent final got food pretti quickli look husband taco look sad empti bare tripa dam taco chicken taco lettuc tomoato wtf lettuc tomato that crap see taco bell expect cilantro onion cabbag crap burrito kinda small torilla realli good tast homemad warm carn super small cut look like lengua upset right menu say authent bullcrap better go filiberto lo fav arent even authent better'\n",
            "0\t1.00\tb'carb thing awhil first carb load meal chik-fil-a one would think eat carb coupl month anyth would tast divin wrong chi-fil-a use mall younger would hand free sampl yummi fri delici littl toothpick walk would make turn mother beg plead cri eat chik-fil-a realli good memori went tatum locat got super fri chicken fillet need salt gasp actual add salt fri chicken well one tast bland bun soggi fri cold realli carb crave time gone sushi star want star give anoth go ahead week later point eaten mani carb pant button pop cold fri soggi bun wtf back sinc sinc new diet head anytim soon booo'\n",
            "1\t0.00\tb'post coupl poor review email final dug spam folder issu address promptli profession asid lack respons week handl better'\n",
            "0\t1.00\tb\"okay can't say bad eat pricey low qualiti would say like mall food court japanes\"\n",
            "1\t0.00\tb\"love place stylist work excel howev book phone difficult hire someon accent assum russian can't understand go back forth ask repeat everyth ask repeat also mayb manag think exot madden muddl convers second turn minut let' put american work miss daughter today last week got frustrat hung hair time week schedul hair day someon answer phone good understand english book onlin sheesh\"\n",
            "0\t1.00\tb\"heard great deal place friend town want treat someplac littl fanci right cleveland seem like nice spot first walk saturday pm kind surpris busi reserv appar need bar look bit small coupl sit ambianc plain seem bit old worn menu small servic slow consid nobodi would think would faster i'm guess staff sluggish night walk dirti tabl stay dirti even seem like two manag obvious care surpris thing spot price food good drink okay price place overpr servic get sure i'll back better dinner drink east th street head citi go lola' blow joint away\"\n",
            "0\t1.00\tb\"ventur strip bachelor group requir visit yoshinoya live chicago whenev ventur west coast seek yoshinoya never yoshinoya state time locat across kabukicho gate experi three star meat decent cheap howev experi la vega locat disappoint sesam chicken wing tast fresh enough forc consum beef bowl veget uhm ice tea tast fine :) alway describ meat wet bacon overcook rice spot fat meat rice clumpi fat water top cab ride strip back forth buddi bought three larg beef bowl bring back caesar' give two star sinc buddi smile msg drool next three meal ack best bachelor\"\n",
            "1\t0.00\tb\"got soup call mercimek deliciousbut bad thing delay waitress work serv peopl second turkish restaur turkish menu waitress can't speak turkish\"\n",
            "0\t1.00\tb'order hous special beef rice noodl portion small especi top see pictur amount tripe put plu servic bad return place'\n",
            "1\t0.00\tb\"highli recommend research doctor care tri get best deal could never wear contact plane work airplan extrem dri condit caus much discomfort hate wear glass read hundr account botch eye surgeri kept get year research year final found doctor trust thing lasik unless chang doctor certifi surgeri even eye doctor read even dentist could certifi that' fine dandi sinc machin entir procedur someth goe wrong blind rest life over-research found guy one best entir countryregion one pilot work recommend told stricter standard air forc pilot dr wellish lasik peopl travel world correct botch job larg pupil thin cornea qualifi laser lasik use laser creat flap expens procedur think paid around give valium keep eye move suction devic use keep eye still creat bruis white eye last day like hickey eye look aw pain hurt wear protect glass number day even shower cannot wear eye makeup believ least week point instruct use brand new cosmet keep chanc infect mine went smoothli better perfect vision minim ghost also glass around street light night dri eye bad tri wear contact plane current take fish oil pill day complet resolv dri eye issu forget take definit notic satisfi lasik would recommend anyon will research find doctor trust vision would heartbeat want give better pictur possibl outcom mani peopl experi visual distort surgeri still tini bit ghostinghalo effect around bright object night much wors first month experi difficulti drive night even notic anymor i'm sure gone away complet i'v becom use thing continu bother difficultnot enjoy read subtitl white letter black background realli foreign movi might also sinc probabl accustom wear glass nake may surpris butt cute rememb vision :) link check http:wwwfdagovmedicaldevicesproductsandmedicalproceduressurgeryandlifesupportlasikucmhtm http:wwwdoctorozcomarticlehard-look-lasik-surgeri\"\n",
            "0\t1.00\tb\"tldr bbq restaur would like open someon know make bbq seem like take central texan meat market style bbq joint meat good flavor work seem like they'r miss pitmast technic skill smoke depart sauc wateri decent flavor need anoth hour stove tri pork rib pull pork brisket sausag pull pork sausag i'll speak first pork bark i'll repeat emphasi pork bark uniniti finer point bbq bark tasti outer crust rub outsid meat pull pork bark mean flavor sausag tasti garlicki catch flavor jalapeo cheddar tasti move pork rib big meati unfortun suffer lack bark bit dri better pull pork nice smoke pepper flavor chipotl ancho mayb interest note slice brisket best mediocr similar reason prior review meat burnt end nice fatti bark meat none bbq restaur would consid good we'v cover meat i'll keep side fix quick roll simpl dinner yeast roll light crumb high fat content brioch advertis menu pickl onion slaw fine par qualiti friend got cook tri mac n chees corn bread former thin sauc noodl type hold flavor cheddar sauc probabl could use roux addit salt mustard powder flavor corn bread actual solid around mexican underton flavor menu common bbq joint day mayb taco way go can't say plan come back found though note beer list small mayb dozen tap first order avail unclear yet alreadi run manag owner i'd love come help tune-up meat game\"\n",
            "1\t0.00\tb'street taco pretti good husband like carn asada took part cashier suggest carnita taco plu chicken choic listen fulli carnita hook chicken fine justfin real downfal ice tea old tast nasti cashier gladli gave bottl water instead'\n",
            "1\t0.00\tb\"er arrowhead hospit experi visit er right clean cat' litter box recent son experienc abdomin pain new year day day place could take call walk-in place hour wait list took er wow clean friendli quick time got back home hour bad offer warm blanket well wait room fine appendix worri kidney stone ouch honestli insur coverag wast time walk clinic would abl ct scan proper test anyhow er best experi er'\"\n",
            "1\t0.00\tb\"noth posit angel machin honest loyal care call help us crap car screw us price complet honest everyth explain what' happen car understand huge fix pay tj owner work payment plan serious love guy they'v done us never go differ machin\"\n",
            "1\t0.00\tb'month ago experienc irrit right eye sure caus seem happen morn time irrit would last hour leav eye extrem dri red use counter eye drop noth final found wellish vision institut take irrit saw great review treat dr isaac ortiz let say one best eye doctor met staff treat nice begin gave kind eye exam rule caus would time saw dr ortiz lot less pain knowledg explain differ thing could realli took time check make sure comfort time turn bad allerg reaction face wash seen eye doctor dr ortiz figur issu thank dr ortiz abl figur gave kind eyedrop much better anyth get drugstor also educ prevent issu overal great experi use dr ortiz eye doctor'\n",
            "0\t1.00\tb'order fish fri mutton sukka coffe mutton tougher side fish alright coffe save grace'\n",
            "1\t0.00\tb\"order take review food big fan teriyaki steakchicken wife tri sushi thrill said bad much choos area glad one close drive interior littl bland never seem busi we'll probabl stick take\"\n",
            "0\t1.00\tb'place everyth sandwich bake rice noodl conge dim sum name good nope came twice beef brisket noodl first time beef tender soup bland hot came late lunch pork cutlet fri serv thinnest driest toughest pork cutlet think even shun knife would cutabl cut piec would go restaur serv everyth anyth good'\n",
            "1\t0.00\tb'hour layov la vega decid last minut book room place tiana front desk help get us room earli checkout even discount holiday rate one best custom servic experi life'\n",
            "0\t1.00\tb'cute name cute concept kung pao noodl dish surpris lack pow search around piec chicken still thought good enough eat noth special bad also order sampler bunch call small bite think appet call counter everyth done sampler includ cold practic still frozen edamam bunch item serious look like came straight box frozen section groceri store partial frozen edamam pretti much par cours pun intend'\n",
            "0\t1.00\tb\"would come use visit paquim west side one pretti authent first time tri one definit disappoint brought husband think would get great servic food one west side wrong came attend cashier friendli we'r bring busi make us feel like owe taco al pastor we'r bland littl meat husband complain torta tast like cardboard almost flavor come back\"\n",
            "0\t1.00\tb\"late night dine night casino hop end fremont hotel casino small littl place coupl tabl sit went breakfast plate rice portugues sausag egg biscuit like give lot portugues sausag food ehhh egg cold rice cold i'm sure could'v found better place eat fremont hotel dunkin donut pretti stoke would skip place\"\n",
            "0\t1.00\tb'nice store slightli overpr product walk car find park ticket'\n",
            "1\t0.00\tb\"first waffl hous dine outsid south place belong need southern accent trailer trash work waffl house' phoenix colleg boy girl respect downner also nobodi convers counter anyth person counter usual give take deep south subject anyway food still usual never vari pecan waffl small order hash brown cover smother orang juic waffl area holi mess batter good thing cook older ladi much person waffl brown hit spot kinda pricey day meal perhap lone excit occur favorit part wh experi order call waitress yell bacon grill sandwich cook throw grill say oh sausag led fairli short convers big mistak sausag come pig dialogu comic enough attitud air\"\n",
            "1\t0.00\tb\"custom servicetechn support folk provid unbeliev good live old apart build terribl wire short i'v three servic ticket repair complet hour ticket open good knowledg technician gave excel advic help resolv problem andor somehow manag get servic spite wire issu cannot tell good excel servic dispos especi sinc job depend land line avail recommend uncondit\"\n",
            "1\t0.00\tb\"came januari nd air ad tire i'm girl know way vehicl light two day came nye close new yearsor least figur locat mile ice rink logic swing morn way back practic instead drive home chang cloth pull vehicl drag air compressor alway super friendli polit i'm alway impress boy air check alway courteou make feel like hassl wast time quick simpl guy air day even thorough tire check warn insid tire wear alreadi awar go tire like water haha appreci check tread rather fill air send kid ad air tire alway strike convers appreci alway fun strike convers employe clean quick multipl time think time prior wait minut air busi afternoon two vehicl alreadi front mind otherwis i'm alway way\"\n",
            "0\t1.00\tb\"exactli real turkish cuisin know turkish turkish dessert kunef appet okay can't say thing main pay per person expect\"\n",
            "0\t1.00\tb'sometim use outback due proxim home curbsid take away probabl longer tonight order salmon veggi blue chees chop salad fish dri cook veggi undercook lettuc brown dress thick jello one slice lemon found boo place one th street much better'\n",
            "0\t1.00\tb'server surli jennif friendli realli disappoint servic hash brown way good two egg wow need updat price servic'\n",
            "0\t1.00\tb'good prompt courteou friendli servic bad roll bulk doubl layer rice design fill quickli cheapli oldest trick book ayc place ugli sashimi wateri bland borderlin tasteless smell fresh go back mississauga stick heart sushi sushi sushi ayc'\n",
            "0\t1.00\tb'nice place coupl time disappoitnt last week seem like way overbook christma parti couldnt handl crowd well seem like best place holiday place overwelm'\n",
            "0\t1.00\tb'perk cup cafe recent open door month tuck away newli open strip shop berea oh offer primarili breakfast brunch lunch crowd interior well plan spaciou complet rearrang tabl well fireplac nook cozi seat check pictur upload even boast drive-through yet seem open although tout breakfast stop perk cup cafe mean grab-and-go place servic rel slow although impolit slow clearli evid order process tabl servic conclus perk cup either go sit-down breakfast brunch lunch time due recent open lunch time busi weekday food menu perk cup offer breakfast sandwich standard breakfast item like granola yoghurt coffe select standard flavor breakfast stop lunch crowd item choic includ salad light standard cold panini sandwich food item qualiti noth write home standard tast perk cup seem offer nich specialti item come food locat visit berea need spaciou un-crowd place breakfast lunch meet perk cup might good consider'\n",
            "1\t0.00\tb'coupl instanc need thing alway turn ok random er visit emerg gallbladd surgeri visit start acut pancreat turn gallbladd remov surgeri nurs sweet breastfeed time provid pump privat room ask'\n",
            "0\t1.00\tb\"holi scheiss place high review pray none vietnames sandwich far worst banh mi i'v ever tast array vua' vietnames sandwich pm steal toast though appar turn oven sandwich alreadi pre-assembl bag minut went classic unfortun sandwich terribl put onion gravi excess someth cloyingli sweet sticki complet foreign banh mi endeavor pickl veggi insid mushi tasteless instead provid crunch tart bread cours spongi cold seem like it'd hold toast baguett either pate sigh swallow strang gooey sweet quebec place ruin pate neither high low expect place hungri banh mi huge disappoint front besid price come want full buck almost foot sandwich sweet deal actual know banh mi tast like avoid avoid avoid vua' offer\"\n",
            "1\t0.00\tb\"quit nice hotel good restaur attach ate breakfast everi morn comfort sleep room help staff locat right town within walk distanc mani attract progress field make indian game stay annual summer fatherdaught trip catch concert visit attract etc year start nj home state made way cleveland travel car juli st nj concert know would arriv hotel late reserv made day advanc call juli st drive confirm reserv also advis would arriv near est arriv schedul check room quickli without incid next day slept head enjoy citi observ odd sight wait front cab blue plastic tarp complet cover alley hotel build next doorand lot vehicl activ next day warp tour around noon wife email link stori dead bodi found guest room metropolitan happen bodi room next door us needless say daughter freak still anoth night stay convinc everyth fine road earli next day can't understand check us room feet away room dead bodi locat bodi discov juli st day still check remov next day juli nd base tarp articl read local paper feel check us room decept part hotel staff\"\n",
            "0\t1.00\tb'view amaz food crap wine price food noth write server even know carri plate serv'\n",
            "0\t1.00\tb'went breakfast morn disappoint omelett way cook egg crispi husband got chicken waffl also realli cook chicken rock hard dri reason get two star waitress friendli super attent would recommend'\n",
            "0\t1.00\tb'great servic often absolut horribl servic definit good place get breakfast item bad place burger well deal late-night drunk alway harsh realiti come later weeknight hour'\n",
            "0\t1.00\tb'exactli expect food lack flavour season salt pepper rack lamb price pay definit deserv get someth tast better gave star instead servic recommend friend famili'\n",
            "1\t0.00\tb'husband go regularli pedicur alway friendli give good pedi reason give star due charg use credit card money princip first open request payment check instead credit card stop accept check impos cc fee post anywher accept check blind side go go pay'\n",
            "1\t0.00\tb\"stop new wexford locat saturday morn around pack yet line door food absolut delici lukewarm coffe mug definit small hello there' coffe mug logo waitress busi stop refil sat empti cup minut final stop race ask refil simpl caraf tabl would solv problem end two small cup coffe food sat warmer least minut watch plate watch sit final husband got approach window ask take food would behoov owner hire kid high school bu pour coffe deliv food clearli waitress busi top kind thing peek time wait awhil check deliv waitress seem friendli overwhelm visit took minut long time spend breakfast hire teenag hustl could potenti cut table' occup time half\"\n",
            "1\t0.00\tb\"son move rp late aug state found mandi help provid us inform prior actual see place littl concern pay full month' rent actual move last week aug hope would consid pro-rat plan futur also would prefer sign full year' leas case need move decid come home summer still pay juli arriv see place pleasantli surpris includ free shuttl plan expand locat besid campu soon yea nice pool fit center confer room even comput printer addit privat bedroom bathroom everyth look clean well present abl take tour model unit howev wish would explain thing prior share would help know advanc tv provid unit even though fulli furnish one item come also even though includ wi-fi still need router part good one allow stay connect etc run close side abl see unit prior sign leas agreement need give current tenant hour notic move insid unit say shock common area share dirti need note son' roommat still live gone home entir summer vacat awar appar old roommat move left place mess issu somehow unit properli inspect move came mess good news contact properti manag desire discuss everyth dilig made sure everi item address ye inconveni son move work around clean etc get done desire made sure properli compens troubl desire new rp new industri properti manag year know work hard make place safe comfort place live alreadi made chang secur work staff correct polici place respons email phone call quick excel follow skill give rp star problem encount initi move feel confid continu desire make appropri chang issu recommend come discuss post yelp sincer believ desire care address one work hard make sure take care anyth need adher\"\n",
            "0\t1.00\tb'realli enjoy burger tast gener like someth would cook home frozen box patti poutin good sinc place known burger accord name give averag tast anoth complaint seat area realli cram hard fit us comfort lunch time go back'\n",
            "0\t1.00\tb'brisket dri green bean bland bake bean wateri daughter thought soup brisket sandwich okay mac chees good fri okra decent sandwich one side drink would go back'\n",
            "1\t0.00\tb'aaron pool assign warranti compani ah take care pool motorpump overal satisfi servic provid prompt schedul appoint servic tech michael show time michael pretti quick diagnos problem unfortun melt piec stuck motor caus motor work replac motor pump back run less min overal pretti nice experi unlik horror review read give ah aaron pool star rate'\n",
            "1\t0.00\tb\"updat justin spencer' reach via yelp post ask call show empathi situat sincer offer assist hous repair justin turn bad experi posit one relat spencer' refriger final repair today three week first report refridgidair still think store need think long hard brand sell stand stand behind product refridgidair stand behind product origin post bought fridgidair went three week ago tri deal compani repair told one area servic refriger would find someon nightmar three week later repair notifi spencer' websit sold expens applianc local repair support receiv repli spencer' back horribl\"\n",
            "0\t1.00\tb'place right around corner work lot cowork deem friday happi hour locat servic alright alway espn channel beer select mediocr super uncool beer glass incred clean bartend look glass pour drink make cring think would set place star glass thing week later still make cring'\n",
            "1\t0.00\tb\"brougth bmw today window tint explain i'm snow bird car need legal washington state look hook correct percent tint excel job two hour nice wait room tv coffe cold water take visa reciev written lifetim warrenti happi busi walk around love beamer make sure new scratch work perform tint done open window day put green dont open window sticker power window switch would reccomend busi\"\n",
            "0\t1.00\tb\"trader joe' cut cloth almost got brawl staffer tri hard might add convinc they'v never sold lavend laundri deterg look i'm guy guy like lavend sold deterg two differ size year i'v bought see know thing sometim come go ask met resist hostil seem place tj certain rough day put someth pick i'll head back decent price non-perish awkward run someon look like manageri role keep visit minim best\"\n",
            "0\t1.00\tb\"wonderbread kid let start say realli look forward tri jb' went day mexican burger think burger pretti outrag went co-work seem pretti reason servic good pretti dissapoint saw size burger stack wonderbread bun corner avocado explos highlight entir experi went realli well burger fan fact meat claim local hormon free found lack type season greasi took toll wonderbread bun onion ring crispi either kind soft greasi go back time soon\"\n",
            "0\t1.00\tb'tldr brunch food passabl overal expens order pancak stack huge deathli sweet came saturday brunch coupl friend made reserv restaur empti even time done plenti seat servic kind slow especi number peopl mayb one tabl sat order ranchero order one pancak share kind off-menu menu pancak come stack would definit order full stack split one pancak huge includ top peopl even finish sweet ranchero fine honestli pretti plain breakfast latin twist rice good plain white rice bland chorizo bacon hand salti egg tostada kind strang complet fan bean overal good portion food price tag impress'\n",
            "1\t0.00\tb'went get smog check told someth wrong brake decid go meinek noth brake pad dean robert super profession honest dean wait till come back made sure show brake pad fine still mm brake pad left guy alway busi thank servic'\n",
            "0\t1.00\tb'order orang chicken fri rice sweet sour pork food cold tast like sit long rice soggi panda express would definit choos panda'\n",
            "0\t1.00\tb'atmospher noth special tabl well clean food bun bo hue way much fish sauc lot meet veggi fresh banh cuon flour roll unfresh overal back'\n",
            "1\t0.00\tb\"kitchen directli across markvil mall cannot stress enough everi employe go eat break walk surpris littl peopl fill place around pm high hour lunch friend got seat right away share beef ngau hor beef noodl roughli fill us point fight eat last portion complet understand diner get irrit servic waitress somewhat middle-ag chines women realli care ideal societi hold smile say thank tri interact ask life honestli job effici take order bring food clear plate i'll return next hour lunch break tri anoth one dish :)\"\n",
            "1\t0.00\tb\"mom pick airport last week car camri reek gasolin insid notic terribl cold smell anyth next morn borrow car stop kinkade' ask would check let know problem along give price quot mom could make appoint get whatev problem fix wait hour look someon came told mom broken ring ga leak howev also told fix broken ring sever month ago possibl bump malfunct one previou work said reason alon go fix free charg there' instead fix one broken ring replac four new ring still free charg anymor astound mom grate like earli christma gift far concern\"\n",
            "0\t1.00\tb'truli poor servic otherwis pretti descent burger shopp excit tri one delici creation howev vegetarian cannot eat meat patti matter much tri explai staff member matter much money offer differ approx would accommod mani burger option nearbi come back goodby hello w burger'\n",
            "0\t1.00\tb'disappointmenti actual drive mcdowel road look honduran place heard good thing saw place decid give go wish kept drive big fan torta howev could resist temptat order torta de aguac basic avacado sandwich mayocrema jalapeno tomato well lettuc bulk tast mayocrema overpow could finish meal order go tri mask tast home ad variou ingredi attempt improv flavor kill crema morningstar chicken delici new mexican salsa could save sandwich unfortun place clean bread would good without mayo suspect meat torta better vegetarian one other may better experi elot sound interest roast corn cob chees lime chili mayo though go back tri'\n",
            "1\t0.00\tb'food great manag need get handl wait staff sat bar hour watch three waitress liter noth complain work one waitress bring rest crew complain'\n",
            "0\t1.00\tb\"wait hour small pizza deliv disappoint ingredi seem pretti fresh kinda remind tri make pizza home tast complet favorit pizza place get chicago place even still i'v chicago-styl thought much better spot combin high price got i'll choos someplac els next time even papa j' etc\"\n",
            "1\t0.00\tb'came pm place pretti busi consid need tire repair screw appoint end hour wait get vehicl process fairli quick repair back left tire littl hour start finish next time think best book appoint ahead time staff friendli effici servic cover warranti charg guess worth wait lol'\n",
            "1\t0.00\tb\"i'v twice fianc cousin anoth love food gef cook like bit pack insid servic lack nd time around i'm knock star would definit come though\"\n",
            "1\t0.00\tb'place reserv costum servic book br kitchen upon arriv room br without kitchen front desk juli tri speak manag get room chang none avail chang go addit per night owner know sever way identifi type room without kitchen get tutori juli appreci call next morn spoke thea misunderstand reach manag kelli call back notifi go chang room includ kitchen want say thank room clean comfort need'\n",
            "0\t1.00\tb\"ye year i'm late night work late gym hungri place close close coupon denny' diner mediocr diner diner servic good look past review seem constant decid tri someth differ burger chicken-fri steak got chicken skillet thing fanci saute veget potato mayb even pan-fri piec boneless chicken tine thought flavor nice noth special nice opt sunda three scoop ice cream chocol syrup crumbl oreo good sound ok bad good sound like\"\n",
            "0\t1.00\tb\"salad fresh crisp pasta ok pizza' good servic good ask hous red told hous wine notic made order featur wine notic board told sever tabl serv servic cool indiffer food good bring anyon i'm tri impress locat feel special\"\n",
            "0\t1.00\tb'servic wasnt realli good dead slowth price isnt realli worth food got pho call pho dac biet noodl like ball noodl stuck togeth rice isnt good like small bowl rice flip plate make look good problem rice look nice whole plate rice meat egg look weird like face drew year-old offens'\n",
            "0\t1.00\tb\"servic great let' start posit server super friendli daughter hibachi sweet sauc ruin entir dish like hibachi i'v ever husband got ramen tast like packag\"\n",
            "0\t1.00\tb\"former montreal i'v rais poutin teen adult year need right type squeaki chees fri fri twice sauc brown rich well got chees right pretti imagin combin make poutin interest base still sauc fri say they'v complet mess cbc review john gilchrist complet agre review look fri done twice special reason first time lock flavour second help enhanc crisp despit gravi soak even basic place montreal legendari lafleur hot dog fri chain montreal alway done fresh potato cut right spot walk see bag mccain's-lik frozen fri bag open cook came sauc basic lifeless littl real tast except mayb much salt back home poutin gravi made sort beef base great flavour hell peopl know even drink straight meal sauc far powder mix mr gilchrist said whole heartedli agre go make gourmet poutin place go calgari follow basic step least need inspir go canmor tri poutin la bell patat poutin easili match best quebec offer make right peopl\"\n",
            "0\t1.00\tb'cool love pay piec pasta swim lemon water extrem slow servic'\n",
            "0\t1.00\tb'cute space great support small local shop howev coffe pour horrifi clearli sit burner far long never order coffe blech'\n",
            "0\t1.00\tb'want tri dukin sometim final open one near easi access ask cream puff said browni fill ball jelli ball figur great boy wrong order dozen well what best part fill donut ball fill cours tear drop fill lie wast time money regular donut hole pretti much eather put fill dont say browni batter jelli insid fresh also dri sure order'\n",
            "0\t1.00\tb\"get carn asada fri tostada taco combo horribl carn asada fri first chees melt second carn asada flavor tast like rubber also bean carn asada fri first get chanc tri carn asada fri san diego realiz dish ricardo' horrend tostada taco tostada flavor tast like can bean spread top crispi taco shell lettuc taco similar tostada except type meat also flavor i'd recommend go del taco authent flavor\"\n",
            "0\t1.00\tb\"i'v time earli open day month later still lack atmospher seem rest qualiti beer seem hit miss play recip idea food variou food truck park outsid interest voodoo make go need craft brewery' atmospher bit\"\n",
            "0\t1.00\tb'get wrong restaur offer wonder select fresh good qualiti food made give place star servic came lunch time weekend paid price soup base per person definit pricier side lunch pretti high expect order food noth came min awkwardli wait tabl polit ask order apolog server still noth came incred infuri eat hour consid lunch price dinner price expect fulli stock left hungri disappoint definit come back'\n",
            "0\t1.00\tb'place atmospher food probabl worst chineseamerican food ever ate want romant chineseamerican dinner place want good chineseamerican food stay away place never eat servic good though old old fruit garnish drink price cut fresh fruit'\n",
            "1\t0.00\tb'start review never seen compani devot custom go locat year never disappoint month ago took one car get tire chang extrem late felt bad joe welcom without hesit quot brand new tread minut wait came wait room tell back tire differ size normal price would quit bit higher instead joe apolog mistak ate cost day ago tire pressur light came busi guy hard get shop saturday abl stop store although extrem busi assur would car complet within minut go lunch come back car sit front wait rep said found nail repair tire free kind servic hard find age compani push custom alway loyal custom keep great work'\n",
            "1\t0.00\tb'come discount year sinc alway amaz servic today issu wobbl wheel instal dealt dt manag store frank today due circumst met new manag joe joe went unbeliev beyond today remedi issu get back road continu loyal custom thing happen retailwholesal game react make differ win compani lose compani thank joe winner mind set go beyond make nobodi feel like somebodi'\n",
            "0\t1.00\tb'ok want stuff face lot rice pm miss lunch price all-you eat dinner deal realli much deal sushi pizza deep fri greasi get better sushi roll foodcourt back'\n",
            "1\t0.00\tb'told differ compani need brake oil chang took car meinek blue diamond near home let offic kind staff met jim marco gener manag jim explain need brake amaz overal feel know replac brake also comfort know meinek tri fix someth need fix knowledg profession meinek someth truli genuin gym rest staff would recommend place anyon friend'\n",
            "1\t0.00\tb\"we'v taken dog year servic keep get better speak servicejust today pick excit femal lab week stay board car' batteri dead one ladi vet came gave car jump start thank peopl work lone mountain\"\n",
            "1\t0.00\tb\"nice place need call airport shuttl might take bit howev arriv earli abl check good room get work done-lot plug nice desk i'll admit i'm use stay higher price hotel spoil said manag happi hour almost ok noth within walk distanc like restaur ate seem makeshift restaur ok ok seem best describ howev need stay near airport i'll back\"\n",
            "1\t0.00\tb'easi mechan scam peopl bad experi yet trustworthi good job'\n",
            "0\t1.00\tb\"love winter mean hot pot season i'm give two star moral varieti option favorit handmad ball slice meat slice beef marbled-just-enough despit premium option also offer handmad shrimp ball octopu ball yum servic tad bit slow limit mostli mandarin challeng group food item english chines menu differ item chines alcohol seat group order beer forgotten twice soup base default soup individu there' surcharg order larger pot share fan spici lat soup found soup numb side spici realli enjoy place seat typic mani hot pot place cramp found moral comfort overal cleaner park usual pain plaza go underground tnt park instead definit make reserv\"\n",
            "0\t1.00\tb\"sam adam stout italian hoagi good i'v heard pizza good wing ok salti fatti think food rout npl clubhous locat better\"\n",
            "0\t1.00\tb'food cold mac chess order cold bottom waitress took back hot food order brisket pork combo'\n",
            "0\t1.00\tb\"feel rob cent ounc forget recess noth special th frozen yogurt joint that' pop north glendal would think yumberi yogurtplac jujiberri would least tri competit price sub-par yogurt paid less half full topping-less fro-yo learn lesson i'v tast better costco' food court paid hell lost less\"\n",
            "0\t1.00\tb'got pm weekday dec mayb skeleton staff servic realli suck ass smile check back wrong order gotta kid gazpacho good extraordinari surpris waiter even know kind oliv serv sangria good honestli glass ice drink sad year ago ate babareeba chicago amaz experi fun live great food knowledg waitstaff talk follow week go la vega restaur ask simpl question kind oliv oliv appet get blank stare answer begin disappoint experi'\n",
            "0\t1.00\tb\"servic lousi came look pair tight want go fashion show mall barney' experi great qualiti help servic wander around downstair upstair found someon help said well wolford said great love wolford look like doubt could afford real complaint aris said need black pair tight tri find salesperson open drawer left find anyth ask done long stori short end nice pair tight wrong color must nice need repeat custom\"\n",
            "0\t1.00\tb'local alway love place howev today differ stori order glass wine half size serv past question waitress told new manag reduc amt serv keep mind strip properti neighborhood bar next order cajun ahi tuna salad probabl order least time past tuna lightli sear still pink put salad today tuna ice cold appar sear advanc refriger total differ less appeal meal report waitress said spoke kitchen staff maintain tuna sear true go back pt corpor grow leap bound unfortun forget local support effort'\n",
            "0\t1.00\tb\"well octob i'v live year still abl use rang useless run asshol\"\n",
            "0\t1.00\tb'wow min pie thine crust undercook larg pie brooklyn vs across street x better plain old ok pizza def worth money'\n",
            "1\t0.00\tb\"sadli look like there'r korean restaur pgh :'( i'm debat give star tast seem better green pepper portion kinda small smaller least seem price get expens realli miss korean restaur sf tear\"\n",
            "1\t0.00\tb'good compani far issu everi time call email get respons everyth fix taken care daniel maldonado inspect friendli profession young man ontim quickli finish'\n",
            "1\t0.00\tb\"caramel citi high brown eye smile like sunris anywher go i'm spot everyth want got http:wwwyoutubecomwatch?v=uvl-hpensw caramel sweet compani come vega ce find us tabl pimp logo- polyest sweater vest caus that' roll vega bottl grey goos voss black label pierr strewn across tableceo want empti space tabl keep come hot hostess ask directori sale' number napkin oh look pari walk what' girl damn feet big size girl accompani boyfriend femal co-work hey let' go back room i'll leav boyfriend leather chair marbl tabl super-s ottoman transport potteri barn design center intim cozi loungi like i'v never look good sweater vest leather chair wait model\"\n",
            "0\t1.00\tb'con terribl food chicken smell like fish meat smell expens get pro lot park hummu bread good decor beauti'\n",
            "0\t1.00\tb'use go cheat day spot anymor qualiti drop significantli servic dinner bit expens definit better choic varieti reason ingredi seem bit fresh salmon rose favorit item menu use order item wakam salad use great dri tasteless'\n",
            "0\t1.00\tb'chettinad chicken masala sauc good chicken littl piec bone cut chicken tight good valu rate poor boneless chicken biriyani excel fish fri fresh fishi'\n",
            "1\t0.00\tb\"great atmospher food absolut love nd floor loung worker bartend speakeasi part escobar refus serv drink peopl start tab want keep process one one keen provid water dd driver guess lack tip disappoint strang that'\"\n",
            "1\t0.00\tb\"work kevin san tan locat well year residenti rental busi alway count deliv time servic instal answer applianc need spencer' someth everi price point sourc hard fit find item retail cannot set apart retail home deliveri instal haul away servic retail significantli mark spencer' alway come less cost much better servic everi question need call quickli answer phone call track recent purchas lot pride sale instal team\"\n",
            "0\t1.00\tb\"came base yelp review impress clean great wait dentist assum dr dee anoth femal dentist came proceed tell need dental work took surpris sinc last clean differ dentist need work dentist seen pop differ room procedur seem rush definit great first impress i'm make appoint elsewher second opinion tell come back\"\n",
            "0\t1.00\tb\"came jail yearscom lost hair belli protrud rememb last time actual said wow delici children grown move far away well best place crudi old resto chang last year probabl ever food year old would love get hand comfort food peopl develop sophist tast old waitress throw food place counter roll eye drink cola want water finish disgustingli tasteless cheap food good place photo shoot shoot movi take place terribl place eat live street away place went caus friend drag say father use love kid well he' dead know relat terribl eat habit definit help go look place time warp feel stay away food visit juli\"\n",
            "0\t1.00\tb\"stop dinner go sister order sweet sour chicken cook ad fri rice mush dumpl teriyaki chicken we'r good california roll made imit crab serious tasteless decid best part meal nith bundt cake took home desert\"\n",
            "1\t0.00\tb'say neg review read scare aaron pool servic compani home warranti claim leak pool pump awesom came right said would cover home warranti ask upgrad variabl speed pump accommod took price repair new pump instal price profession great compani deal'\n",
            "1\t0.00\tb'call friday appoint could send someon monday guy show time look profession said small part went back got part came back fix pool tri fix pool day luck realli impress older pool tri upsel make bigger deal trust compani refer friend also use big review writer impress servic honesti fix pool thank aaron pool'\n",
            "0\t1.00\tb'tri place late lunch today say bland staff great foodwel much'\n",
            "1\t0.00\tb'experi abrazo arrowhead campu posit enter emerg room sever kidney stone pain saw doctor within minut iv pain med within minut receiv cat scan knew result almost immedi urologist contact promptli surgeri schedul next day wait inpati bed wait long floor care also profession direct dial nursecna realli cut respons time would recommend neighborhood hospit routin care'\n"
          ]
        }
      ]
    },
    {
      "cell_type": "code",
      "metadata": {
        "id": "r-uEJoO7jI4d"
      },
      "source": [
        ""
      ],
      "execution_count": null,
      "outputs": []
    },
    {
      "cell_type": "code",
      "metadata": {
        "id": "ngUUEhwKSwPl"
      },
      "source": [
        "import pickle\n",
        "def save_obj(obj, name ):\n",
        "    with open( name + '.pkl', 'wb') as f:\n",
        "        pickle.dump(obj, f, pickle.HIGHEST_PROTOCOL)\n",
        "\n",
        "def load_obj(name ):\n",
        "    with open( name + '.pkl', 'rb') as f:\n",
        "        return pickle.load(f)"
      ],
      "execution_count": null,
      "outputs": []
    },
    {
      "cell_type": "code",
      "metadata": {
        "id": "yTL7PmCpZofk"
      },
      "source": [
        "save_obj(logprior_dict, \"review_word_logprior\" )\n",
        "save_obj(loglikelihood, \"review_word_loglikelihood\" )"
      ],
      "execution_count": null,
      "outputs": []
    },
    {
      "cell_type": "code",
      "metadata": {
        "colab": {
          "base_uri": "https://localhost:8080/"
        },
        "id": "J6XR96zUafTz",
        "outputId": "1ad7e4f9-4a44-46d7-d918-4582bcf2ddf1"
      },
      "source": [
        "load_obj(\"review_word_logprior\")"
      ],
      "execution_count": null,
      "outputs": [
        {
          "output_type": "execute_result",
          "data": {
            "text/plain": [
              "{'logprior': 0.9947076561838033}"
            ]
          },
          "metadata": {},
          "execution_count": 72
        }
      ]
    },
    {
      "cell_type": "code",
      "metadata": {
        "id": "4ljxWYOeawKg"
      },
      "source": [
        ""
      ],
      "execution_count": null,
      "outputs": []
    }
  ]
}